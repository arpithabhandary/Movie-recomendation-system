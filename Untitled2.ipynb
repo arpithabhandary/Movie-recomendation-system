{
  "nbformat": 4,
  "nbformat_minor": 0,
  "metadata": {
    "colab": {
      "provenance": [],
      "include_colab_link": true
    },
    "kernelspec": {
      "name": "python3",
      "display_name": "Python 3"
    },
    "language_info": {
      "name": "python"
    }
  },
  "cells": [
    {
      "cell_type": "markdown",
      "metadata": {
        "id": "view-in-github",
        "colab_type": "text"
      },
      "source": [
        "<a href=\"https://colab.research.google.com/github/pikachhhuuu/Movie-recomendation-system/blob/main/Untitled2.ipynb\" target=\"_parent\"><img src=\"https://colab.research.google.com/assets/colab-badge.svg\" alt=\"Open In Colab\"/></a>"
      ]
    },
    {
      "cell_type": "markdown",
      "source": [],
      "metadata": {
        "id": "sJpFWDfENQ3y"
      }
    },
    {
      "cell_type": "code",
      "execution_count": null,
      "metadata": {
        "id": "ySPZIOSBSNvc"
      },
      "outputs": [],
      "source": [
        "import pandas as pd"
      ]
    },
    {
      "cell_type": "code",
      "source": [
        "import numpy as np"
      ],
      "metadata": {
        "id": "QooE2-XVTt0R"
      },
      "execution_count": null,
      "outputs": []
    },
    {
      "cell_type": "code",
      "source": [
        "df=pd.read_csv('https://github.com/YBI-Foundation/Dataset/raw/main/Movies%20Recommendation.csv')"
      ],
      "metadata": {
        "id": "_6tUTVUITy4W"
      },
      "execution_count": null,
      "outputs": []
    },
    {
      "cell_type": "code",
      "source": [
        "df.head()"
      ],
      "metadata": {
        "colab": {
          "base_uri": "https://localhost:8080/",
          "height": 672
        },
        "id": "cJI2kKdNUCHf",
        "outputId": "1b2edc6e-b066-4b8a-ff62-dfaf368fc15c"
      },
      "execution_count": null,
      "outputs": [
        {
          "output_type": "execute_result",
          "data": {
            "text/plain": [
              "   Movie_ID      Movie_Title                       Movie_Genre Movie_Language  \\\n",
              "0         1       Four Rooms                      Crime Comedy             en   \n",
              "1         2        Star Wars  Adventure Action Science Fiction             en   \n",
              "2         3     Finding Nemo                  Animation Family             en   \n",
              "3         4     Forrest Gump              Comedy Drama Romance             en   \n",
              "4         5  American Beauty                             Drama             en   \n",
              "\n",
              "   Movie_Budget  Movie_Popularity Movie_Release_Date  Movie_Revenue  \\\n",
              "0       4000000         22.876230         09-12-1995        4300000   \n",
              "1      11000000        126.393695         25-05-1977      775398007   \n",
              "2      94000000         85.688789         30-05-2003      940335536   \n",
              "3      55000000        138.133331         06-07-1994      677945399   \n",
              "4      15000000         80.878605         15-09-1999      356296601   \n",
              "\n",
              "   Movie_Runtime  Movie_Vote  ...  \\\n",
              "0           98.0         6.5  ...   \n",
              "1          121.0         8.1  ...   \n",
              "2          100.0         7.6  ...   \n",
              "3          142.0         8.2  ...   \n",
              "4          122.0         7.9  ...   \n",
              "\n",
              "                                      Movie_Homepage  \\\n",
              "0                                                NaN   \n",
              "1  http://www.starwars.com/films/star-wars-episod...   \n",
              "2              http://movies.disney.com/finding-nemo   \n",
              "3                                                NaN   \n",
              "4                      http://www.dreamworks.com/ab/   \n",
              "\n",
              "                                      Movie_Keywords  \\\n",
              "0          hotel new year's eve witch bet hotel room   \n",
              "1        android galaxy hermit death star lightsaber   \n",
              "2  father son relationship harbor underwater fish...   \n",
              "3  vietnam veteran hippie mentally disabled runni...   \n",
              "4  male nudity female nudity adultery midlife cri...   \n",
              "\n",
              "                                      Movie_Overview  \\\n",
              "0  It's Ted the Bellhop's first night on the job....   \n",
              "1  Princess Leia is captured and held hostage by ...   \n",
              "2  Nemo, an adventurous young clownfish, is unexp...   \n",
              "3  A man with a low IQ has accomplished great thi...   \n",
              "4  Lester Burnham, a depressed suburban father in...   \n",
              "\n",
              "                              Movie_Production_House  \\\n",
              "0  [{\"name\": \"Miramax Films\", \"id\": 14}, {\"name\":...   \n",
              "1  [{\"name\": \"Lucasfilm\", \"id\": 1}, {\"name\": \"Twe...   \n",
              "2     [{\"name\": \"Pixar Animation Studios\", \"id\": 3}]   \n",
              "3          [{\"name\": \"Paramount Pictures\", \"id\": 4}]   \n",
              "4  [{\"name\": \"DreamWorks SKG\", \"id\": 27}, {\"name\"...   \n",
              "\n",
              "                            Movie_Production_Country  \\\n",
              "0  [{\"iso_3166_1\": \"US\", \"name\": \"United States o...   \n",
              "1  [{\"iso_3166_1\": \"US\", \"name\": \"United States o...   \n",
              "2  [{\"iso_3166_1\": \"US\", \"name\": \"United States o...   \n",
              "3  [{\"iso_3166_1\": \"US\", \"name\": \"United States o...   \n",
              "4  [{\"iso_3166_1\": \"US\", \"name\": \"United States o...   \n",
              "\n",
              "                      Movie_Spoken_Language  \\\n",
              "0  [{\"iso_639_1\": \"en\", \"name\": \"English\"}]   \n",
              "1  [{\"iso_639_1\": \"en\", \"name\": \"English\"}]   \n",
              "2  [{\"iso_639_1\": \"en\", \"name\": \"English\"}]   \n",
              "3  [{\"iso_639_1\": \"en\", \"name\": \"English\"}]   \n",
              "4  [{\"iso_639_1\": \"en\", \"name\": \"English\"}]   \n",
              "\n",
              "                                       Movie_Tagline  \\\n",
              "0  Twelve outrageous guests. Four scandalous requ...   \n",
              "1       A long time ago in a galaxy far, far away...   \n",
              "2  There are 3.7 trillion fish in the ocean, they...   \n",
              "3  The world will never be the same, once you've ...   \n",
              "4                                       Look closer.   \n",
              "\n",
              "                                          Movie_Cast  \\\n",
              "0  Tim Roth Antonio Banderas Jennifer Beals Madon...   \n",
              "1  Mark Hamill Harrison Ford Carrie Fisher Peter ...   \n",
              "2  Albert Brooks Ellen DeGeneres Alexander Gould ...   \n",
              "3  Tom Hanks Robin Wright Gary Sinise Mykelti Wil...   \n",
              "4  Kevin Spacey Annette Bening Thora Birch Wes Be...   \n",
              "\n",
              "                                          Movie_Crew   Movie_Director  \n",
              "0  [{'name': 'Allison Anders', 'gender': 1, 'depa...   Allison Anders  \n",
              "1  [{'name': 'George Lucas', 'gender': 2, 'depart...     George Lucas  \n",
              "2  [{'name': 'Andrew Stanton', 'gender': 2, 'depa...   Andrew Stanton  \n",
              "3  [{'name': 'Alan Silvestri', 'gender': 2, 'depa...  Robert Zemeckis  \n",
              "4  [{'name': 'Thomas Newman', 'gender': 2, 'depar...       Sam Mendes  \n",
              "\n",
              "[5 rows x 21 columns]"
            ],
            "text/html": [
              "\n",
              "  <div id=\"df-060d9972-75d2-4d89-ab71-de18d10f23b0\" class=\"colab-df-container\">\n",
              "    <div>\n",
              "<style scoped>\n",
              "    .dataframe tbody tr th:only-of-type {\n",
              "        vertical-align: middle;\n",
              "    }\n",
              "\n",
              "    .dataframe tbody tr th {\n",
              "        vertical-align: top;\n",
              "    }\n",
              "\n",
              "    .dataframe thead th {\n",
              "        text-align: right;\n",
              "    }\n",
              "</style>\n",
              "<table border=\"1\" class=\"dataframe\">\n",
              "  <thead>\n",
              "    <tr style=\"text-align: right;\">\n",
              "      <th></th>\n",
              "      <th>Movie_ID</th>\n",
              "      <th>Movie_Title</th>\n",
              "      <th>Movie_Genre</th>\n",
              "      <th>Movie_Language</th>\n",
              "      <th>Movie_Budget</th>\n",
              "      <th>Movie_Popularity</th>\n",
              "      <th>Movie_Release_Date</th>\n",
              "      <th>Movie_Revenue</th>\n",
              "      <th>Movie_Runtime</th>\n",
              "      <th>Movie_Vote</th>\n",
              "      <th>...</th>\n",
              "      <th>Movie_Homepage</th>\n",
              "      <th>Movie_Keywords</th>\n",
              "      <th>Movie_Overview</th>\n",
              "      <th>Movie_Production_House</th>\n",
              "      <th>Movie_Production_Country</th>\n",
              "      <th>Movie_Spoken_Language</th>\n",
              "      <th>Movie_Tagline</th>\n",
              "      <th>Movie_Cast</th>\n",
              "      <th>Movie_Crew</th>\n",
              "      <th>Movie_Director</th>\n",
              "    </tr>\n",
              "  </thead>\n",
              "  <tbody>\n",
              "    <tr>\n",
              "      <th>0</th>\n",
              "      <td>1</td>\n",
              "      <td>Four Rooms</td>\n",
              "      <td>Crime Comedy</td>\n",
              "      <td>en</td>\n",
              "      <td>4000000</td>\n",
              "      <td>22.876230</td>\n",
              "      <td>09-12-1995</td>\n",
              "      <td>4300000</td>\n",
              "      <td>98.0</td>\n",
              "      <td>6.5</td>\n",
              "      <td>...</td>\n",
              "      <td>NaN</td>\n",
              "      <td>hotel new year's eve witch bet hotel room</td>\n",
              "      <td>It's Ted the Bellhop's first night on the job....</td>\n",
              "      <td>[{\"name\": \"Miramax Films\", \"id\": 14}, {\"name\":...</td>\n",
              "      <td>[{\"iso_3166_1\": \"US\", \"name\": \"United States o...</td>\n",
              "      <td>[{\"iso_639_1\": \"en\", \"name\": \"English\"}]</td>\n",
              "      <td>Twelve outrageous guests. Four scandalous requ...</td>\n",
              "      <td>Tim Roth Antonio Banderas Jennifer Beals Madon...</td>\n",
              "      <td>[{'name': 'Allison Anders', 'gender': 1, 'depa...</td>\n",
              "      <td>Allison Anders</td>\n",
              "    </tr>\n",
              "    <tr>\n",
              "      <th>1</th>\n",
              "      <td>2</td>\n",
              "      <td>Star Wars</td>\n",
              "      <td>Adventure Action Science Fiction</td>\n",
              "      <td>en</td>\n",
              "      <td>11000000</td>\n",
              "      <td>126.393695</td>\n",
              "      <td>25-05-1977</td>\n",
              "      <td>775398007</td>\n",
              "      <td>121.0</td>\n",
              "      <td>8.1</td>\n",
              "      <td>...</td>\n",
              "      <td>http://www.starwars.com/films/star-wars-episod...</td>\n",
              "      <td>android galaxy hermit death star lightsaber</td>\n",
              "      <td>Princess Leia is captured and held hostage by ...</td>\n",
              "      <td>[{\"name\": \"Lucasfilm\", \"id\": 1}, {\"name\": \"Twe...</td>\n",
              "      <td>[{\"iso_3166_1\": \"US\", \"name\": \"United States o...</td>\n",
              "      <td>[{\"iso_639_1\": \"en\", \"name\": \"English\"}]</td>\n",
              "      <td>A long time ago in a galaxy far, far away...</td>\n",
              "      <td>Mark Hamill Harrison Ford Carrie Fisher Peter ...</td>\n",
              "      <td>[{'name': 'George Lucas', 'gender': 2, 'depart...</td>\n",
              "      <td>George Lucas</td>\n",
              "    </tr>\n",
              "    <tr>\n",
              "      <th>2</th>\n",
              "      <td>3</td>\n",
              "      <td>Finding Nemo</td>\n",
              "      <td>Animation Family</td>\n",
              "      <td>en</td>\n",
              "      <td>94000000</td>\n",
              "      <td>85.688789</td>\n",
              "      <td>30-05-2003</td>\n",
              "      <td>940335536</td>\n",
              "      <td>100.0</td>\n",
              "      <td>7.6</td>\n",
              "      <td>...</td>\n",
              "      <td>http://movies.disney.com/finding-nemo</td>\n",
              "      <td>father son relationship harbor underwater fish...</td>\n",
              "      <td>Nemo, an adventurous young clownfish, is unexp...</td>\n",
              "      <td>[{\"name\": \"Pixar Animation Studios\", \"id\": 3}]</td>\n",
              "      <td>[{\"iso_3166_1\": \"US\", \"name\": \"United States o...</td>\n",
              "      <td>[{\"iso_639_1\": \"en\", \"name\": \"English\"}]</td>\n",
              "      <td>There are 3.7 trillion fish in the ocean, they...</td>\n",
              "      <td>Albert Brooks Ellen DeGeneres Alexander Gould ...</td>\n",
              "      <td>[{'name': 'Andrew Stanton', 'gender': 2, 'depa...</td>\n",
              "      <td>Andrew Stanton</td>\n",
              "    </tr>\n",
              "    <tr>\n",
              "      <th>3</th>\n",
              "      <td>4</td>\n",
              "      <td>Forrest Gump</td>\n",
              "      <td>Comedy Drama Romance</td>\n",
              "      <td>en</td>\n",
              "      <td>55000000</td>\n",
              "      <td>138.133331</td>\n",
              "      <td>06-07-1994</td>\n",
              "      <td>677945399</td>\n",
              "      <td>142.0</td>\n",
              "      <td>8.2</td>\n",
              "      <td>...</td>\n",
              "      <td>NaN</td>\n",
              "      <td>vietnam veteran hippie mentally disabled runni...</td>\n",
              "      <td>A man with a low IQ has accomplished great thi...</td>\n",
              "      <td>[{\"name\": \"Paramount Pictures\", \"id\": 4}]</td>\n",
              "      <td>[{\"iso_3166_1\": \"US\", \"name\": \"United States o...</td>\n",
              "      <td>[{\"iso_639_1\": \"en\", \"name\": \"English\"}]</td>\n",
              "      <td>The world will never be the same, once you've ...</td>\n",
              "      <td>Tom Hanks Robin Wright Gary Sinise Mykelti Wil...</td>\n",
              "      <td>[{'name': 'Alan Silvestri', 'gender': 2, 'depa...</td>\n",
              "      <td>Robert Zemeckis</td>\n",
              "    </tr>\n",
              "    <tr>\n",
              "      <th>4</th>\n",
              "      <td>5</td>\n",
              "      <td>American Beauty</td>\n",
              "      <td>Drama</td>\n",
              "      <td>en</td>\n",
              "      <td>15000000</td>\n",
              "      <td>80.878605</td>\n",
              "      <td>15-09-1999</td>\n",
              "      <td>356296601</td>\n",
              "      <td>122.0</td>\n",
              "      <td>7.9</td>\n",
              "      <td>...</td>\n",
              "      <td>http://www.dreamworks.com/ab/</td>\n",
              "      <td>male nudity female nudity adultery midlife cri...</td>\n",
              "      <td>Lester Burnham, a depressed suburban father in...</td>\n",
              "      <td>[{\"name\": \"DreamWorks SKG\", \"id\": 27}, {\"name\"...</td>\n",
              "      <td>[{\"iso_3166_1\": \"US\", \"name\": \"United States o...</td>\n",
              "      <td>[{\"iso_639_1\": \"en\", \"name\": \"English\"}]</td>\n",
              "      <td>Look closer.</td>\n",
              "      <td>Kevin Spacey Annette Bening Thora Birch Wes Be...</td>\n",
              "      <td>[{'name': 'Thomas Newman', 'gender': 2, 'depar...</td>\n",
              "      <td>Sam Mendes</td>\n",
              "    </tr>\n",
              "  </tbody>\n",
              "</table>\n",
              "<p>5 rows × 21 columns</p>\n",
              "</div>\n",
              "    <div class=\"colab-df-buttons\">\n",
              "\n",
              "  <div class=\"colab-df-container\">\n",
              "    <button class=\"colab-df-convert\" onclick=\"convertToInteractive('df-060d9972-75d2-4d89-ab71-de18d10f23b0')\"\n",
              "            title=\"Convert this dataframe to an interactive table.\"\n",
              "            style=\"display:none;\">\n",
              "\n",
              "  <svg xmlns=\"http://www.w3.org/2000/svg\" height=\"24px\" viewBox=\"0 -960 960 960\">\n",
              "    <path d=\"M120-120v-720h720v720H120Zm60-500h600v-160H180v160Zm220 220h160v-160H400v160Zm0 220h160v-160H400v160ZM180-400h160v-160H180v160Zm440 0h160v-160H620v160ZM180-180h160v-160H180v160Zm440 0h160v-160H620v160Z\"/>\n",
              "  </svg>\n",
              "    </button>\n",
              "\n",
              "  <style>\n",
              "    .colab-df-container {\n",
              "      display:flex;\n",
              "      gap: 12px;\n",
              "    }\n",
              "\n",
              "    .colab-df-convert {\n",
              "      background-color: #E8F0FE;\n",
              "      border: none;\n",
              "      border-radius: 50%;\n",
              "      cursor: pointer;\n",
              "      display: none;\n",
              "      fill: #1967D2;\n",
              "      height: 32px;\n",
              "      padding: 0 0 0 0;\n",
              "      width: 32px;\n",
              "    }\n",
              "\n",
              "    .colab-df-convert:hover {\n",
              "      background-color: #E2EBFA;\n",
              "      box-shadow: 0px 1px 2px rgba(60, 64, 67, 0.3), 0px 1px 3px 1px rgba(60, 64, 67, 0.15);\n",
              "      fill: #174EA6;\n",
              "    }\n",
              "\n",
              "    .colab-df-buttons div {\n",
              "      margin-bottom: 4px;\n",
              "    }\n",
              "\n",
              "    [theme=dark] .colab-df-convert {\n",
              "      background-color: #3B4455;\n",
              "      fill: #D2E3FC;\n",
              "    }\n",
              "\n",
              "    [theme=dark] .colab-df-convert:hover {\n",
              "      background-color: #434B5C;\n",
              "      box-shadow: 0px 1px 3px 1px rgba(0, 0, 0, 0.15);\n",
              "      filter: drop-shadow(0px 1px 2px rgba(0, 0, 0, 0.3));\n",
              "      fill: #FFFFFF;\n",
              "    }\n",
              "  </style>\n",
              "\n",
              "    <script>\n",
              "      const buttonEl =\n",
              "        document.querySelector('#df-060d9972-75d2-4d89-ab71-de18d10f23b0 button.colab-df-convert');\n",
              "      buttonEl.style.display =\n",
              "        google.colab.kernel.accessAllowed ? 'block' : 'none';\n",
              "\n",
              "      async function convertToInteractive(key) {\n",
              "        const element = document.querySelector('#df-060d9972-75d2-4d89-ab71-de18d10f23b0');\n",
              "        const dataTable =\n",
              "          await google.colab.kernel.invokeFunction('convertToInteractive',\n",
              "                                                    [key], {});\n",
              "        if (!dataTable) return;\n",
              "\n",
              "        const docLinkHtml = 'Like what you see? Visit the ' +\n",
              "          '<a target=\"_blank\" href=https://colab.research.google.com/notebooks/data_table.ipynb>data table notebook</a>'\n",
              "          + ' to learn more about interactive tables.';\n",
              "        element.innerHTML = '';\n",
              "        dataTable['output_type'] = 'display_data';\n",
              "        await google.colab.output.renderOutput(dataTable, element);\n",
              "        const docLink = document.createElement('div');\n",
              "        docLink.innerHTML = docLinkHtml;\n",
              "        element.appendChild(docLink);\n",
              "      }\n",
              "    </script>\n",
              "  </div>\n",
              "\n",
              "\n",
              "<div id=\"df-e9802ba4-69ad-4f14-badc-87a029cccad6\">\n",
              "  <button class=\"colab-df-quickchart\" onclick=\"quickchart('df-e9802ba4-69ad-4f14-badc-87a029cccad6')\"\n",
              "            title=\"Suggest charts\"\n",
              "            style=\"display:none;\">\n",
              "\n",
              "<svg xmlns=\"http://www.w3.org/2000/svg\" height=\"24px\"viewBox=\"0 0 24 24\"\n",
              "     width=\"24px\">\n",
              "    <g>\n",
              "        <path d=\"M19 3H5c-1.1 0-2 .9-2 2v14c0 1.1.9 2 2 2h14c1.1 0 2-.9 2-2V5c0-1.1-.9-2-2-2zM9 17H7v-7h2v7zm4 0h-2V7h2v10zm4 0h-2v-4h2v4z\"/>\n",
              "    </g>\n",
              "</svg>\n",
              "  </button>\n",
              "\n",
              "<style>\n",
              "  .colab-df-quickchart {\n",
              "      --bg-color: #E8F0FE;\n",
              "      --fill-color: #1967D2;\n",
              "      --hover-bg-color: #E2EBFA;\n",
              "      --hover-fill-color: #174EA6;\n",
              "      --disabled-fill-color: #AAA;\n",
              "      --disabled-bg-color: #DDD;\n",
              "  }\n",
              "\n",
              "  [theme=dark] .colab-df-quickchart {\n",
              "      --bg-color: #3B4455;\n",
              "      --fill-color: #D2E3FC;\n",
              "      --hover-bg-color: #434B5C;\n",
              "      --hover-fill-color: #FFFFFF;\n",
              "      --disabled-bg-color: #3B4455;\n",
              "      --disabled-fill-color: #666;\n",
              "  }\n",
              "\n",
              "  .colab-df-quickchart {\n",
              "    background-color: var(--bg-color);\n",
              "    border: none;\n",
              "    border-radius: 50%;\n",
              "    cursor: pointer;\n",
              "    display: none;\n",
              "    fill: var(--fill-color);\n",
              "    height: 32px;\n",
              "    padding: 0;\n",
              "    width: 32px;\n",
              "  }\n",
              "\n",
              "  .colab-df-quickchart:hover {\n",
              "    background-color: var(--hover-bg-color);\n",
              "    box-shadow: 0 1px 2px rgba(60, 64, 67, 0.3), 0 1px 3px 1px rgba(60, 64, 67, 0.15);\n",
              "    fill: var(--button-hover-fill-color);\n",
              "  }\n",
              "\n",
              "  .colab-df-quickchart-complete:disabled,\n",
              "  .colab-df-quickchart-complete:disabled:hover {\n",
              "    background-color: var(--disabled-bg-color);\n",
              "    fill: var(--disabled-fill-color);\n",
              "    box-shadow: none;\n",
              "  }\n",
              "\n",
              "  .colab-df-spinner {\n",
              "    border: 2px solid var(--fill-color);\n",
              "    border-color: transparent;\n",
              "    border-bottom-color: var(--fill-color);\n",
              "    animation:\n",
              "      spin 1s steps(1) infinite;\n",
              "  }\n",
              "\n",
              "  @keyframes spin {\n",
              "    0% {\n",
              "      border-color: transparent;\n",
              "      border-bottom-color: var(--fill-color);\n",
              "      border-left-color: var(--fill-color);\n",
              "    }\n",
              "    20% {\n",
              "      border-color: transparent;\n",
              "      border-left-color: var(--fill-color);\n",
              "      border-top-color: var(--fill-color);\n",
              "    }\n",
              "    30% {\n",
              "      border-color: transparent;\n",
              "      border-left-color: var(--fill-color);\n",
              "      border-top-color: var(--fill-color);\n",
              "      border-right-color: var(--fill-color);\n",
              "    }\n",
              "    40% {\n",
              "      border-color: transparent;\n",
              "      border-right-color: var(--fill-color);\n",
              "      border-top-color: var(--fill-color);\n",
              "    }\n",
              "    60% {\n",
              "      border-color: transparent;\n",
              "      border-right-color: var(--fill-color);\n",
              "    }\n",
              "    80% {\n",
              "      border-color: transparent;\n",
              "      border-right-color: var(--fill-color);\n",
              "      border-bottom-color: var(--fill-color);\n",
              "    }\n",
              "    90% {\n",
              "      border-color: transparent;\n",
              "      border-bottom-color: var(--fill-color);\n",
              "    }\n",
              "  }\n",
              "</style>\n",
              "\n",
              "  <script>\n",
              "    async function quickchart(key) {\n",
              "      const quickchartButtonEl =\n",
              "        document.querySelector('#' + key + ' button');\n",
              "      quickchartButtonEl.disabled = true;  // To prevent multiple clicks.\n",
              "      quickchartButtonEl.classList.add('colab-df-spinner');\n",
              "      try {\n",
              "        const charts = await google.colab.kernel.invokeFunction(\n",
              "            'suggestCharts', [key], {});\n",
              "      } catch (error) {\n",
              "        console.error('Error during call to suggestCharts:', error);\n",
              "      }\n",
              "      quickchartButtonEl.classList.remove('colab-df-spinner');\n",
              "      quickchartButtonEl.classList.add('colab-df-quickchart-complete');\n",
              "    }\n",
              "    (() => {\n",
              "      let quickchartButtonEl =\n",
              "        document.querySelector('#df-e9802ba4-69ad-4f14-badc-87a029cccad6 button');\n",
              "      quickchartButtonEl.style.display =\n",
              "        google.colab.kernel.accessAllowed ? 'block' : 'none';\n",
              "    })();\n",
              "  </script>\n",
              "</div>\n",
              "\n",
              "    </div>\n",
              "  </div>\n"
            ],
            "application/vnd.google.colaboratory.intrinsic+json": {
              "type": "dataframe",
              "variable_name": "df"
            }
          },
          "metadata": {},
          "execution_count": 8
        }
      ]
    },
    {
      "cell_type": "code",
      "source": [
        "df.info()"
      ],
      "metadata": {
        "colab": {
          "base_uri": "https://localhost:8080/"
        },
        "id": "qZ-mAvI-UF29",
        "outputId": "2b147500-a7df-40d7-c415-269a337b3028"
      },
      "execution_count": null,
      "outputs": [
        {
          "output_type": "stream",
          "name": "stdout",
          "text": [
            "<class 'pandas.core.frame.DataFrame'>\n",
            "RangeIndex: 4760 entries, 0 to 4759\n",
            "Data columns (total 21 columns):\n",
            " #   Column                    Non-Null Count  Dtype  \n",
            "---  ------                    --------------  -----  \n",
            " 0   Movie_ID                  4760 non-null   int64  \n",
            " 1   Movie_Title               4760 non-null   object \n",
            " 2   Movie_Genre               4760 non-null   object \n",
            " 3   Movie_Language            4760 non-null   object \n",
            " 4   Movie_Budget              4760 non-null   int64  \n",
            " 5   Movie_Popularity          4760 non-null   float64\n",
            " 6   Movie_Release_Date        4760 non-null   object \n",
            " 7   Movie_Revenue             4760 non-null   int64  \n",
            " 8   Movie_Runtime             4758 non-null   float64\n",
            " 9   Movie_Vote                4760 non-null   float64\n",
            " 10  Movie_Vote_Count          4760 non-null   int64  \n",
            " 11  Movie_Homepage            1699 non-null   object \n",
            " 12  Movie_Keywords            4373 non-null   object \n",
            " 13  Movie_Overview            4757 non-null   object \n",
            " 14  Movie_Production_House    4760 non-null   object \n",
            " 15  Movie_Production_Country  4760 non-null   object \n",
            " 16  Movie_Spoken_Language     4760 non-null   object \n",
            " 17  Movie_Tagline             3942 non-null   object \n",
            " 18  Movie_Cast                4733 non-null   object \n",
            " 19  Movie_Crew                4760 non-null   object \n",
            " 20  Movie_Director            4738 non-null   object \n",
            "dtypes: float64(3), int64(4), object(14)\n",
            "memory usage: 781.1+ KB\n"
          ]
        }
      ]
    },
    {
      "cell_type": "code",
      "source": [
        "df.shape"
      ],
      "metadata": {
        "colab": {
          "base_uri": "https://localhost:8080/"
        },
        "id": "4ZUWqHhiXTFY",
        "outputId": "aff817da-e97f-4a9a-9f10-49ee8e116923"
      },
      "execution_count": null,
      "outputs": [
        {
          "output_type": "execute_result",
          "data": {
            "text/plain": [
              "(4760, 21)"
            ]
          },
          "metadata": {},
          "execution_count": 11
        }
      ]
    },
    {
      "cell_type": "code",
      "source": [
        "df.columns"
      ],
      "metadata": {
        "colab": {
          "base_uri": "https://localhost:8080/"
        },
        "id": "7wOe7hbOXVGW",
        "outputId": "cdc475d1-6056-4ea4-e503-e5e750961d10"
      },
      "execution_count": null,
      "outputs": [
        {
          "output_type": "execute_result",
          "data": {
            "text/plain": [
              "Index(['Movie_ID', 'Movie_Title', 'Movie_Genre', 'Movie_Language',\n",
              "       'Movie_Budget', 'Movie_Popularity', 'Movie_Release_Date',\n",
              "       'Movie_Revenue', 'Movie_Runtime', 'Movie_Vote', 'Movie_Vote_Count',\n",
              "       'Movie_Homepage', 'Movie_Keywords', 'Movie_Overview',\n",
              "       'Movie_Production_House', 'Movie_Production_Country',\n",
              "       'Movie_Spoken_Language', 'Movie_Tagline', 'Movie_Cast', 'Movie_Crew',\n",
              "       'Movie_Director'],\n",
              "      dtype='object')"
            ]
          },
          "metadata": {},
          "execution_count": 12
        }
      ]
    },
    {
      "cell_type": "code",
      "source": [
        "df_features=df[['Movie_Genre','Movie_Keywords','Movie_Tagline','Movie_Cast','Movie_Director']].fillna('')"
      ],
      "metadata": {
        "id": "wwAKboysXaZD"
      },
      "execution_count": null,
      "outputs": []
    },
    {
      "cell_type": "code",
      "source": [
        "df_features.shape"
      ],
      "metadata": {
        "colab": {
          "base_uri": "https://localhost:8080/"
        },
        "id": "tZu4C51jYLP_",
        "outputId": "8f9daa10-aa3c-4be0-a530-cd69f944779c"
      },
      "execution_count": null,
      "outputs": [
        {
          "output_type": "execute_result",
          "data": {
            "text/plain": [
              "(4760, 5)"
            ]
          },
          "metadata": {},
          "execution_count": 14
        }
      ]
    },
    {
      "cell_type": "code",
      "source": [
        "df_features"
      ],
      "metadata": {
        "colab": {
          "base_uri": "https://localhost:8080/",
          "height": 493
        },
        "id": "OV3beJpjYRHz",
        "outputId": "a8681715-aa48-43c9-d17c-319eb0ad5c5e"
      },
      "execution_count": null,
      "outputs": [
        {
          "output_type": "execute_result",
          "data": {
            "text/plain": [
              "                           Movie_Genre  \\\n",
              "0                         Crime Comedy   \n",
              "1     Adventure Action Science Fiction   \n",
              "2                     Animation Family   \n",
              "3                 Comedy Drama Romance   \n",
              "4                                Drama   \n",
              "...                                ...   \n",
              "4755                            Horror   \n",
              "4756               Comedy Family Drama   \n",
              "4757                    Thriller Drama   \n",
              "4758                            Family   \n",
              "4759                       Documentary   \n",
              "\n",
              "                                         Movie_Keywords  \\\n",
              "0             hotel new year's eve witch bet hotel room   \n",
              "1           android galaxy hermit death star lightsaber   \n",
              "2     father son relationship harbor underwater fish...   \n",
              "3     vietnam veteran hippie mentally disabled runni...   \n",
              "4     male nudity female nudity adultery midlife cri...   \n",
              "...                                                 ...   \n",
              "4755                                                      \n",
              "4756                                                      \n",
              "4757                     christian film sex trafficking   \n",
              "4758                                                      \n",
              "4759  music actors legendary perfomer classic hollyw...   \n",
              "\n",
              "                                          Movie_Tagline  \\\n",
              "0     Twelve outrageous guests. Four scandalous requ...   \n",
              "1          A long time ago in a galaxy far, far away...   \n",
              "2     There are 3.7 trillion fish in the ocean, they...   \n",
              "3     The world will never be the same, once you've ...   \n",
              "4                                          Look closer.   \n",
              "...                                                 ...   \n",
              "4755                The hot spot where Satan's waitin'.   \n",
              "4756           It’s better to stand out than to fit in.   \n",
              "4757           She never knew it could happen to her...   \n",
              "4758                                                      \n",
              "4759                                                      \n",
              "\n",
              "                                             Movie_Cast     Movie_Director  \n",
              "0     Tim Roth Antonio Banderas Jennifer Beals Madon...     Allison Anders  \n",
              "1     Mark Hamill Harrison Ford Carrie Fisher Peter ...       George Lucas  \n",
              "2     Albert Brooks Ellen DeGeneres Alexander Gould ...     Andrew Stanton  \n",
              "3     Tom Hanks Robin Wright Gary Sinise Mykelti Wil...    Robert Zemeckis  \n",
              "4     Kevin Spacey Annette Bening Thora Birch Wes Be...         Sam Mendes  \n",
              "...                                                 ...                ...  \n",
              "4755  Lisa Hart Carroll Michael Des Barres Paul Drak...         Pece Dingo  \n",
              "4756  Roni Akurati Brighton Sharbino Jason Lee Anjul...       Frank Lotito  \n",
              "4757  Nicole Smolen Kim Baldwin Ariana Stephens Brys...       Jaco Booyens  \n",
              "4758                                                                        \n",
              "4759                                    Tony Oppedisano  Simon Napier-Bell  \n",
              "\n",
              "[4760 rows x 5 columns]"
            ],
            "text/html": [
              "\n",
              "  <div id=\"df-c0d4ef48-acc4-402f-9f0a-436f3b3502bf\" class=\"colab-df-container\">\n",
              "    <div>\n",
              "<style scoped>\n",
              "    .dataframe tbody tr th:only-of-type {\n",
              "        vertical-align: middle;\n",
              "    }\n",
              "\n",
              "    .dataframe tbody tr th {\n",
              "        vertical-align: top;\n",
              "    }\n",
              "\n",
              "    .dataframe thead th {\n",
              "        text-align: right;\n",
              "    }\n",
              "</style>\n",
              "<table border=\"1\" class=\"dataframe\">\n",
              "  <thead>\n",
              "    <tr style=\"text-align: right;\">\n",
              "      <th></th>\n",
              "      <th>Movie_Genre</th>\n",
              "      <th>Movie_Keywords</th>\n",
              "      <th>Movie_Tagline</th>\n",
              "      <th>Movie_Cast</th>\n",
              "      <th>Movie_Director</th>\n",
              "    </tr>\n",
              "  </thead>\n",
              "  <tbody>\n",
              "    <tr>\n",
              "      <th>0</th>\n",
              "      <td>Crime Comedy</td>\n",
              "      <td>hotel new year's eve witch bet hotel room</td>\n",
              "      <td>Twelve outrageous guests. Four scandalous requ...</td>\n",
              "      <td>Tim Roth Antonio Banderas Jennifer Beals Madon...</td>\n",
              "      <td>Allison Anders</td>\n",
              "    </tr>\n",
              "    <tr>\n",
              "      <th>1</th>\n",
              "      <td>Adventure Action Science Fiction</td>\n",
              "      <td>android galaxy hermit death star lightsaber</td>\n",
              "      <td>A long time ago in a galaxy far, far away...</td>\n",
              "      <td>Mark Hamill Harrison Ford Carrie Fisher Peter ...</td>\n",
              "      <td>George Lucas</td>\n",
              "    </tr>\n",
              "    <tr>\n",
              "      <th>2</th>\n",
              "      <td>Animation Family</td>\n",
              "      <td>father son relationship harbor underwater fish...</td>\n",
              "      <td>There are 3.7 trillion fish in the ocean, they...</td>\n",
              "      <td>Albert Brooks Ellen DeGeneres Alexander Gould ...</td>\n",
              "      <td>Andrew Stanton</td>\n",
              "    </tr>\n",
              "    <tr>\n",
              "      <th>3</th>\n",
              "      <td>Comedy Drama Romance</td>\n",
              "      <td>vietnam veteran hippie mentally disabled runni...</td>\n",
              "      <td>The world will never be the same, once you've ...</td>\n",
              "      <td>Tom Hanks Robin Wright Gary Sinise Mykelti Wil...</td>\n",
              "      <td>Robert Zemeckis</td>\n",
              "    </tr>\n",
              "    <tr>\n",
              "      <th>4</th>\n",
              "      <td>Drama</td>\n",
              "      <td>male nudity female nudity adultery midlife cri...</td>\n",
              "      <td>Look closer.</td>\n",
              "      <td>Kevin Spacey Annette Bening Thora Birch Wes Be...</td>\n",
              "      <td>Sam Mendes</td>\n",
              "    </tr>\n",
              "    <tr>\n",
              "      <th>...</th>\n",
              "      <td>...</td>\n",
              "      <td>...</td>\n",
              "      <td>...</td>\n",
              "      <td>...</td>\n",
              "      <td>...</td>\n",
              "    </tr>\n",
              "    <tr>\n",
              "      <th>4755</th>\n",
              "      <td>Horror</td>\n",
              "      <td></td>\n",
              "      <td>The hot spot where Satan's waitin'.</td>\n",
              "      <td>Lisa Hart Carroll Michael Des Barres Paul Drak...</td>\n",
              "      <td>Pece Dingo</td>\n",
              "    </tr>\n",
              "    <tr>\n",
              "      <th>4756</th>\n",
              "      <td>Comedy Family Drama</td>\n",
              "      <td></td>\n",
              "      <td>It’s better to stand out than to fit in.</td>\n",
              "      <td>Roni Akurati Brighton Sharbino Jason Lee Anjul...</td>\n",
              "      <td>Frank Lotito</td>\n",
              "    </tr>\n",
              "    <tr>\n",
              "      <th>4757</th>\n",
              "      <td>Thriller Drama</td>\n",
              "      <td>christian film sex trafficking</td>\n",
              "      <td>She never knew it could happen to her...</td>\n",
              "      <td>Nicole Smolen Kim Baldwin Ariana Stephens Brys...</td>\n",
              "      <td>Jaco Booyens</td>\n",
              "    </tr>\n",
              "    <tr>\n",
              "      <th>4758</th>\n",
              "      <td>Family</td>\n",
              "      <td></td>\n",
              "      <td></td>\n",
              "      <td></td>\n",
              "      <td></td>\n",
              "    </tr>\n",
              "    <tr>\n",
              "      <th>4759</th>\n",
              "      <td>Documentary</td>\n",
              "      <td>music actors legendary perfomer classic hollyw...</td>\n",
              "      <td></td>\n",
              "      <td>Tony Oppedisano</td>\n",
              "      <td>Simon Napier-Bell</td>\n",
              "    </tr>\n",
              "  </tbody>\n",
              "</table>\n",
              "<p>4760 rows × 5 columns</p>\n",
              "</div>\n",
              "    <div class=\"colab-df-buttons\">\n",
              "\n",
              "  <div class=\"colab-df-container\">\n",
              "    <button class=\"colab-df-convert\" onclick=\"convertToInteractive('df-c0d4ef48-acc4-402f-9f0a-436f3b3502bf')\"\n",
              "            title=\"Convert this dataframe to an interactive table.\"\n",
              "            style=\"display:none;\">\n",
              "\n",
              "  <svg xmlns=\"http://www.w3.org/2000/svg\" height=\"24px\" viewBox=\"0 -960 960 960\">\n",
              "    <path d=\"M120-120v-720h720v720H120Zm60-500h600v-160H180v160Zm220 220h160v-160H400v160Zm0 220h160v-160H400v160ZM180-400h160v-160H180v160Zm440 0h160v-160H620v160ZM180-180h160v-160H180v160Zm440 0h160v-160H620v160Z\"/>\n",
              "  </svg>\n",
              "    </button>\n",
              "\n",
              "  <style>\n",
              "    .colab-df-container {\n",
              "      display:flex;\n",
              "      gap: 12px;\n",
              "    }\n",
              "\n",
              "    .colab-df-convert {\n",
              "      background-color: #E8F0FE;\n",
              "      border: none;\n",
              "      border-radius: 50%;\n",
              "      cursor: pointer;\n",
              "      display: none;\n",
              "      fill: #1967D2;\n",
              "      height: 32px;\n",
              "      padding: 0 0 0 0;\n",
              "      width: 32px;\n",
              "    }\n",
              "\n",
              "    .colab-df-convert:hover {\n",
              "      background-color: #E2EBFA;\n",
              "      box-shadow: 0px 1px 2px rgba(60, 64, 67, 0.3), 0px 1px 3px 1px rgba(60, 64, 67, 0.15);\n",
              "      fill: #174EA6;\n",
              "    }\n",
              "\n",
              "    .colab-df-buttons div {\n",
              "      margin-bottom: 4px;\n",
              "    }\n",
              "\n",
              "    [theme=dark] .colab-df-convert {\n",
              "      background-color: #3B4455;\n",
              "      fill: #D2E3FC;\n",
              "    }\n",
              "\n",
              "    [theme=dark] .colab-df-convert:hover {\n",
              "      background-color: #434B5C;\n",
              "      box-shadow: 0px 1px 3px 1px rgba(0, 0, 0, 0.15);\n",
              "      filter: drop-shadow(0px 1px 2px rgba(0, 0, 0, 0.3));\n",
              "      fill: #FFFFFF;\n",
              "    }\n",
              "  </style>\n",
              "\n",
              "    <script>\n",
              "      const buttonEl =\n",
              "        document.querySelector('#df-c0d4ef48-acc4-402f-9f0a-436f3b3502bf button.colab-df-convert');\n",
              "      buttonEl.style.display =\n",
              "        google.colab.kernel.accessAllowed ? 'block' : 'none';\n",
              "\n",
              "      async function convertToInteractive(key) {\n",
              "        const element = document.querySelector('#df-c0d4ef48-acc4-402f-9f0a-436f3b3502bf');\n",
              "        const dataTable =\n",
              "          await google.colab.kernel.invokeFunction('convertToInteractive',\n",
              "                                                    [key], {});\n",
              "        if (!dataTable) return;\n",
              "\n",
              "        const docLinkHtml = 'Like what you see? Visit the ' +\n",
              "          '<a target=\"_blank\" href=https://colab.research.google.com/notebooks/data_table.ipynb>data table notebook</a>'\n",
              "          + ' to learn more about interactive tables.';\n",
              "        element.innerHTML = '';\n",
              "        dataTable['output_type'] = 'display_data';\n",
              "        await google.colab.output.renderOutput(dataTable, element);\n",
              "        const docLink = document.createElement('div');\n",
              "        docLink.innerHTML = docLinkHtml;\n",
              "        element.appendChild(docLink);\n",
              "      }\n",
              "    </script>\n",
              "  </div>\n",
              "\n",
              "\n",
              "<div id=\"df-c5e5ccbc-e967-4ffb-9048-2aed13a5c579\">\n",
              "  <button class=\"colab-df-quickchart\" onclick=\"quickchart('df-c5e5ccbc-e967-4ffb-9048-2aed13a5c579')\"\n",
              "            title=\"Suggest charts\"\n",
              "            style=\"display:none;\">\n",
              "\n",
              "<svg xmlns=\"http://www.w3.org/2000/svg\" height=\"24px\"viewBox=\"0 0 24 24\"\n",
              "     width=\"24px\">\n",
              "    <g>\n",
              "        <path d=\"M19 3H5c-1.1 0-2 .9-2 2v14c0 1.1.9 2 2 2h14c1.1 0 2-.9 2-2V5c0-1.1-.9-2-2-2zM9 17H7v-7h2v7zm4 0h-2V7h2v10zm4 0h-2v-4h2v4z\"/>\n",
              "    </g>\n",
              "</svg>\n",
              "  </button>\n",
              "\n",
              "<style>\n",
              "  .colab-df-quickchart {\n",
              "      --bg-color: #E8F0FE;\n",
              "      --fill-color: #1967D2;\n",
              "      --hover-bg-color: #E2EBFA;\n",
              "      --hover-fill-color: #174EA6;\n",
              "      --disabled-fill-color: #AAA;\n",
              "      --disabled-bg-color: #DDD;\n",
              "  }\n",
              "\n",
              "  [theme=dark] .colab-df-quickchart {\n",
              "      --bg-color: #3B4455;\n",
              "      --fill-color: #D2E3FC;\n",
              "      --hover-bg-color: #434B5C;\n",
              "      --hover-fill-color: #FFFFFF;\n",
              "      --disabled-bg-color: #3B4455;\n",
              "      --disabled-fill-color: #666;\n",
              "  }\n",
              "\n",
              "  .colab-df-quickchart {\n",
              "    background-color: var(--bg-color);\n",
              "    border: none;\n",
              "    border-radius: 50%;\n",
              "    cursor: pointer;\n",
              "    display: none;\n",
              "    fill: var(--fill-color);\n",
              "    height: 32px;\n",
              "    padding: 0;\n",
              "    width: 32px;\n",
              "  }\n",
              "\n",
              "  .colab-df-quickchart:hover {\n",
              "    background-color: var(--hover-bg-color);\n",
              "    box-shadow: 0 1px 2px rgba(60, 64, 67, 0.3), 0 1px 3px 1px rgba(60, 64, 67, 0.15);\n",
              "    fill: var(--button-hover-fill-color);\n",
              "  }\n",
              "\n",
              "  .colab-df-quickchart-complete:disabled,\n",
              "  .colab-df-quickchart-complete:disabled:hover {\n",
              "    background-color: var(--disabled-bg-color);\n",
              "    fill: var(--disabled-fill-color);\n",
              "    box-shadow: none;\n",
              "  }\n",
              "\n",
              "  .colab-df-spinner {\n",
              "    border: 2px solid var(--fill-color);\n",
              "    border-color: transparent;\n",
              "    border-bottom-color: var(--fill-color);\n",
              "    animation:\n",
              "      spin 1s steps(1) infinite;\n",
              "  }\n",
              "\n",
              "  @keyframes spin {\n",
              "    0% {\n",
              "      border-color: transparent;\n",
              "      border-bottom-color: var(--fill-color);\n",
              "      border-left-color: var(--fill-color);\n",
              "    }\n",
              "    20% {\n",
              "      border-color: transparent;\n",
              "      border-left-color: var(--fill-color);\n",
              "      border-top-color: var(--fill-color);\n",
              "    }\n",
              "    30% {\n",
              "      border-color: transparent;\n",
              "      border-left-color: var(--fill-color);\n",
              "      border-top-color: var(--fill-color);\n",
              "      border-right-color: var(--fill-color);\n",
              "    }\n",
              "    40% {\n",
              "      border-color: transparent;\n",
              "      border-right-color: var(--fill-color);\n",
              "      border-top-color: var(--fill-color);\n",
              "    }\n",
              "    60% {\n",
              "      border-color: transparent;\n",
              "      border-right-color: var(--fill-color);\n",
              "    }\n",
              "    80% {\n",
              "      border-color: transparent;\n",
              "      border-right-color: var(--fill-color);\n",
              "      border-bottom-color: var(--fill-color);\n",
              "    }\n",
              "    90% {\n",
              "      border-color: transparent;\n",
              "      border-bottom-color: var(--fill-color);\n",
              "    }\n",
              "  }\n",
              "</style>\n",
              "\n",
              "  <script>\n",
              "    async function quickchart(key) {\n",
              "      const quickchartButtonEl =\n",
              "        document.querySelector('#' + key + ' button');\n",
              "      quickchartButtonEl.disabled = true;  // To prevent multiple clicks.\n",
              "      quickchartButtonEl.classList.add('colab-df-spinner');\n",
              "      try {\n",
              "        const charts = await google.colab.kernel.invokeFunction(\n",
              "            'suggestCharts', [key], {});\n",
              "      } catch (error) {\n",
              "        console.error('Error during call to suggestCharts:', error);\n",
              "      }\n",
              "      quickchartButtonEl.classList.remove('colab-df-spinner');\n",
              "      quickchartButtonEl.classList.add('colab-df-quickchart-complete');\n",
              "    }\n",
              "    (() => {\n",
              "      let quickchartButtonEl =\n",
              "        document.querySelector('#df-c5e5ccbc-e967-4ffb-9048-2aed13a5c579 button');\n",
              "      quickchartButtonEl.style.display =\n",
              "        google.colab.kernel.accessAllowed ? 'block' : 'none';\n",
              "    })();\n",
              "  </script>\n",
              "</div>\n",
              "\n",
              "  <div id=\"id_ce463b78-258b-4dbc-bab5-9473b9ff96df\">\n",
              "    <style>\n",
              "      .colab-df-generate {\n",
              "        background-color: #E8F0FE;\n",
              "        border: none;\n",
              "        border-radius: 50%;\n",
              "        cursor: pointer;\n",
              "        display: none;\n",
              "        fill: #1967D2;\n",
              "        height: 32px;\n",
              "        padding: 0 0 0 0;\n",
              "        width: 32px;\n",
              "      }\n",
              "\n",
              "      .colab-df-generate:hover {\n",
              "        background-color: #E2EBFA;\n",
              "        box-shadow: 0px 1px 2px rgba(60, 64, 67, 0.3), 0px 1px 3px 1px rgba(60, 64, 67, 0.15);\n",
              "        fill: #174EA6;\n",
              "      }\n",
              "\n",
              "      [theme=dark] .colab-df-generate {\n",
              "        background-color: #3B4455;\n",
              "        fill: #D2E3FC;\n",
              "      }\n",
              "\n",
              "      [theme=dark] .colab-df-generate:hover {\n",
              "        background-color: #434B5C;\n",
              "        box-shadow: 0px 1px 3px 1px rgba(0, 0, 0, 0.15);\n",
              "        filter: drop-shadow(0px 1px 2px rgba(0, 0, 0, 0.3));\n",
              "        fill: #FFFFFF;\n",
              "      }\n",
              "    </style>\n",
              "    <button class=\"colab-df-generate\" onclick=\"generateWithVariable('df_features')\"\n",
              "            title=\"Generate code using this dataframe.\"\n",
              "            style=\"display:none;\">\n",
              "\n",
              "  <svg xmlns=\"http://www.w3.org/2000/svg\" height=\"24px\"viewBox=\"0 0 24 24\"\n",
              "       width=\"24px\">\n",
              "    <path d=\"M7,19H8.4L18.45,9,17,7.55,7,17.6ZM5,21V16.75L18.45,3.32a2,2,0,0,1,2.83,0l1.4,1.43a1.91,1.91,0,0,1,.58,1.4,1.91,1.91,0,0,1-.58,1.4L9.25,21ZM18.45,9,17,7.55Zm-12,3A5.31,5.31,0,0,0,4.9,8.1,5.31,5.31,0,0,0,1,6.5,5.31,5.31,0,0,0,4.9,4.9,5.31,5.31,0,0,0,6.5,1,5.31,5.31,0,0,0,8.1,4.9,5.31,5.31,0,0,0,12,6.5,5.46,5.46,0,0,0,6.5,12Z\"/>\n",
              "  </svg>\n",
              "    </button>\n",
              "    <script>\n",
              "      (() => {\n",
              "      const buttonEl =\n",
              "        document.querySelector('#id_ce463b78-258b-4dbc-bab5-9473b9ff96df button.colab-df-generate');\n",
              "      buttonEl.style.display =\n",
              "        google.colab.kernel.accessAllowed ? 'block' : 'none';\n",
              "\n",
              "      buttonEl.onclick = () => {\n",
              "        google.colab.notebook.generateWithVariable('df_features');\n",
              "      }\n",
              "      })();\n",
              "    </script>\n",
              "  </div>\n",
              "\n",
              "    </div>\n",
              "  </div>\n"
            ],
            "application/vnd.google.colaboratory.intrinsic+json": {
              "type": "dataframe",
              "variable_name": "df_features",
              "summary": "{\n  \"name\": \"df_features\",\n  \"rows\": 4760,\n  \"fields\": [\n    {\n      \"column\": \"Movie_Genre\",\n      \"properties\": {\n        \"dtype\": \"category\",\n        \"num_unique_values\": 1164,\n        \"samples\": [\n          \"Family Animation Adventure\",\n          \"Adventure Science Fiction Action\",\n          \"Action Crime Drama Romance Thriller\"\n        ],\n        \"semantic_type\": \"\",\n        \"description\": \"\"\n      }\n    },\n    {\n      \"column\": \"Movie_Keywords\",\n      \"properties\": {\n        \"dtype\": \"string\",\n        \"num_unique_values\": 4203,\n        \"samples\": [\n          \"canada nazis sequel spin off ancient evil\",\n          \"sex professor wedding woman director columbia university\",\n          \"prophecy sea beach gold small town\"\n        ],\n        \"semantic_type\": \"\",\n        \"description\": \"\"\n      }\n    },\n    {\n      \"column\": \"Movie_Tagline\",\n      \"properties\": {\n        \"dtype\": \"string\",\n        \"num_unique_values\": 3928,\n        \"samples\": [\n          \"The messenger must be silenced.\",\n          \"It's not the house that's haunted.\",\n          \"The final hunt begins.\"\n        ],\n        \"semantic_type\": \"\",\n        \"description\": \"\"\n      }\n    },\n    {\n      \"column\": \"Movie_Cast\",\n      \"properties\": {\n        \"dtype\": \"string\",\n        \"num_unique_values\": 4715,\n        \"samples\": [\n          \"Robin Tunney Fairuza Balk Neve Campbell Rachel True Skeet Ulrich\",\n          \"Peter Sellers Christopher Plummer Herbert Lom Catherine Schell Peter Arne\",\n          \"John Wayne Laraine Day Cedric Hardwicke Judith Anderson Anthony Quinn\"\n        ],\n        \"semantic_type\": \"\",\n        \"description\": \"\"\n      }\n    },\n    {\n      \"column\": \"Movie_Director\",\n      \"properties\": {\n        \"dtype\": \"category\",\n        \"num_unique_values\": 2332,\n        \"samples\": [\n          \"Rob McKittrick\",\n          \"Terron R. Parsons\",\n          \"Cyrus Nowrasteh\"\n        ],\n        \"semantic_type\": \"\",\n        \"description\": \"\"\n      }\n    }\n  ]\n}"
            }
          },
          "metadata": {},
          "execution_count": 15
        }
      ]
    },
    {
      "cell_type": "code",
      "source": [
        "X = df_features['Movie_Genre']+ ''+ df_features['Movie_Keywords']+''+df_features['Movie_Tagline']+''+df_features['Movie_Cast']+''+df_features['Movie_Director']"
      ],
      "metadata": {
        "id": "fANWqjGQYXhB"
      },
      "execution_count": null,
      "outputs": []
    },
    {
      "cell_type": "code",
      "source": [
        "X.shape"
      ],
      "metadata": {
        "colab": {
          "base_uri": "https://localhost:8080/"
        },
        "id": "N9V3dD3XYtj6",
        "outputId": "416b63c7-46df-4fe5-b1fd-5d8fed979627"
      },
      "execution_count": null,
      "outputs": [
        {
          "output_type": "execute_result",
          "data": {
            "text/plain": [
              "(4760,)"
            ]
          },
          "metadata": {},
          "execution_count": 24
        }
      ]
    },
    {
      "cell_type": "code",
      "source": [
        "from sklearn.feature_extraction.text import TfidfVectorizer"
      ],
      "metadata": {
        "id": "nn_OYkz8Zeqq"
      },
      "execution_count": null,
      "outputs": []
    },
    {
      "cell_type": "code",
      "source": [
        "tfidf=TfidfVectorizer()"
      ],
      "metadata": {
        "id": "JtfNmvBFaGhY"
      },
      "execution_count": null,
      "outputs": []
    },
    {
      "cell_type": "code",
      "source": [
        "X=tfidf.fit_transform(X)"
      ],
      "metadata": {
        "id": "rbAmW8rsaJM6"
      },
      "execution_count": null,
      "outputs": []
    },
    {
      "cell_type": "code",
      "source": [
        "X.shape"
      ],
      "metadata": {
        "colab": {
          "base_uri": "https://localhost:8080/"
        },
        "id": "oqp_vKA4aLzq",
        "outputId": "eb71e595-ce6a-4811-bea5-d9db53abed1e"
      },
      "execution_count": null,
      "outputs": [
        {
          "output_type": "execute_result",
          "data": {
            "text/plain": [
              "(4760, 27466)"
            ]
          },
          "metadata": {},
          "execution_count": 28
        }
      ]
    },
    {
      "cell_type": "code",
      "source": [
        "print(X)"
      ],
      "metadata": {
        "colab": {
          "base_uri": "https://localhost:8080/"
        },
        "id": "6xP7WR-OaNSv",
        "outputId": "daf635c2-5a93-41e0-f2bb-bb8fcad4217b"
      },
      "execution_count": null,
      "outputs": [
        {
          "output_type": "stream",
          "name": "stdout",
          "text": [
            "  (0, 1028)\t0.16196019146631543\n",
            "  (0, 24785)\t0.1954632929283795\n",
            "  (0, 15844)\t0.14205053053187272\n",
            "  (0, 15553)\t0.17099186675469502\n",
            "  (0, 2132)\t0.18002354204307464\n",
            "  (0, 13312)\t0.09914387783149516\n",
            "  (0, 1887)\t0.14106037409792174\n",
            "  (0, 1216)\t0.13920306109638164\n",
            "  (0, 21158)\t0.14205053053187272\n",
            "  (0, 24701)\t0.11357423942624927\n",
            "  (0, 14943)\t0.091376722056839\n",
            "  (0, 18098)\t0.06200430666985742\n",
            "  (0, 26738)\t0.175053052455033\n",
            "  (0, 9790)\t0.08712552095655665\n",
            "  (0, 26675)\t0.1116831168780693\n",
            "  (0, 13401)\t0.13748876529263096\n",
            "  (0, 24105)\t0.10726395493180996\n",
            "  (0, 18192)\t0.07278761942152372\n",
            "  (0, 6172)\t0.11970212451073885\n",
            "  (0, 9626)\t0.11757910435818826\n",
            "  (0, 11960)\t0.20134029899961134\n",
            "  (0, 12801)\t0.1530338818199682\n",
            "  (0, 2292)\t0.1954632929283795\n",
            "  (0, 15172)\t0.1537691763994982\n",
            "  (0, 18196)\t0.08579029869987485\n",
            "  :\t:\n",
            "  (4757, 1839)\t0.19327629083107672\n",
            "  (4757, 5410)\t0.19734759150400596\n",
            "  (4757, 11350)\t0.21582294886514122\n",
            "  (4757, 22017)\t0.1646400247918531\n",
            "  (4757, 17789)\t0.18881341937258544\n",
            "  (4757, 9484)\t0.1411164779725638\n",
            "  (4757, 14176)\t0.2330831990045816\n",
            "  (4757, 11762)\t0.17321388936472645\n",
            "  (4757, 14052)\t0.1776312353410007\n",
            "  (4757, 24232)\t0.10947784435203887\n",
            "  (4757, 24746)\t0.09744940789814222\n",
            "  (4757, 13079)\t0.12400374714145113\n",
            "  (4757, 17721)\t0.1489085353667712\n",
            "  (4758, 8651)\t1.0\n",
            "  (4759, 18229)\t0.33527342183765224\n",
            "  (4759, 22434)\t0.33527342183765224\n",
            "  (4759, 18841)\t0.33527342183765224\n",
            "  (4759, 6950)\t0.33527342183765224\n",
            "  (4759, 345)\t0.31978160936741457\n",
            "  (4759, 14742)\t0.31978160936741457\n",
            "  (4759, 12139)\t0.2778063685558062\n",
            "  (4759, 4446)\t0.282306565154911\n",
            "  (4759, 17552)\t0.3087899934962816\n",
            "  (4759, 9955)\t0.21805075638656476\n",
            "  (4759, 2285)\t0.21465229435984196\n"
          ]
        }
      ]
    },
    {
      "cell_type": "code",
      "source": [
        "from sklearn.metrics.pairwise import cosine_similarity"
      ],
      "metadata": {
        "id": "Pcm6OI7FaPOq"
      },
      "execution_count": null,
      "outputs": []
    },
    {
      "cell_type": "code",
      "source": [
        "similarity_score=cosine_similarity(X)"
      ],
      "metadata": {
        "id": "491__m8pafKp"
      },
      "execution_count": null,
      "outputs": []
    },
    {
      "cell_type": "code",
      "source": [
        "similarity_score"
      ],
      "metadata": {
        "colab": {
          "base_uri": "https://localhost:8080/"
        },
        "id": "KHQNUosnaicW",
        "outputId": "9c477f49-0543-4a99-cca6-7606b03086ba"
      },
      "execution_count": null,
      "outputs": [
        {
          "output_type": "execute_result",
          "data": {
            "text/plain": [
              "array([[1.        , 0.01438634, 0.03807033, ..., 0.        , 0.        ,\n",
              "        0.        ],\n",
              "       [0.01438634, 1.        , 0.00844858, ..., 0.        , 0.        ,\n",
              "        0.        ],\n",
              "       [0.03807033, 0.00844858, 1.        , ..., 0.        , 0.        ,\n",
              "        0.        ],\n",
              "       ...,\n",
              "       [0.        , 0.        , 0.        , ..., 1.        , 0.        ,\n",
              "        0.        ],\n",
              "       [0.        , 0.        , 0.        , ..., 0.        , 1.        ,\n",
              "        0.        ],\n",
              "       [0.        , 0.        , 0.        , ..., 0.        , 0.        ,\n",
              "        1.        ]])"
            ]
          },
          "metadata": {},
          "execution_count": 33
        }
      ]
    },
    {
      "cell_type": "code",
      "source": [
        "similarity_score.shape"
      ],
      "metadata": {
        "colab": {
          "base_uri": "https://localhost:8080/"
        },
        "id": "holpjSJuakPD",
        "outputId": "3a800c2e-950c-454a-89fb-ae9d6fbcf1d3"
      },
      "execution_count": null,
      "outputs": [
        {
          "output_type": "execute_result",
          "data": {
            "text/plain": [
              "(4760, 4760)"
            ]
          },
          "metadata": {},
          "execution_count": 34
        }
      ]
    },
    {
      "cell_type": "code",
      "source": [
        "Favorite_Movie_Name=input('Enter your favourite movie name:')"
      ],
      "metadata": {
        "colab": {
          "base_uri": "https://localhost:8080/"
        },
        "id": "GfqHXNYMawJJ",
        "outputId": "0c8185fb-08c5-4827-9b5e-61b7db65f904"
      },
      "execution_count": null,
      "outputs": [
        {
          "name": "stdout",
          "output_type": "stream",
          "text": [
            "Enter your favourite movie name:kung fu panda\n"
          ]
        }
      ]
    },
    {
      "cell_type": "code",
      "source": [
        "All_movies_title_list=df['Movie_Title'].tolist()"
      ],
      "metadata": {
        "id": "ejfmLGO9a2nA"
      },
      "execution_count": null,
      "outputs": []
    },
    {
      "cell_type": "code",
      "source": [
        "import difflib"
      ],
      "metadata": {
        "id": "R0CPtX67a_f1"
      },
      "execution_count": null,
      "outputs": []
    },
    {
      "cell_type": "code",
      "source": [
        "Movie_Recommendation=difflib.get_close_matches(Favorite_Movie_Name,All_movies_title_list)\n",
        "print(Movie_Recommendation)"
      ],
      "metadata": {
        "colab": {
          "base_uri": "https://localhost:8080/"
        },
        "id": "3echl_fVbCt9",
        "outputId": "98e120a5-8b2c-4a94-c5e7-6da8a375b4ef"
      },
      "execution_count": null,
      "outputs": [
        {
          "output_type": "stream",
          "name": "stdout",
          "text": [
            "['Kung Fu Panda', 'Kung Fu Panda 3', 'Kung Fu Panda 2']\n"
          ]
        }
      ]
    },
    {
      "cell_type": "code",
      "source": [
        "Close_Match = Movie_Recommendation[0]\n",
        "print(Close_Match)"
      ],
      "metadata": {
        "colab": {
          "base_uri": "https://localhost:8080/"
        },
        "id": "7LoDEJiCbHnj",
        "outputId": "7fa1c149-3255-4873-94b7-64e4c5694262"
      },
      "execution_count": null,
      "outputs": [
        {
          "output_type": "stream",
          "name": "stdout",
          "text": [
            "Kung Fu Panda\n"
          ]
        }
      ]
    },
    {
      "cell_type": "code",
      "source": [
        "Index_of_Close_Match_Movie = df[df.Movie_Title == Close_Match]['Movie_ID'].values[0]\n",
        "print(Index_of_Close_Match_Movie)"
      ],
      "metadata": {
        "colab": {
          "base_uri": "https://localhost:8080/"
        },
        "id": "--MozOlPbQ2z",
        "outputId": "c0901d03-8ca1-4811-ecd0-cbc51544c061"
      },
      "execution_count": null,
      "outputs": [
        {
          "output_type": "stream",
          "name": "stdout",
          "text": [
            "1334\n"
          ]
        }
      ]
    },
    {
      "cell_type": "code",
      "source": [
        "Recommendation_Score = list(enumerate(similarity_score[Index_of_Close_Match_Movie]))\n",
        "print(Recommendation_Score)"
      ],
      "metadata": {
        "colab": {
          "base_uri": "https://localhost:8080/"
        },
        "id": "92OqO7YTbcZz",
        "outputId": "bff74e19-65eb-465c-9b1b-90439394fd47"
      },
      "execution_count": null,
      "outputs": [
        {
          "output_type": "stream",
          "name": "stdout",
          "text": [
            "[(0, 0.042802872544123155), (1, 0.03750749043828831), (2, 0.00936086296203166), (3, 0.003645990790490777), (4, 0.0), (5, 0.014267760242643954), (6, 0.0), (7, 0.003202867287445286), (8, 0.0046503126527751995), (9, 0.020704628628186488), (10, 0.0), (11, 0.004422660213224659), (12, 0.004683848513233841), (13, 0.0), (14, 0.0), (15, 0.003874271874158629), (16, 0.0036975500799775744), (17, 0.0), (18, 0.003974650125277726), (19, 0.004238217177743311), (20, 0.0), (21, 0.04678253440111471), (22, 0.0), (23, 0.004426719156515972), (24, 0.0), (25, 0.003568740987704156), (26, 0.0), (27, 0.0), (28, 0.022366345393754337), (29, 0.004125026246911585), (30, 0.0), (31, 0.004012621639342825), (32, 0.003944596679687348), (33, 0.0037963638733961645), (34, 0.02546461538338339), (35, 0.0), (36, 0.0), (37, 0.0), (38, 0.0), (39, 0.02595891489474956), (40, 0.0), (41, 0.004587421220039433), (42, 0.0), (43, 0.01860949353271211), (44, 0.026226320681310818), (45, 0.0), (46, 0.0), (47, 0.0), (48, 0.09539336935144849), (49, 0.0), (50, 0.0), (51, 0.01484250503073787), (52, 0.07788451170312631), (53, 0.0), (54, 0.0), (55, 0.0), (56, 0.0), (57, 0.0), (58, 0.0), (59, 0.0), (60, 0.02680067464794291), (61, 0.004100225228711752), (62, 0.004724015698389463), (63, 0.0036008360451966538), (64, 0.0), (65, 0.0), (66, 0.0), (67, 0.0), (68, 0.02586870452660536), (69, 0.0), (70, 0.011411492391360299), (71, 0.0787566651303469), (72, 0.0), (73, 0.0), (74, 0.004514280160525258), (75, 0.009619989941238565), (76, 0.009289238186367949), (77, 0.0), (78, 0.0), (79, 0.023639688628996833), (80, 0.0), (81, 0.0), (82, 0.02104138696428909), (83, 0.010182505720676202), (84, 0.0), (85, 0.013808431680416145), (86, 0.017986333406620956), (87, 0.02556417012240457), (88, 0.00903015669801348), (89, 0.01101558760269011), (90, 0.0), (91, 0.0), (92, 0.014105540618144724), (93, 0.0), (94, 0.0), (95, 0.0), (96, 0.02448897185573325), (97, 0.0037163800538650626), (98, 0.0), (99, 0.0), (100, 0.0), (101, 0.0), (102, 0.011775911355754107), (103, 0.0038713671817698116), (104, 0.0041887048516743445), (105, 0.009947724911539776), (106, 0.00791996246743605), (107, 0.004775219004584726), (108, 0.007136343649630453), (109, 0.07519533084173836), (110, 0.07735135068527946), (111, 0.07130013666036174), (112, 0.0845351578313678), (113, 0.03056572161119218), (114, 0.004178865527177023), (115, 0.0), (116, 0.004034804603791177), (117, 0.021643430977892023), (118, 0.0), (119, 0.02529072865749154), (120, 0.01533730593327348), (121, 0.03466729962312005), (122, 0.039090439056532075), (123, 0.021302570683499857), (124, 0.013089907608934408), (125, 0.0), (126, 0.004124529857850067), (127, 0.0040797322330627305), (128, 0.0), (129, 0.07236934816795286), (130, 0.0), (131, 0.0), (132, 0.014347073176683533), (133, 0.0), (134, 0.0), (135, 0.0), (136, 0.003900402730709443), (137, 0.0842362329846277), (138, 0.01908823096929971), (139, 0.0), (140, 0.0), (141, 0.0), (142, 0.003584867977072653), (143, 0.01211569788937124), (144, 0.009676146247841752), (145, 0.09140450690703558), (146, 0.0), (147, 0.012758924260994628), (148, 0.03899256064319784), (149, 0.012874716257604609), (150, 0.01076405422848836), (151, 0.0), (152, 0.010640021069976652), (153, 0.0), (154, 0.0), (155, 0.008148976028628966), (156, 0.01232211824531292), (157, 0.0), (158, 0.0), (159, 0.0), (160, 0.0), (161, 0.0038284937843568487), (162, 0.010813162886769387), (163, 0.016163588927203792), (164, 0.021331858398419834), (165, 0.0036938792373751783), (166, 0.021921635445644617), (167, 0.010243688959097875), (168, 0.0), (169, 0.00434066903664362), (170, 0.009374452574602012), (171, 0.0), (172, 0.009995261552138635), (173, 0.004361611861414572), (174, 0.004364390737493467), (175, 0.0), (176, 0.0), (177, 0.0), (178, 0.0044497277996684665), (179, 0.0), (180, 0.010804784721611668), (181, 0.019914284316908896), (182, 0.0), (183, 0.0038826076164397787), (184, 0.0038730475119110545), (185, 0.020575734251974155), (186, 0.0), (187, 0.0), (188, 0.0), (189, 0.0), (190, 0.0036854030956623507), (191, 0.00979361242841421), (192, 0.004462974163070895), (193, 0.03195039656424835), (194, 0.013284665310549965), (195, 0.003647885655520168), (196, 0.0), (197, 0.004103011296355695), (198, 0.004273852012383854), (199, 0.012973227851463504), (200, 0.003948687456075298), (201, 0.01047174725469231), (202, 0.0099576346048442), (203, 0.020656346543208234), (204, 0.004417089314320238), (205, 0.0), (206, 0.004586593214900223), (207, 0.041158868592859374), (208, 0.0047339962301007335), (209, 0.010511915653885437), (210, 0.01554826810965454), (211, 0.0), (212, 0.010058480527248496), (213, 0.020794656673072346), (214, 0.0), (215, 0.029958308974491574), (216, 0.004399266913354446), (217, 0.0), (218, 0.013953857252893012), (219, 0.0), (220, 0.0), (221, 0.0040810844928484726), (222, 0.00375529221997488), (223, 0.010574005558721683), (224, 0.01122475174855059), (225, 0.012621670951939725), (226, 0.0), (227, 0.004532373586555923), (228, 0.0032474046636059768), (229, 0.0), (230, 0.0), (231, 0.03156977206122851), (232, 0.0), (233, 0.026992799789840018), (234, 0.0), (235, 0.029931747172223674), (236, 0.04229272455822244), (237, 0.008797394213091416), (238, 0.004307500088327789), (239, 0.011324906821823176), (240, 0.010198216715186092), (241, 0.0), (242, 0.0037437355429461028), (243, 0.00302366721513205), (244, 0.010286941853188066), (245, 0.0), (246, 0.0), (247, 0.0), (248, 0.0), (249, 0.0), (250, 0.0), (251, 0.02223618709537187), (252, 0.003961639817500138), (253, 0.0), (254, 0.011036796426459194), (255, 0.004456447146060222), (256, 0.003390324928553599), (257, 0.0), (258, 0.0), (259, 0.0), (260, 0.0), (261, 0.0), (262, 0.0), (263, 0.0), (264, 0.0), (265, 0.0), (266, 0.01165072071488725), (267, 0.0037969080010461435), (268, 0.0), (269, 0.012970719770838808), (270, 0.014443159046828854), (271, 0.011983082835882447), (272, 0.0), (273, 0.0), (274, 0.004809533238161043), (275, 0.0), (276, 0.04451754364560482), (277, 0.019063349257823527), (278, 0.0), (279, 0.010044980883267222), (280, 0.03773704925149497), (281, 0.011426882213898095), (282, 0.004157666252861019), (283, 0.003031993953917187), (284, 0.04911422273514375), (285, 0.01892276741414584), (286, 0.0038496905494006784), (287, 0.009646416180141322), (288, 0.04474701856041798), (289, 0.0), (290, 0.0), (291, 0.0), (292, 0.0), (293, 0.0), (294, 0.0), (295, 0.0), (296, 0.0033338653801183006), (297, 0.0), (298, 0.039646890322636325), (299, 0.0), (300, 0.0), (301, 0.0), (302, 0.0), (303, 0.0), (304, 0.0), (305, 0.0), (306, 0.0), (307, 0.0039101151552163645), (308, 0.0), (309, 0.01230178169939713), (310, 0.0), (311, 0.010129433942123624), (312, 0.0), (313, 0.022356954209688137), (314, 0.0), (315, 0.0), (316, 0.01839203343584911), (317, 0.009655190979433965), (318, 0.004602186209791431), (319, 0.008936985034112404), (320, 0.0), (321, 0.0), (322, 0.0), (323, 0.0), (324, 0.0), (325, 0.0040534751577165394), (326, 0.005147621169996954), (327, 0.0098894869546956), (328, 0.0), (329, 0.0), (330, 0.002978573691642767), (331, 0.0), (332, 0.0), (333, 0.008879300515022084), (334, 0.01733942782569404), (335, 0.0), (336, 0.0), (337, 0.009725548759147605), (338, 0.010042431860795674), (339, 0.010645452572792818), (340, 0.0), (341, 0.02367335029060176), (342, 0.016149699853028904), (343, 0.02339651844655675), (344, 0.0), (345, 0.010226182770095621), (346, 0.0), (347, 0.026910799178351177), (348, 0.0041706326454021975), (349, 0.0041334116936290865), (350, 0.004655192259921502), (351, 0.012026224474079899), (352, 0.009942560793016813), (353, 0.004226558809777781), (354, 0.01822521422197103), (355, 0.024353154545147557), (356, 0.014344192968567282), (357, 0.003795476294267421), (358, 0.004112378801317836), (359, 0.003975271320731011), (360, 0.010037180721695255), (361, 0.0), (362, 0.011655060789436286), (363, 0.0), (364, 0.0038027937747745597), (365, 0.0), (366, 0.0), (367, 0.0), (368, 0.011534922153734039), (369, 0.007801742286793845), (370, 0.014167053541045164), (371, 0.004559979330483274), (372, 0.004001012352094317), (373, 0.014631796069542246), (374, 0.05526835265906981), (375, 0.0), (376, 0.01927689686956634), (377, 0.010941883758982723), (378, 0.0), (379, 0.0), (380, 0.0), (381, 0.0), (382, 0.0), (383, 0.0), (384, 0.029516778781689908), (385, 0.011070089677003792), (386, 0.0), (387, 0.004285974067325078), (388, 0.00404406700822703), (389, 0.0), (390, 0.0), (391, 0.0), (392, 0.0), (393, 0.0), (394, 0.0), (395, 0.0), (396, 0.00974645580289973), (397, 0.0), (398, 0.0), (399, 0.0), (400, 0.02371901249249115), (401, 0.0), (402, 0.026105940720051093), (403, 0.01312186429241431), (404, 0.010779359453813983), (405, 0.03400336702204391), (406, 0.004300073365742293), (407, 0.028071794520454055), (408, 0.013512442338318574), (409, 0.0), (410, 0.0038454557454695153), (411, 0.0), (412, 0.02165216448047792), (413, 0.027831382316999425), (414, 0.0), (415, 0.0), (416, 0.00386748863482656), (417, 0.0), (418, 0.01061037122758582), (419, 0.0661256305777245), (420, 0.0), (421, 0.0), (422, 0.0), (423, 0.0), (424, 0.0), (425, 0.0), (426, 0.0), (427, 0.0), (428, 0.0038939641716335344), (429, 0.014991704728190745), (430, 0.03840874808044769), (431, 0.06685070195271661), (432, 0.0), (433, 0.003468321165748283), (434, 0.013393178280699792), (435, 0.00814458214289977), (436, 0.004985651191773282), (437, 0.004234170301632565), (438, 0.0), (439, 0.0), (440, 0.008814282745500637), (441, 0.003601546035628204), (442, 0.003601312867831603), (443, 0.004764025949047556), (444, 0.0), (445, 0.0), (446, 0.0), (447, 0.010089299881089692), (448, 0.017813448083306607), (449, 0.0), (450, 0.015245133131778797), (451, 0.0), (452, 0.003265613378072386), (453, 0.0034667655252158154), (454, 0.0), (455, 0.010651024520839774), (456, 0.004506122862751945), (457, 0.0038460012721016424), (458, 0.016184282211021542), (459, 0.0), (460, 0.0), (461, 0.011447396470732391), (462, 0.0), (463, 0.003828665433647718), (464, 0.004302004978669639), (465, 0.013933539623105447), (466, 0.0), (467, 0.021596755499032366), (468, 0.0), (469, 0.0), (470, 0.004479846596623185), (471, 0.004049747531351251), (472, 0.004489069374445354), (473, 0.0), (474, 0.0), (475, 0.0015335085026336032), (476, 0.0), (477, 0.0), (478, 0.0), (479, 0.004356076544363673), (480, 0.0037434113455418598), (481, 0.02842497691204876), (482, 0.004466934413050063), (483, 0.010236593585390212), (484, 0.0), (485, 0.01075486396378686), (486, 0.0), (487, 0.0), (488, 0.004066874929075175), (489, 0.0), (490, 0.004209992921281827), (491, 0.0), (492, 0.0), (493, 0.0045197096565411715), (494, 0.08651685475481016), (495, 0.0038684896217555443), (496, 0.013214743843692953), (497, 0.0), (498, 0.010931872927999324), (499, 0.0), (500, 0.009542699843721336), (501, 0.009238213260969002), (502, 0.014576765467559497), (503, 0.0), (504, 0.04901095520486133), (505, 0.0), (506, 0.05405376190390414), (507, 0.0), (508, 0.01195094024370879), (509, 0.0371373409784889), (510, 0.0033878591894861334), (511, 0.0), (512, 0.0), (513, 0.0), (514, 0.0), (515, 0.013127347917551711), (516, 0.0), (517, 0.02070430174893917), (518, 0.0), (519, 0.00380154220326398), (520, 0.01888006713776305), (521, 0.021985090656053134), (522, 0.004143710098317407), (523, 0.0), (524, 0.010004296358862443), (525, 0.0), (526, 0.0), (527, 0.0), (528, 0.0), (529, 0.0), (530, 0.03091505553356376), (531, 0.0), (532, 0.010573312919706533), (533, 0.016137978899398997), (534, 0.015322933167389037), (535, 0.0), (536, 0.0), (537, 0.0), (538, 0.009497331652462193), (539, 0.0), (540, 0.0), (541, 0.0), (542, 0.018365641124211525), (543, 0.014823403292455996), (544, 0.01053209706596804), (545, 0.009481134502954932), (546, 0.0), (547, 0.012144563650440322), (548, 0.0), (549, 0.0), (550, 0.09187682421964823), (551, 0.0044204033576862554), (552, 0.0), (553, 0.0), (554, 0.0), (555, 0.009048965951127091), (556, 0.0), (557, 0.0), (558, 0.0038609284309521876), (559, 0.0), (560, 0.0), (561, 0.008149664470652197), (562, 0.01176828430509047), (563, 0.003899867741665171), (564, 0.0044684127190182015), (565, 0.0), (566, 0.021711335349288624), (567, 0.0), (568, 0.0), (569, 0.0), (570, 0.0), (571, 0.02451483505154859), (572, 0.0), (573, 0.0), (574, 0.0), (575, 0.0318871575085844), (576, 0.004710058692018842), (577, 0.0), (578, 0.004100612427769579), (579, 0.024789683350745377), (580, 0.07875272862893332), (581, 0.0), (582, 0.0), (583, 0.024117202868589975), (584, 0.015059963964310051), (585, 0.0), (586, 0.0), (587, 0.03407707777111288), (588, 0.004349084659399398), (589, 0.004000286267099411), (590, 0.02836192314776279), (591, 0.0), (592, 0.0), (593, 0.0), (594, 0.00397667677723603), (595, 0.0), (596, 0.044421910695122004), (597, 0.0), (598, 0.0041283087741353286), (599, 0.0), (600, 0.0), (601, 0.0), (602, 0.0), (603, 0.0), (604, 0.003841694938744856), (605, 0.014101762682780749), (606, 0.00444693541568771), (607, 0.0033148214411415694), (608, 0.003950978124565688), (609, 0.012228214323172275), (610, 0.0), (611, 0.0036821352740054217), (612, 0.004607876890508812), (613, 0.009876521987451764), (614, 0.004895600763407469), (615, 0.0), (616, 0.003530171581364483), (617, 0.0037388175709428912), (618, 0.0), (619, 0.0), (620, 0.0), (621, 0.0), (622, 0.014752768369638814), (623, 0.004676006853110513), (624, 0.0), (625, 0.0), (626, 0.0036314199369391455), (627, 0.005676678998456685), (628, 0.004201531251891854), (629, 0.018448966690326335), (630, 0.0), (631, 0.02040994773765589), (632, 0.0), (633, 0.0), (634, 0.0), (635, 0.0), (636, 0.004349296570686884), (637, 0.004296580269714793), (638, 0.003883554222690326), (639, 0.0), (640, 0.0), (641, 0.003245157314477291), (642, 0.0037092298248982505), (643, 0.01361846336753242), (644, 0.004325433740623377), (645, 0.0), (646, 0.0), (647, 0.009844643209695697), (648, 0.024439908058124998), (649, 0.0), (650, 0.0), (651, 0.004123076424251951), (652, 0.004408216668340808), (653, 0.012547991534986001), (654, 0.01043099264566647), (655, 0.003999961378334577), (656, 0.027945686885151203), (657, 0.02141018854107767), (658, 0.0), (659, 0.003981382774486441), (660, 0.026591152335162252), (661, 0.0), (662, 0.0), (663, 0.0), (664, 0.009772423306896863), (665, 0.026503483610559347), (666, 0.0), (667, 0.010806250791984022), (668, 0.008001929278715554), (669, 0.013160490465323402), (670, 0.0050916919207668965), (671, 0.0), (672, 0.0037847900629630576), (673, 0.0045367732597890375), (674, 0.06389700341664871), (675, 0.010728891326436903), (676, 0.013750219241433818), (677, 0.0), (678, 0.0), (679, 0.0), (680, 0.0), (681, 0.021498801561841186), (682, 0.011305805322341825), (683, 0.010977645969567991), (684, 0.011132011359032178), (685, 0.0), (686, 0.0), (687, 0.0), (688, 0.028624678072623422), (689, 0.004162271466339675), (690, 0.0), (691, 0.008949762509732421), (692, 0.008507695768454494), (693, 0.004243716316204183), (694, 0.0), (695, 0.008978680836796163), (696, 0.004282904735851036), (697, 0.0042884142358467926), (698, 0.01506703889987385), (699, 0.0), (700, 0.0), (701, 0.015982236116926913), (702, 0.0), (703, 0.0038625513075809317), (704, 0.0), (705, 0.0134112833697472), (706, 0.0), (707, 0.020548872978462217), (708, 0.0), (709, 0.07382210608923667), (710, 0.0), (711, 0.0), (712, 0.0036838064284656974), (713, 0.0), (714, 0.0), (715, 0.0), (716, 0.004693699423713791), (717, 0.011366338119425638), (718, 0.0), (719, 0.0035468387604908336), (720, 0.0), (721, 0.004967569213821667), (722, 0.0038258112817846656), (723, 0.027614876840344034), (724, 0.0), (725, 0.02305674983560904), (726, 0.0), (727, 0.004152683852305413), (728, 0.004498596345167501), (729, 0.004614383325473204), (730, 0.0), (731, 0.02951074814686123), (732, 0.0036651393636056096), (733, 0.012433470557395921), (734, 0.003975890082019218), (735, 0.0061754958880746), (736, 0.0), (737, 0.0), (738, 0.0), (739, 0.004742276769769135), (740, 0.0), (741, 0.0), (742, 0.003995341592151867), (743, 0.004439292560318851), (744, 0.003867437616376467), (745, 0.009935917592522622), (746, 0.0), (747, 0.0), (748, 0.02051855585611789), (749, 0.03075372293490869), (750, 0.004210571231910657), (751, 0.0), (752, 0.0), (753, 0.011366334891289872), (754, 0.0), (755, 0.0042982505703979355), (756, 0.023929590554553546), (757, 0.00806401217401625), (758, 0.01953597493911751), (759, 0.0), (760, 0.011789336216505051), (761, 0.0044565548929559945), (762, 0.0094449619441554), (763, 0.01014619850247545), (764, 0.0), (765, 0.0), (766, 0.0), (767, 0.0), (768, 0.021729436673168272), (769, 0.0042274935613125005), (770, 0.0), (771, 0.0), (772, 0.0), (773, 0.0), (774, 0.004520962439198527), (775, 0.008536040931768124), (776, 0.0), (777, 0.0), (778, 0.020638233208305858), (779, 0.0), (780, 0.0), (781, 0.0), (782, 0.0), (783, 0.0043955834897301494), (784, 0.0), (785, 0.0), (786, 0.0), (787, 0.002670494761248376), (788, 0.003920184623732527), (789, 0.0), (790, 0.02007072612638249), (791, 0.0), (792, 0.044063025747269495), (793, 0.0), (794, 0.00433006121716213), (795, 0.02323936743465346), (796, 0.003641043421553021), (797, 0.0), (798, 0.004051988175112809), (799, 0.014030976883019663), (800, 0.0037762971404758693), (801, 0.07427104855908495), (802, 0.0), (803, 0.0), (804, 0.01374942086514788), (805, 0.0), (806, 0.014216830230407151), (807, 0.0), (808, 0.0037440615227791276), (809, 0.0), (810, 0.0), (811, 0.0), (812, 0.0), (813, 0.004890260908338435), (814, 0.0), (815, 0.003797263731972787), (816, 0.01248681185723879), (817, 0.0), (818, 0.004108865602870144), (819, 0.0), (820, 0.0), (821, 0.01080149011398338), (822, 0.07299704279378973), (823, 0.0), (824, 0.01064346143850327), (825, 0.0), (826, 0.004548777522613093), (827, 0.009495530375504747), (828, 0.009569547346499925), (829, 0.019412471400702964), (830, 0.004432672741158428), (831, 0.003196041774725422), (832, 0.004270233130299557), (833, 0.009593006618881917), (834, 0.0), (835, 0.0), (836, 0.0), (837, 0.0), (838, 0.004102020879266615), (839, 0.011896666917998672), (840, 0.0), (841, 0.0), (842, 0.01189451937704988), (843, 0.0035358026499700706), (844, 0.004450752037088357), (845, 0.0), (846, 0.021037849706700754), (847, 0.004760162330450376), (848, 0.0), (849, 0.0), (850, 0.004233050925353332), (851, 0.00383830210666658), (852, 0.004112651942796172), (853, 0.007757737694465705), (854, 0.004117497093769666), (855, 0.0), (856, 0.0037906643238931744), (857, 0.004756994463765502), (858, 0.002988814784189462), (859, 0.0), (860, 0.016541513421549803), (861, 0.0036643765402238192), (862, 0.0), (863, 0.0), (864, 0.004241496771096796), (865, 0.03299243199609432), (866, 0.013561854117032122), (867, 0.004249432718472473), (868, 0.0), (869, 0.010085074898589293), (870, 0.01388282540300535), (871, 0.004382267419287564), (872, 0.004493377966307348), (873, 0.0), (874, 0.009144070087586217), (875, 0.0), (876, 0.004685027806564165), (877, 0.0), (878, 0.013692701816496407), (879, 0.014982647847250315), (880, 0.02499208018994338), (881, 0.029714133100677248), (882, 0.0), (883, 0.0), (884, 0.0), (885, 0.0), (886, 0.024397854276840603), (887, 0.0), (888, 0.0045948289155307055), (889, 0.0), (890, 0.0), (891, 0.0), (892, 0.01931110482182694), (893, 0.0), (894, 0.004218551156821632), (895, 0.010045235564510797), (896, 0.015267949966430544), (897, 0.04980532674119427), (898, 0.0), (899, 0.0), (900, 0.003974782018689015), (901, 0.0), (902, 0.0), (903, 0.004509922424240463), (904, 0.012248317923230246), (905, 0.011447619135086934), (906, 0.0), (907, 0.004021838410020114), (908, 0.010350769174654042), (909, 0.0), (910, 0.003899436872053531), (911, 0.0), (912, 0.009644847557612931), (913, 0.0), (914, 0.0), (915, 0.009496576035187282), (916, 0.027558178614797466), (917, 0.0), (918, 0.010363743487054926), (919, 0.0), (920, 0.0), (921, 0.0), (922, 0.0), (923, 0.004306649675607147), (924, 0.003614860421445286), (925, 0.005005307235434844), (926, 0.0), (927, 0.0), (928, 0.011155404685567031), (929, 0.0032676716994715967), (930, 0.004457895958964178), (931, 0.04907421970774953), (932, 0.0), (933, 0.0), (934, 0.0039299002851549076), (935, 0.0), (936, 0.013645097126674017), (937, 0.016972931224516347), (938, 0.030469789277302255), (939, 0.009525725530213682), (940, 0.0029902806672803288), (941, 0.0), (942, 0.011756843415689422), (943, 0.0), (944, 0.0038971797424062), (945, 0.010664920645039272), (946, 0.011033229497579476), (947, 0.020484850367182766), (948, 0.012370616117667481), (949, 0.0), (950, 0.0), (951, 0.003855478851292483), (952, 0.00445808955646674), (953, 0.025254763043743578), (954, 0.0), (955, 0.0), (956, 0.0), (957, 0.03164031128252787), (958, 0.0), (959, 0.004177355237984911), (960, 0.0), (961, 0.0), (962, 0.00411744459333748), (963, 0.003975881772942866), (964, 0.0), (965, 0.0), (966, 0.004158394709160816), (967, 0.004661498089178593), (968, 0.0038793203450751823), (969, 0.02399792520124088), (970, 0.0), (971, 0.0), (972, 0.0), (973, 0.0), (974, 0.0), (975, 0.0040115064119373), (976, 0.010417500410000969), (977, 0.0), (978, 0.0), (979, 0.0), (980, 0.004321265745546575), (981, 0.01364532246626422), (982, 0.0), (983, 0.022061745822885687), (984, 0.0), (985, 0.03013314017307705), (986, 0.015204694770993604), (987, 0.0), (988, 0.013870096775655195), (989, 0.013828426403741316), (990, 0.0), (991, 0.004493741399990441), (992, 0.0), (993, 0.0), (994, 0.010269156264117034), (995, 0.0), (996, 0.0), (997, 0.0), (998, 0.004830306672788647), (999, 0.0048032081925090085), (1000, 0.02304577598795645), (1001, 0.004051104833819782), (1002, 0.004071154193134345), (1003, 0.0), (1004, 0.024622145764314377), (1005, 0.003374230782354158), (1006, 0.027258581769197977), (1007, 0.0046218950490146005), (1008, 0.009847042908093628), (1009, 0.034493111862523476), (1010, 0.01843221635558137), (1011, 0.0), (1012, 0.0326304490762867), (1013, 0.0), (1014, 0.0), (1015, 0.004410302011366055), (1016, 0.03541025205339981), (1017, 0.0042554489989786995), (1018, 0.008709726258028815), (1019, 0.004314654455740842), (1020, 0.004278128053129108), (1021, 0.004139858370724492), (1022, 0.0), (1023, 0.00477877022634557), (1024, 0.010458021018709511), (1025, 0.0), (1026, 0.014750788874369487), (1027, 0.004152281458354444), (1028, 0.06285369442648181), (1029, 0.010155751587667586), (1030, 0.004092489495466768), (1031, 0.0), (1032, 0.0), (1033, 0.0), (1034, 0.004019745470263289), (1035, 0.014218454488222334), (1036, 0.0), (1037, 0.0), (1038, 0.0), (1039, 0.0), (1040, 0.03400293465515874), (1041, 0.00397708492316174), (1042, 0.00927779874170988), (1043, 0.0), (1044, 0.0041361516114616055), (1045, 0.0), (1046, 0.0), (1047, 0.0), (1048, 0.0), (1049, 0.004999629728977737), (1050, 0.012679652287492207), (1051, 0.0), (1052, 0.003944918518902984), (1053, 0.01693680622443211), (1054, 0.0), (1055, 0.0), (1056, 0.0), (1057, 0.0), (1058, 0.011970148299913249), (1059, 0.0), (1060, 0.00411336671406626), (1061, 0.009389706589763446), (1062, 0.0), (1063, 0.009698793389763325), (1064, 0.04422060505583493), (1065, 0.003960025064395189), (1066, 0.0), (1067, 0.0), (1068, 0.009617086733649203), (1069, 0.0), (1070, 0.0), (1071, 0.004436826734376512), (1072, 0.0), (1073, 0.0), (1074, 0.029263414154537735), (1075, 0.004260928442238145), (1076, 0.0), (1077, 0.00429480586049886), (1078, 0.003640633843245889), (1079, 0.00392230452599032), (1080, 0.0038449231964790944), (1081, 0.0), (1082, 0.0), (1083, 0.004384747606043602), (1084, 0.004064230814912853), (1085, 0.0), (1086, 0.0), (1087, 0.0), (1088, 0.0036719427927244886), (1089, 0.0), (1090, 0.04051360096903754), (1091, 0.0), (1092, 0.0), (1093, 0.01823064406203267), (1094, 0.0), (1095, 0.02384448152579568), (1096, 0.0), (1097, 0.0), (1098, 0.0), (1099, 0.03607406597799096), (1100, 0.010861604020695623), (1101, 0.0), (1102, 0.004249047803714918), (1103, 0.0), (1104, 0.0), (1105, 0.0), (1106, 0.0), (1107, 0.003952115874409808), (1108, 0.0), (1109, 0.004734889890299613), (1110, 0.0), (1111, 0.0), (1112, 0.0), (1113, 0.0), (1114, 0.009982031090343612), (1115, 0.07049684278029633), (1116, 0.010468544389804579), (1117, 0.0), (1118, 0.010571284693519279), (1119, 0.015767882529537546), (1120, 0.0), (1121, 0.0), (1122, 0.004376604220101627), (1123, 0.004156345542525112), (1124, 0.0), (1125, 0.010522318859577101), (1126, 0.0), (1127, 0.0), (1128, 0.009909205884495533), (1129, 0.0), (1130, 0.010430944788339565), (1131, 0.004332898331340243), (1132, 0.04230279721863581), (1133, 0.010653543746812261), (1134, 0.017631391692236542), (1135, 0.0), (1136, 0.003791607462586089), (1137, 0.0), (1138, 0.004197215929973943), (1139, 0.0), (1140, 0.038819773993803125), (1141, 0.08496108064484433), (1142, 0.0), (1143, 0.0), (1144, 0.0), (1145, 0.0), (1146, 0.0), (1147, 0.0), (1148, 0.011446131324178632), (1149, 0.0), (1150, 0.06550556149234793), (1151, 0.0), (1152, 0.024759793917675257), (1153, 0.0), (1154, 0.0), (1155, 0.01112223656346261), (1156, 0.0), (1157, 0.0), (1158, 0.0), (1159, 0.0), (1160, 0.014302249172417784), (1161, 0.0041550071388204175), (1162, 0.0), (1163, 0.0043045574114312), (1164, 0.0), (1165, 0.027267436121979422), (1166, 0.0), (1167, 0.0), (1168, 0.0), (1169, 0.0), (1170, 0.0041922962770718315), (1171, 0.0), (1172, 0.0), (1173, 0.0), (1174, 0.0), (1175, 0.004263930175598554), (1176, 0.004352387384484675), (1177, 0.004037199596514865), (1178, 0.018697021246648245), (1179, 0.004327353868191932), (1180, 0.0), (1181, 0.0), (1182, 0.027931578131548916), (1183, 0.013618578916383484), (1184, 0.016182407518413534), (1185, 0.010316314145907475), (1186, 0.003785026811657718), (1187, 0.0049679136731285035), (1188, 0.004533643997187862), (1189, 0.0), (1190, 0.0), (1191, 0.07635542542572153), (1192, 0.0043103922739190555), (1193, 0.0), (1194, 0.0), (1195, 0.011202560278818227), (1196, 0.0), (1197, 0.0), (1198, 0.0), (1199, 0.05237412336551641), (1200, 0.0), (1201, 0.0), (1202, 0.0035983190389731142), (1203, 0.0), (1204, 0.0), (1205, 0.0), (1206, 0.003984775670198446), (1207, 0.0), (1208, 0.005192304069081016), (1209, 0.003916288652635447), (1210, 0.0), (1211, 0.0), (1212, 0.0), (1213, 0.009671360572377044), (1214, 0.009238659800565808), (1215, 0.0036759465820703644), (1216, 0.013626467464325968), (1217, 0.003969433000981392), (1218, 0.0), (1219, 0.0038523122849051608), (1220, 0.004025498288803667), (1221, 0.0), (1222, 0.05962520398475114), (1223, 0.004342804278791697), (1224, 0.04408902005942901), (1225, 0.004519518631015935), (1226, 0.0), (1227, 0.0), (1228, 0.0), (1229, 0.004460050880868143), (1230, 0.009654649823995495), (1231, 0.009728942142737756), (1232, 0.014589460395953619), (1233, 0.0), (1234, 0.031072134316890383), (1235, 0.0), (1236, 0.009212396610691606), (1237, 0.02237526276547646), (1238, 0.01962183010217667), (1239, 0.0), (1240, 0.0), (1241, 0.026592735595989576), (1242, 0.037979052212421566), (1243, 0.0), (1244, 0.0), (1245, 0.014693643750258318), (1246, 0.0), (1247, 0.03014947442225092), (1248, 0.0669067231754586), (1249, 0.009703663924395348), (1250, 0.0), (1251, 0.0037819907608202166), (1252, 0.014429783351561077), (1253, 0.010521815296968447), (1254, 0.020801130164157768), (1255, 0.004022565528198357), (1256, 0.0), (1257, 0.004177851185382944), (1258, 0.0), (1259, 0.020132484009699574), (1260, 0.0), (1261, 0.004089344673712072), (1262, 0.0), (1263, 0.0), (1264, 0.005236590520716223), (1265, 0.0), (1266, 0.0), (1267, 0.010173707029902666), (1268, 0.018445237915712384), (1269, 0.0), (1270, 0.0), (1271, 0.0), (1272, 0.0), (1273, 0.028186679050766432), (1274, 0.0), (1275, 0.0966204502188214), (1276, 0.00754993025066892), (1277, 0.008610131635244787), (1278, 0.0), (1279, 0.016621654531049194), (1280, 0.0), (1281, 0.0), (1282, 0.0), (1283, 0.0), (1284, 0.0), (1285, 0.0), (1286, 0.004423612933425692), (1287, 0.0), (1288, 0.0), (1289, 0.0), (1290, 0.01270748713217868), (1291, 0.0), (1292, 0.00943171147594164), (1293, 0.0), (1294, 0.0), (1295, 0.0), (1296, 0.0), (1297, 0.0), (1298, 0.0), (1299, 0.045166159648643796), (1300, 0.008410166567234754), (1301, 0.05435891418814348), (1302, 0.027008477717182084), (1303, 0.0034417763724320766), (1304, 0.0), (1305, 0.026023447267117295), (1306, 0.0031273897012811607), (1307, 0.0), (1308, 0.003956110840399995), (1309, 0.0), (1310, 0.0), (1311, 0.0), (1312, 0.0), (1313, 0.004193874324299242), (1314, 0.0584623489710671), (1315, 0.0), (1316, 0.0), (1317, 0.008446937274148024), (1318, 0.0037748552624581135), (1319, 0.0), (1320, 0.008282516814948867), (1321, 0.0), (1322, 0.0), (1323, 0.0), (1324, 0.0044816569830396415), (1325, 0.004749113910952945), (1326, 0.0), (1327, 0.0), (1328, 0.0), (1329, 0.0), (1330, 0.0), (1331, 0.0), (1332, 0.0), (1333, 0.023321698512706796), (1334, 1.0000000000000002), (1335, 0.004335318135777807), (1336, 0.011284536650569955), (1337, 0.01401565302278126), (1338, 0.004231548103430395), (1339, 0.010333157993505959), (1340, 0.003958683304397241), (1341, 0.0), (1342, 0.043834979582618464), (1343, 0.011789496071131084), (1344, 0.008956860473353572), (1345, 0.02022496314418851), (1346, 0.0), (1347, 0.0), (1348, 0.032846369097368974), (1349, 0.03461377035632162), (1350, 0.004525460765868823), (1351, 0.011075647231308907), (1352, 0.003782591606807467), (1353, 0.0), (1354, 0.0), (1355, 0.07534662518783225), (1356, 0.0035633532307335065), (1357, 0.003973231459413957), (1358, 0.0), (1359, 0.0), (1360, 0.013628836033669075), (1361, 0.0), (1362, 0.0), (1363, 0.0), (1364, 0.004505739197901573), (1365, 0.01297908258191139), (1366, 0.03399722828448287), (1367, 0.0), (1368, 0.010285663065935641), (1369, 0.017414023993529926), (1370, 0.0036819339536021734), (1371, 0.047054244844981524), (1372, 0.00398157202960221), (1373, 0.0), (1374, 0.03011820919402155), (1375, 0.003986381809780897), (1376, 0.0), (1377, 0.012241585053725388), (1378, 0.0042166099375363485), (1379, 0.057837070163620566), (1380, 0.05429476905129508), (1381, 0.0), (1382, 0.07096580466657215), (1383, 0.07645959122690425), (1384, 0.0), (1385, 0.045162656257054644), (1386, 0.0), (1387, 0.012635036404255994), (1388, 0.010639815059757344), (1389, 0.0), (1390, 0.0), (1391, 0.0), (1392, 0.009883817035651709), (1393, 0.011552404770309976), (1394, 0.003689143317458601), (1395, 0.0), (1396, 0.0), (1397, 0.0), (1398, 0.0048978536968235726), (1399, 0.0), (1400, 0.004427709921104362), (1401, 0.03187907440738269), (1402, 0.0), (1403, 0.02010491592694719), (1404, 0.010336207587650364), (1405, 0.0), (1406, 0.00994914401019918), (1407, 0.0), (1408, 0.0041415885037795926), (1409, 0.011762855779171131), (1410, 0.0042923239033863655), (1411, 0.011027516899917614), (1412, 0.019618463852194068), (1413, 0.0043637938858975085), (1414, 0.0037355007864416667), (1415, 0.0036310280351649787), (1416, 0.0), (1417, 0.01124442762179979), (1418, 0.0), (1419, 0.0211183434689117), (1420, 0.0), (1421, 0.00415915920304402), (1422, 0.004195038503252586), (1423, 0.003769911566270247), (1424, 0.0), (1425, 0.0), (1426, 0.0), (1427, 0.003898504103551976), (1428, 0.0), (1429, 0.005052510290140619), (1430, 0.0), (1431, 0.01060550162066228), (1432, 0.010699298701680508), (1433, 0.0), (1434, 0.0), (1435, 0.0), (1436, 0.01020336250238912), (1437, 0.0), (1438, 0.004133674469764569), (1439, 0.0), (1440, 0.010105816532038169), (1441, 0.0), (1442, 0.03473484081726742), (1443, 0.0), (1444, 0.0), (1445, 0.0), (1446, 0.0041110721698852945), (1447, 0.0), (1448, 0.004085229715859014), (1449, 0.0), (1450, 0.0), (1451, 0.010251896244635707), (1452, 0.0), (1453, 0.0), (1454, 0.004509466214240085), (1455, 0.01000137783163741), (1456, 0.0), (1457, 0.0), (1458, 0.0336727186972875), (1459, 0.0), (1460, 0.0), (1461, 0.0), (1462, 0.003910108710787779), (1463, 0.004484172922181686), (1464, 0.0), (1465, 0.0), (1466, 0.0), (1467, 0.03778388977717757), (1468, 0.0), (1469, 0.0), (1470, 0.0), (1471, 0.010872308750571977), (1472, 0.0041951941982034755), (1473, 0.0), (1474, 0.004658569094618476), (1475, 0.0043994017854584845), (1476, 0.004225994320669353), (1477, 0.0038796091956437057), (1478, 0.024860688625178193), (1479, 0.0), (1480, 0.0), (1481, 0.004075068632579027), (1482, 0.0), (1483, 0.004173673238303937), (1484, 0.0), (1485, 0.021823657173991422), (1486, 0.0), (1487, 0.0), (1488, 0.025898359007958897), (1489, 0.004849431589137054), (1490, 0.0), (1491, 0.0), (1492, 0.0), (1493, 0.0), (1494, 0.011015464181278762), (1495, 0.0), (1496, 0.02188376189539602), (1497, 0.0), (1498, 0.004933113699237601), (1499, 0.0), (1500, 0.0), (1501, 0.0), (1502, 0.0), (1503, 0.013870660953395024), (1504, 0.0), (1505, 0.0), (1506, 0.016647509826344744), (1507, 0.012453539066367576), (1508, 0.0), (1509, 0.002965607504267488), (1510, 0.03544407248391744), (1511, 0.0), (1512, 0.0), (1513, 0.004561340989345275), (1514, 0.004005147388275955), (1515, 0.0), (1516, 0.0), (1517, 0.0), (1518, 0.004575576853718858), (1519, 0.004056003836769923), (1520, 0.0), (1521, 0.0), (1522, 0.0), (1523, 0.0), (1524, 0.0), (1525, 0.0), (1526, 0.0), (1527, 0.00984489536805174), (1528, 0.0), (1529, 0.010006132873652325), (1530, 0.0), (1531, 0.0), (1532, 0.0), (1533, 0.004281868059603721), (1534, 0.0), (1535, 0.0), (1536, 0.0), (1537, 0.004550107610256166), (1538, 0.06808585612334078), (1539, 0.013617400261410385), (1540, 0.0), (1541, 0.0), (1542, 0.010185143534730705), (1543, 0.0038820604812149903), (1544, 0.009663120263868771), (1545, 0.0), (1546, 0.0), (1547, 0.004964836397292877), (1548, 0.0), (1549, 0.011094782085065558), (1550, 0.0), (1551, 0.0), (1552, 0.026125476744590367), (1553, 0.0), (1554, 0.0), (1555, 0.0), (1556, 0.0), (1557, 0.02693437172952705), (1558, 0.0041402538306123185), (1559, 0.00937685651134129), (1560, 0.0), (1561, 0.010696728423712335), (1562, 0.0), (1563, 0.011619176270013715), (1564, 0.011476038681464837), (1565, 0.0038577206517637014), (1566, 0.0), (1567, 0.0), (1568, 0.0), (1569, 0.009604888548786389), (1570, 0.004556625588551632), (1571, 0.0), (1572, 0.010513686116993345), (1573, 0.0), (1574, 0.04177838195121365), (1575, 0.0), (1576, 0.0), (1577, 0.0), (1578, 0.0), (1579, 0.0), (1580, 0.01198782857284111), (1581, 0.0), (1582, 0.004011912121999201), (1583, 0.0), (1584, 0.009951552394507656), (1585, 0.010469875904156534), (1586, 0.008906848824833202), (1587, 0.0), (1588, 0.0), (1589, 0.0), (1590, 0.0), (1591, 0.011283546610824176), (1592, 0.0), (1593, 0.0), (1594, 0.0), (1595, 0.013061749672333792), (1596, 0.0), (1597, 0.0041085970404294335), (1598, 0.004143872751623059), (1599, 0.01117434540299667), (1600, 0.0), (1601, 0.0), (1602, 0.0), (1603, 0.0), (1604, 0.0), (1605, 0.02846903722508983), (1606, 0.0), (1607, 0.0), (1608, 0.029005993753308194), (1609, 0.0), (1610, 0.0), (1611, 0.0), (1612, 0.0), (1613, 0.0), (1614, 0.0), (1615, 0.031012528311130085), (1616, 0.013293647572997457), (1617, 0.0), (1618, 0.0), (1619, 0.004404291239334857), (1620, 0.004198008562377505), (1621, 0.014133036209919757), (1622, 0.0), (1623, 0.0), (1624, 0.0035580971829791965), (1625, 0.0), (1626, 0.0), (1627, 0.003861126660206058), (1628, 0.004106521196815558), (1629, 0.014312317490750043), (1630, 0.009437002993206793), (1631, 0.0), (1632, 0.010311989556558664), (1633, 0.0), (1634, 0.004180310538650239), (1635, 0.0), (1636, 0.0), (1637, 0.0), (1638, 0.0), (1639, 0.0), (1640, 0.0), (1641, 0.0), (1642, 0.0), (1643, 0.004425710156290464), (1644, 0.0), (1645, 0.004362086360071569), (1646, 0.008859840555150298), (1647, 0.0), (1648, 0.0032723888030203123), (1649, 0.041115386801924156), (1650, 0.0), (1651, 0.0), (1652, 0.009732910838785953), (1653, 0.0042312419477213686), (1654, 0.0), (1655, 0.005268011605537816), (1656, 0.07539070843937196), (1657, 0.0), (1658, 0.0049462949459000306), (1659, 0.0), (1660, 0.0), (1661, 0.0), (1662, 0.0), (1663, 0.0), (1664, 0.0), (1665, 0.013683000398714661), (1666, 0.00414399148773892), (1667, 0.004100876066512762), (1668, 0.0), (1669, 0.02654206550638009), (1670, 0.0), (1671, 0.024226535341470783), (1672, 0.0), (1673, 0.0), (1674, 0.011238931693212646), (1675, 0.003896863133220528), (1676, 0.0), (1677, 0.00344873770984946), (1678, 0.015145629058522424), (1679, 0.011614638108114585), (1680, 0.009344246781855426), (1681, 0.0), (1682, 0.039016804442437276), (1683, 0.02845815193446427), (1684, 0.0), (1685, 0.004571156964646456), (1686, 0.0), (1687, 0.0045767432639517575), (1688, 0.027727330433940316), (1689, 0.0), (1690, 0.0038381023469319492), (1691, 0.0), (1692, 0.0), (1693, 0.004173365984889382), (1694, 0.008816894031822304), (1695, 0.0), (1696, 0.0), (1697, 0.0), (1698, 0.0), (1699, 0.0), (1700, 0.0), (1701, 0.008529059014192868), (1702, 0.0), (1703, 0.004539106750132404), (1704, 0.0), (1705, 0.01088102706128238), (1706, 0.004197518354473667), (1707, 0.028985435187244488), (1708, 0.0), (1709, 0.019543235630653938), (1710, 0.004139436514432511), (1711, 0.005222292336567198), (1712, 0.0), (1713, 0.0), (1714, 0.020291500980764668), (1715, 0.03987628844530505), (1716, 0.015644898938206458), (1717, 0.004281117546825826), (1718, 0.011583315627889966), (1719, 0.0038355750032001827), (1720, 0.0), (1721, 0.0), (1722, 0.004376434184983931), (1723, 0.028790333338941175), (1724, 0.0), (1725, 0.0), (1726, 0.031062726324809352), (1727, 0.010618424724068364), (1728, 0.0), (1729, 0.0182310161171275), (1730, 0.004229413671944354), (1731, 0.0), (1732, 0.0), (1733, 0.048279074762718165), (1734, 0.0), (1735, 0.01058427897003266), (1736, 0.010744676262228721), (1737, 0.0), (1738, 0.0), (1739, 0.013111035565354496), (1740, 0.00427398314719409), (1741, 0.0), (1742, 0.0), (1743, 0.02195094077047508), (1744, 0.004035016507972853), (1745, 0.0), (1746, 0.0), (1747, 0.0033581676957838303), (1748, 0.004913654897582471), (1749, 0.0), (1750, 0.02639338834824741), (1751, 0.0), (1752, 0.0), (1753, 0.0), (1754, 0.011014994780550872), (1755, 0.0), (1756, 0.0), (1757, 0.010771223583929384), (1758, 0.0), (1759, 0.0), (1760, 0.003917216399796422), (1761, 0.0), (1762, 0.013587572960961558), (1763, 0.003848435063828132), (1764, 0.003789907048290018), (1765, 0.0), (1766, 0.0), (1767, 0.021293125850742646), (1768, 0.004244656194970561), (1769, 0.0), (1770, 0.0), (1771, 0.0), (1772, 0.048524228012161975), (1773, 0.0), (1774, 0.011008095232020277), (1775, 0.0), (1776, 0.02974876163012634), (1777, 0.011135002213062122), (1778, 0.0), (1779, 0.004364200335958678), (1780, 0.0), (1781, 0.043744275506804785), (1782, 0.06503381268670186), (1783, 0.0), (1784, 0.0791795793812715), (1785, 0.0), (1786, 0.0), (1787, 0.0), (1788, 0.0), (1789, 0.03162092719234871), (1790, 0.0), (1791, 0.0), (1792, 0.0), (1793, 0.0), (1794, 0.0), (1795, 0.0), (1796, 0.004055765352498972), (1797, 0.03486024116410735), (1798, 0.026266834499646282), (1799, 0.0), (1800, 0.0), (1801, 0.0), (1802, 0.009265569249495453), (1803, 0.0), (1804, 0.010703101903421502), (1805, 0.0), (1806, 0.011540251327122884), (1807, 0.0), (1808, 0.044667458514822234), (1809, 0.009817195692463516), (1810, 0.0), (1811, 0.0), (1812, 0.0), (1813, 0.004087809113395341), (1814, 0.0), (1815, 0.01151378914544415), (1816, 0.03855789572085107), (1817, 0.0), (1818, 0.0), (1819, 0.004047037054038141), (1820, 0.0), (1821, 0.03598267143299847), (1822, 0.004640317467797316), (1823, 0.0), (1824, 0.0), (1825, 0.0), (1826, 0.0), (1827, 0.022049854750762325), (1828, 0.003632059424287313), (1829, 0.0), (1830, 0.0038216075625823374), (1831, 0.019924431851391713), (1832, 0.010429286696723158), (1833, 0.0), (1834, 0.0), (1835, 0.0), (1836, 0.0), (1837, 0.0), (1838, 0.02342918265935223), (1839, 0.0), (1840, 0.0), (1841, 0.0), (1842, 0.0), (1843, 0.0), (1844, 0.0), (1845, 0.0035584291884102506), (1846, 0.0), (1847, 0.0), (1848, 0.0), (1849, 0.0), (1850, 0.0), (1851, 0.004527217077300634), (1852, 0.010701242356747633), (1853, 0.015001801046535972), (1854, 0.009429506308623789), (1855, 0.0), (1856, 0.0), (1857, 0.0), (1858, 0.010805566741078411), (1859, 0.011211376672461162), (1860, 0.0), (1861, 0.02281874596690049), (1862, 0.0), (1863, 0.0), (1864, 0.004051513783030826), (1865, 0.0791723044463287), (1866, 0.004572352583709894), (1867, 0.026502327749698146), (1868, 0.0), (1869, 0.0038529166132705993), (1870, 0.02439536836472879), (1871, 0.06171961826425634), (1872, 0.0), (1873, 0.0), (1874, 0.010681443134050382), (1875, 0.021966327916972197), (1876, 0.01588900472869895), (1877, 0.0), (1878, 0.01442019015510476), (1879, 0.0), (1880, 0.0), (1881, 0.011079766105794076), (1882, 0.00420192462473448), (1883, 0.0), (1884, 0.004005319388232843), (1885, 0.04905578316949295), (1886, 0.0034869099140936283), (1887, 0.0), (1888, 0.0), (1889, 0.0), (1890, 0.0), (1891, 0.025752541064914806), (1892, 0.004154583206426984), (1893, 0.00454354849244263), (1894, 0.0), (1895, 0.0), (1896, 0.004597300416780205), (1897, 0.0046145938293642936), (1898, 0.0), (1899, 0.0), (1900, 0.0), (1901, 0.0), (1902, 0.004416740733817844), (1903, 0.009898351513117002), (1904, 0.0), (1905, 0.0334621981159498), (1906, 0.04414381115496315), (1907, 0.004572694290765839), (1908, 0.0), (1909, 0.004898238745050743), (1910, 0.03288802818146252), (1911, 0.02796653795064341), (1912, 0.0), (1913, 0.0192039621378587), (1914, 0.0), (1915, 0.0), (1916, 0.004542197342182436), (1917, 0.0), (1918, 0.025384272014624183), (1919, 0.013729152217300854), (1920, 0.013617663808253399), (1921, 0.0), (1922, 0.010209434565650504), (1923, 0.004647534582737301), (1924, 0.00471271216435609), (1925, 0.009346372439310972), (1926, 0.0), (1927, 0.0), (1928, 0.0), (1929, 0.0), (1930, 0.0), (1931, 0.004346038140325243), (1932, 0.0), (1933, 0.0), (1934, 0.0038109126219126608), (1935, 0.0), (1936, 0.0), (1937, 0.020579898679285447), (1938, 0.0), (1939, 0.0), (1940, 0.0), (1941, 0.0), (1942, 0.014694749868917702), (1943, 0.003653192023875), (1944, 0.0), (1945, 0.0435603539436382), (1946, 0.004429714526627734), (1947, 0.004969185083190062), (1948, 0.02955427745843875), (1949, 0.01040862856750288), (1950, 0.0035564121599213337), (1951, 0.02774792379587448), (1952, 0.0), (1953, 0.0), (1954, 0.01732123248273626), (1955, 0.0), (1956, 0.0), (1957, 0.0), (1958, 0.0), (1959, 0.0), (1960, 0.04404958474888841), (1961, 0.0), (1962, 0.024729105500239188), (1963, 0.0), (1964, 0.0038249973493266706), (1965, 0.0), (1966, 0.0), (1967, 0.025481174450807803), (1968, 0.004742442867840894), (1969, 0.004238351437611226), (1970, 0.009993562437383596), (1971, 0.012711594079540749), (1972, 0.0), (1973, 0.0), (1974, 0.0), (1975, 0.0), (1976, 0.0), (1977, 0.013486950495782522), (1978, 0.009555627189651968), (1979, 0.0), (1980, 0.0), (1981, 0.0), (1982, 0.04035982339745156), (1983, 0.004297551599046437), (1984, 0.0), (1985, 0.014494624956575802), (1986, 0.019733758375455806), (1987, 0.0), (1988, 0.0), (1989, 0.025322582470361954), (1990, 0.0), (1991, 0.01970167904939669), (1992, 0.0094535445043452), (1993, 0.0), (1994, 0.0), (1995, 0.005072372712331585), (1996, 0.0), (1997, 0.0155814263545542), (1998, 0.0), (1999, 0.0), (2000, 0.0034757516549764346), (2001, 0.0), (2002, 0.0), (2003, 0.0), (2004, 0.004042211960100192), (2005, 0.0), (2006, 0.0), (2007, 0.019545761074170238), (2008, 0.023833903311086865), (2009, 0.0), (2010, 0.003508568900652637), (2011, 0.0038339570567042), (2012, 0.0812631339204407), (2013, 0.0), (2014, 0.0), (2015, 0.0), (2016, 0.015171901156966323), (2017, 0.0), (2018, 0.0), (2019, 0.019580181988130364), (2020, 0.0), (2021, 0.0), (2022, 0.008921377314495797), (2023, 0.013500029925439673), (2024, 0.014112097695469315), (2025, 0.0), (2026, 0.00983342387710612), (2027, 0.023795356463616774), (2028, 0.0), (2029, 0.004098842353199498), (2030, 0.0), (2031, 0.0038786759150536577), (2032, 0.0), (2033, 0.0), (2034, 0.003618183012762834), (2035, 0.0036098787758456334), (2036, 0.010488831429595577), (2037, 0.04711921883657609), (2038, 0.0), (2039, 0.003552305618635625), (2040, 0.015385934735787477), (2041, 0.0), (2042, 0.0), (2043, 0.02478161743707495), (2044, 0.0), (2045, 0.004227253371380534), (2046, 0.0), (2047, 0.0), (2048, 0.004490575269405473), (2049, 0.004778429339779422), (2050, 0.0), (2051, 0.004894042884515703), (2052, 0.0), (2053, 0.026642541717980167), (2054, 0.025573711384227774), (2055, 0.03729182732973364), (2056, 0.0), (2057, 0.0), (2058, 0.035894096028479455), (2059, 0.024608395169253578), (2060, 0.0), (2061, 0.00420993413462385), (2062, 0.0), (2063, 0.0), (2064, 0.02555498979103458), (2065, 0.012617879395525687), (2066, 0.0), (2067, 0.004503216296590029), (2068, 0.004121601330992221), (2069, 0.004123603197531164), (2070, 0.03473734207408827), (2071, 0.0), (2072, 0.0), (2073, 0.004265666501353254), (2074, 0.009680295614614946), (2075, 0.005407314804121584), (2076, 0.008545110517077396), (2077, 0.0), (2078, 0.0), (2079, 0.0), (2080, 0.010279056536750934), (2081, 0.0), (2082, 0.011253142595986592), (2083, 0.0044316530576298295), (2084, 0.0), (2085, 0.0), (2086, 0.0), (2087, 0.004213990933755505), (2088, 0.004507023894675481), (2089, 0.0048926832869015295), (2090, 0.0), (2091, 0.0044211351586880875), (2092, 0.0), (2093, 0.0), (2094, 0.0), (2095, 0.0), (2096, 0.00453886027103276), (2097, 0.0946797578001211), (2098, 0.0), (2099, 0.0), (2100, 0.010302471536715646), (2101, 0.0), (2102, 0.004132727388767656), (2103, 0.014730193145268092), (2104, 0.01604996993220894), (2105, 0.004465819777689981), (2106, 0.0), (2107, 0.0), (2108, 0.004768576191290371), (2109, 0.0), (2110, 0.009408767830165555), (2111, 0.05572673172072834), (2112, 0.015335058461429702), (2113, 0.0), (2114, 0.009260093465883872), (2115, 0.0), (2116, 0.004678878972212628), (2117, 0.004073628393640958), (2118, 0.02070153802284595), (2119, 0.009348044606302189), (2120, 0.0), (2121, 0.004192536461257855), (2122, 0.014990502215809023), (2123, 0.0), (2124, 0.02044377472254548), (2125, 0.0), (2126, 0.010546320603727807), (2127, 0.003610739756173281), (2128, 0.0), (2129, 0.0), (2130, 0.0), (2131, 0.004137045417639399), (2132, 0.0036001956068410427), (2133, 0.0), (2134, 0.004927057401757318), (2135, 0.0), (2136, 0.0), (2137, 0.0), (2138, 0.0), (2139, 0.0), (2140, 0.022812002632796823), (2141, 0.04109082392763493), (2142, 0.0), (2143, 0.003996933324833943), (2144, 0.03184391151646166), (2145, 0.0), (2146, 0.0), (2147, 0.0), (2148, 0.0), (2149, 0.003974368409939221), (2150, 0.0), (2151, 0.0), (2152, 0.0), (2153, 0.0), (2154, 0.005135320252189448), (2155, 0.0042882433260040854), (2156, 0.0), (2157, 0.0036358109518241986), (2158, 0.03436978780272127), (2159, 0.016559195205890647), (2160, 0.0), (2161, 0.0), (2162, 0.03553067243475846), (2163, 0.0), (2164, 0.025053313326703713), (2165, 0.0), (2166, 0.0), (2167, 0.010660721834341897), (2168, 0.0), (2169, 0.004262455785019714), (2170, 0.0), (2171, 0.0), (2172, 0.0), (2173, 0.0), (2174, 0.03426158040288685), (2175, 0.0), (2176, 0.004753342344074492), (2177, 0.0), (2178, 0.0), (2179, 0.0), (2180, 0.0), (2181, 0.0), (2182, 0.0), (2183, 0.0), (2184, 0.032034959418872154), (2185, 0.0), (2186, 0.0), (2187, 0.0), (2188, 0.04320302195253359), (2189, 0.038075866981831775), (2190, 0.0), (2191, 0.013873814447507779), (2192, 0.07342621174261608), (2193, 0.0), (2194, 0.0), (2195, 0.004147286693287763), (2196, 0.02222090277905368), (2197, 0.0), (2198, 0.01993704885106874), (2199, 0.005370514800015347), (2200, 0.0), (2201, 0.0039562275368701496), (2202, 0.0), (2203, 0.0), (2204, 0.00931952733515601), (2205, 0.018443259766499954), (2206, 0.009724675985239933), (2207, 0.019129514775377037), (2208, 0.0), (2209, 0.0), (2210, 0.02379510834083657), (2211, 0.0036323649719047324), (2212, 0.01432570542599527), (2213, 0.0), (2214, 0.015669274023009747), (2215, 0.0), (2216, 0.013950153004939486), (2217, 0.0), (2218, 0.023635740406597897), (2219, 0.0), (2220, 0.008463100333056769), (2221, 0.0), (2222, 0.0), (2223, 0.004666015908795769), (2224, 0.08026470962099341), (2225, 0.0), (2226, 0.004212738385206556), (2227, 0.027188157650475213), (2228, 0.0), (2229, 0.004888800866611632), (2230, 0.004459249869737857), (2231, 0.0), (2232, 0.0), (2233, 0.0), (2234, 0.0), (2235, 0.02215937478590182), (2236, 0.0), (2237, 0.022694842680824858), (2238, 0.0), (2239, 0.0), (2240, 0.0038049160705158186), (2241, 0.0), (2242, 0.0044057629006694085), (2243, 0.0), (2244, 0.0), (2245, 0.020947891273778375), (2246, 0.0), (2247, 0.0), (2248, 0.0), (2249, 0.0), (2250, 0.013988888862876183), (2251, 0.0059286118598025845), (2252, 0.0), (2253, 0.0), (2254, 0.014859039462360345), (2255, 0.03410183359380406), (2256, 0.0), (2257, 0.00549703657428028), (2258, 0.0671047238128903), (2259, 0.0), (2260, 0.004777388612751113), (2261, 0.0), (2262, 0.009852493503281786), (2263, 0.011697373334059511), (2264, 0.009100026115560416), (2265, 0.003912510592745906), (2266, 0.005142267864218583), (2267, 0.0), (2268, 0.0), (2269, 0.004874336416559982), (2270, 0.0), (2271, 0.0), (2272, 0.040957640166231546), (2273, 0.0), (2274, 0.0), (2275, 0.013398545602861266), (2276, 0.009975251842537574), (2277, 0.004439941019116316), (2278, 0.0), (2279, 0.014360265067639643), (2280, 0.009846233712142176), (2281, 0.0), (2282, 0.0), (2283, 0.0), (2284, 0.010188025167774836), (2285, 0.0), (2286, 0.032363603447840984), (2287, 0.003921416498020896), (2288, 0.0), (2289, 0.004592386761435523), (2290, 0.0), (2291, 0.0), (2292, 0.0), (2293, 0.029432910663838928), (2294, 0.0), (2295, 0.0043402707209793945), (2296, 0.0), (2297, 0.0), (2298, 0.0), (2299, 0.0), (2300, 0.0), (2301, 0.022116480218896235), (2302, 0.004821449601417094), (2303, 0.0), (2304, 0.0), (2305, 0.0), (2306, 0.0), (2307, 0.0), (2308, 0.0), (2309, 0.0), (2310, 0.0), (2311, 0.010148028002030128), (2312, 0.0), (2313, 0.004261565327710765), (2314, 0.0), (2315, 0.0), (2316, 0.01051436109053323), (2317, 0.01064444611155113), (2318, 0.016696468199774085), (2319, 0.004410679556236125), (2320, 0.004949623600285984), (2321, 0.05802240063242784), (2322, 0.0), (2323, 0.0), (2324, 0.029590295150551425), (2325, 0.0), (2326, 0.00916554384040968), (2327, 0.010249277967329272), (2328, 0.0), (2329, 0.01061957243742748), (2330, 0.0), (2331, 0.0), (2332, 0.0), (2333, 0.0), (2334, 0.015119763551660404), (2335, 0.0), (2336, 0.0), (2337, 0.0), (2338, 0.0038141634250090433), (2339, 0.0), (2340, 0.02734477564450093), (2341, 0.05957769649036579), (2342, 0.0), (2343, 0.0), (2344, 0.004530600742622671), (2345, 0.02923835963602653), (2346, 0.011116001106196911), (2347, 0.014158395368887095), (2348, 0.004623991435407993), (2349, 0.005816978029283119), (2350, 0.005474008435683729), (2351, 0.03171365713426853), (2352, 0.0), (2353, 0.011209211975006019), (2354, 0.0), (2355, 0.0036585236227465413), (2356, 0.0), (2357, 0.0), (2358, 0.0), (2359, 0.0036318455574121675), (2360, 0.017853849338052296), (2361, 0.00464301717066302), (2362, 0.023783036291920995), (2363, 0.0), (2364, 0.0), (2365, 0.0), (2366, 0.0), (2367, 0.003948498242290773), (2368, 0.0), (2369, 0.0), (2370, 0.0), (2371, 0.0), (2372, 0.0), (2373, 0.0), (2374, 0.004254762745481903), (2375, 0.0045724317294938205), (2376, 0.0), (2377, 0.0), (2378, 0.013214610652771991), (2379, 0.005891332618366378), (2380, 0.0), (2381, 0.0), (2382, 0.01900534284167293), (2383, 0.11675956862077436), (2384, 0.024230730319670286), (2385, 0.06380612527073568), (2386, 0.004424912629965955), (2387, 0.020549029051857955), (2388, 0.005043554215631554), (2389, 0.0), (2390, 0.004577043433905609), (2391, 0.004588787827345256), (2392, 0.0), (2393, 0.004366352799687196), (2394, 0.004656870068362355), (2395, 0.0), (2396, 0.07384451108896709), (2397, 0.004158424837985276), (2398, 0.015448601786623193), (2399, 0.013833229100828077), (2400, 0.00474943714599429), (2401, 0.0), (2402, 0.004099250084881423), (2403, 0.0), (2404, 0.0), (2405, 0.004379098222225533), (2406, 0.01711275834538642), (2407, 0.005632648457770591), (2408, 0.0), (2409, 0.01045608020224438), (2410, 0.0), (2411, 0.00483136512308594), (2412, 0.012313674379180952), (2413, 0.020847264077216595), (2414, 0.0), (2415, 0.005400270252008342), (2416, 0.047881352667304464), (2417, 0.0), (2418, 0.0), (2419, 0.0), (2420, 0.0), (2421, 0.010970387664655336), (2422, 0.004243547964148272), (2423, 0.005498009618426279), (2424, 0.0), (2425, 0.0), (2426, 0.0), (2427, 0.004977344881124672), (2428, 0.005078985924656768), (2429, 0.0), (2430, 0.033985702088809126), (2431, 0.0), (2432, 0.0), (2433, 0.0), (2434, 0.005058311295201276), (2435, 0.0), (2436, 0.004675947776498879), (2437, 0.004982055634867541), (2438, 0.005407792561322565), (2439, 0.0), (2440, 0.0), (2441, 0.003520289072439209), (2442, 0.0), (2443, 0.0028814246551281345), (2444, 0.0), (2445, 0.0), (2446, 0.0), (2447, 0.012295779699011761), (2448, 0.005441506592295123), (2449, 0.0), (2450, 0.0), (2451, 0.0), (2452, 0.0), (2453, 0.003981785760192748), (2454, 0.0), (2455, 0.0), (2456, 0.0), (2457, 0.00395126036636609), (2458, 0.0), (2459, 0.04285031125226954), (2460, 0.0), (2461, 0.0230495038368874), (2462, 0.0), (2463, 0.0), (2464, 0.011908658039208838), (2465, 0.029276171889518542), (2466, 0.004405836298676139), (2467, 0.004065907301175711), (2468, 0.01188350076934387), (2469, 0.0033550630176627685), (2470, 0.0), (2471, 0.0), (2472, 0.0), (2473, 0.004076691514013851), (2474, 0.028026200611929977), (2475, 0.00499569819759456), (2476, 0.0), (2477, 0.004504392824561308), (2478, 0.0048453158998434), (2479, 0.0), (2480, 0.0), (2481, 0.0), (2482, 0.004009044963696783), (2483, 0.0), (2484, 0.08868388660268403), (2485, 0.0), (2486, 0.011595326134048732), (2487, 0.021034700930561548), (2488, 0.005085343619956584), (2489, 0.014567169686525754), (2490, 0.006034482192000721), (2491, 0.0), (2492, 0.004321099923678946), (2493, 0.0), (2494, 0.004372673917894823), (2495, 0.0), (2496, 0.004139777489689629), (2497, 0.0), (2498, 0.0), (2499, 0.0), (2500, 0.0), (2501, 0.027253319591437345), (2502, 0.02811650582380057), (2503, 0.0), (2504, 0.0), (2505, 0.0), (2506, 0.0), (2507, 0.011729012731513978), (2508, 0.0), (2509, 0.0037143870212008683), (2510, 0.0), (2511, 0.0), (2512, 0.013774406172109087), (2513, 0.0), (2514, 0.00994281193076024), (2515, 0.0), (2516, 0.0), (2517, 0.02896679662195091), (2518, 0.0), (2519, 0.0), (2520, 0.003782749841859383), (2521, 0.0), (2522, 0.015390622478843385), (2523, 0.0), (2524, 0.0), (2525, 0.009900458056591215), (2526, 0.0035957221051633485), (2527, 0.004025032518664784), (2528, 0.004066366653758175), (2529, 0.006125968909592217), (2530, 0.0052362290345292295), (2531, 0.0044504052969408965), (2532, 0.0), (2533, 0.0), (2534, 0.0019626425872788403), (2535, 0.004996542893850819), (2536, 0.0), (2537, 0.0), (2538, 0.0992389125382093), (2539, 0.0), (2540, 0.014589829157967929), (2541, 0.04824508165541669), (2542, 0.048807788565397796), (2543, 0.0), (2544, 0.0), (2545, 0.0), (2546, 0.01079331065745866), (2547, 0.0), (2548, 0.0), (2549, 0.0), (2550, 0.003190780408797017), (2551, 0.0), (2552, 0.035122645885463405), (2553, 0.040538244091204496), (2554, 0.004411725908155397), (2555, 0.026359345286299886), (2556, 0.004064481542654861), (2557, 0.0), (2558, 0.0306138114625492), (2559, 0.005596141128392415), (2560, 0.026680600573975248), (2561, 0.0), (2562, 0.0), (2563, 0.03856917936012402), (2564, 0.0), (2565, 0.0), (2566, 0.0), (2567, 0.0), (2568, 0.005820541292142522), (2569, 0.0), (2570, 0.004999658888566635), (2571, 0.0), (2572, 0.0), (2573, 0.0), (2574, 0.0), (2575, 0.0), (2576, 0.0), (2577, 0.0), (2578, 0.0), (2579, 0.004710460265382591), (2580, 0.01343034123296436), (2581, 0.0), (2582, 0.0), (2583, 0.0), (2584, 0.0), (2585, 0.03037469751455239), (2586, 0.022610507110406925), (2587, 0.06760394499390442), (2588, 0.0), (2589, 0.0), (2590, 0.0), (2591, 0.0038254123697479556), (2592, 0.004706160479116189), (2593, 0.004171144895551835), (2594, 0.0), (2595, 0.0), (2596, 0.0), (2597, 0.0), (2598, 0.0039672799727154635), (2599, 0.0), (2600, 0.0), (2601, 0.016117701716068404), (2602, 0.01268112773421599), (2603, 0.003637520887238132), (2604, 0.0), (2605, 0.0), (2606, 0.04834028432892251), (2607, 0.013168596297021912), (2608, 0.0), (2609, 0.00444943326238838), (2610, 0.0), (2611, 0.023673340057826644), (2612, 0.004162625802903284), (2613, 0.0), (2614, 0.029875118964197395), (2615, 0.0), (2616, 0.0), (2617, 0.008534511951373575), (2618, 0.0), (2619, 0.0), (2620, 0.0), (2621, 0.003616372455951328), (2622, 0.0), (2623, 0.004994851188012896), (2624, 0.0), (2625, 0.004878917436813009), (2626, 0.07047737407373869), (2627, 0.0), (2628, 0.0), (2629, 0.004711313146585859), (2630, 0.0), (2631, 0.0), (2632, 0.015286151941274601), (2633, 0.004496048414440497), (2634, 0.004112597760594696), (2635, 0.08348995068892683), (2636, 0.0), (2637, 0.031213910739972366), (2638, 0.016140761580774227), (2639, 0.02663381740737018), (2640, 0.0), (2641, 0.0), (2642, 0.00412512571202263), (2643, 0.005738239556993391), (2644, 0.0), (2645, 0.01844550489439585), (2646, 0.02475504862144108), (2647, 0.0042676520192365805), (2648, 0.0), (2649, 0.0275172911329592), (2650, 0.0), (2651, 0.0), (2652, 0.004267730920933445), (2653, 0.004028128265675365), (2654, 0.0), (2655, 0.005780632466079688), (2656, 0.0), (2657, 0.0), (2658, 0.0), (2659, 0.0), (2660, 0.02491656205407998), (2661, 0.004412073765441386), (2662, 0.0), (2663, 0.010677067594914708), (2664, 0.004848027347472576), (2665, 0.022505843636433157), (2666, 0.0), (2667, 0.0), (2668, 0.015489137382474007), (2669, 0.0), (2670, 0.0), (2671, 0.008333321290557947), (2672, 0.0), (2673, 0.0), (2674, 0.004079049151004031), (2675, 0.0), (2676, 0.0), (2677, 0.021701383080332145), (2678, 0.006807592227696303), (2679, 0.0), (2680, 0.0), (2681, 0.0), (2682, 0.0), (2683, 0.0), (2684, 0.0), (2685, 0.0), (2686, 0.009821852751732345), (2687, 0.015007475422373748), (2688, 0.0), (2689, 0.0), (2690, 0.0), (2691, 0.0), (2692, 0.012492251296617182), (2693, 0.07056417447138555), (2694, 0.0), (2695, 0.01437768950313623), (2696, 0.004997147607466364), (2697, 0.019989832952594693), (2698, 0.04704912889677471), (2699, 0.0), (2700, 0.0), (2701, 0.0), (2702, 0.004880747924514024), (2703, 0.0), (2704, 0.0), (2705, 0.004786435330283015), (2706, 0.004270698633507074), (2707, 0.0), (2708, 0.0), (2709, 0.0), (2710, 0.0), (2711, 0.0), (2712, 0.01592560903384251), (2713, 0.0), (2714, 0.0045244907369694385), (2715, 0.0), (2716, 0.0041612436899218196), (2717, 0.0), (2718, 0.0), (2719, 0.0), (2720, 0.0), (2721, 0.0), (2722, 0.0), (2723, 0.03703980310376266), (2724, 0.003808544019510279), (2725, 0.0), (2726, 0.0), (2727, 0.012272475728662602), (2728, 0.0), (2729, 0.0), (2730, 0.013060610000571796), (2731, 0.005632606061662341), (2732, 0.0), (2733, 0.0), (2734, 0.0), (2735, 0.0), (2736, 0.01873858819775774), (2737, 0.0), (2738, 0.0), (2739, 0.01058273308250204), (2740, 0.0048995788749431985), (2741, 0.003930945652895878), (2742, 0.00919841747585655), (2743, 0.004035436568253131), (2744, 0.004353026561879815), (2745, 0.004268842372383763), (2746, 0.03138643674422438), (2747, 0.0038445638853671655), (2748, 0.00500516907743042), (2749, 0.0), (2750, 0.0), (2751, 0.019688777820906098), (2752, 0.00983981037484092), (2753, 0.0), (2754, 0.0302144005907037), (2755, 0.004667990374906314), (2756, 0.0), (2757, 0.0), (2758, 0.003560391342331209), (2759, 0.0116479642056861), (2760, 0.0), (2761, 0.0035956904207420193), (2762, 0.0), (2763, 0.0), (2764, 0.0059371086635722), (2765, 0.0), (2766, 0.0033909135682842415), (2767, 0.003355315922293202), (2768, 0.005853330347559883), (2769, 0.004904249361705656), (2770, 0.0), (2771, 0.0038275409602807533), (2772, 0.005040245762037348), (2773, 0.0), (2774, 0.0), (2775, 0.005709730829031678), (2776, 0.016045496262730937), (2777, 0.01380507097825116), (2778, 0.005167447461084427), (2779, 0.025703196560338197), (2780, 0.010679478712872439), (2781, 0.0), (2782, 0.00465092231883576), (2783, 0.0), (2784, 0.014288225068001247), (2785, 0.0), (2786, 0.0), (2787, 0.0), (2788, 0.0), (2789, 0.0), (2790, 0.0), (2791, 0.00961114609769309), (2792, 0.0), (2793, 0.0), (2794, 0.06466973679561985), (2795, 0.01846050603170791), (2796, 0.004980824332621957), (2797, 0.005322328853384124), (2798, 0.0044498381681689885), (2799, 0.0), (2800, 0.003987596238366623), (2801, 0.00953290335269354), (2802, 0.004211215168995713), (2803, 0.003927016092196004), (2804, 0.0), (2805, 0.0), (2806, 0.0), (2807, 0.0), (2808, 0.01407600491030198), (2809, 0.02019953742584457), (2810, 0.0), (2811, 0.0), (2812, 0.004262412018819604), (2813, 0.010951296166340631), (2814, 0.0), (2815, 0.0), (2816, 0.0), (2817, 0.011512225217864833), (2818, 0.0), (2819, 0.0), (2820, 0.0), (2821, 0.004560283376105317), (2822, 0.028907535161464916), (2823, 0.0), (2824, 0.0), (2825, 0.0), (2826, 0.01065939234931783), (2827, 0.0), (2828, 0.0), (2829, 0.010333465767858475), (2830, 0.026191826460098093), (2831, 0.004187077870829654), (2832, 0.005871412726485048), (2833, 0.0), (2834, 0.02917300141600446), (2835, 0.0), (2836, 0.0), (2837, 0.0), (2838, 0.0052910304312574164), (2839, 0.0), (2840, 0.004727509729625988), (2841, 0.023886194999777902), (2842, 0.0), (2843, 0.0), (2844, 0.012369779906252945), (2845, 0.013663701432001785), (2846, 0.0), (2847, 0.0), (2848, 0.005081533231577162), (2849, 0.011337404951673822), (2850, 0.0), (2851, 0.0), (2852, 0.01217882880171823), (2853, 0.0), (2854, 0.038393452485514776), (2855, 0.0), (2856, 0.0), (2857, 0.005006380213699055), (2858, 0.0), (2859, 0.004039258023656678), (2860, 0.0), (2861, 0.0), (2862, 0.004007376900372027), (2863, 0.0), (2864, 0.0), (2865, 0.0), (2866, 0.0), (2867, 0.0), (2868, 0.0), (2869, 0.0), (2870, 0.005925131407943502), (2871, 0.03478694374439288), (2872, 0.00498769378841395), (2873, 0.0), (2874, 0.00911938069292255), (2875, 0.0), (2876, 0.003649654890623809), (2877, 0.0), (2878, 0.004374918125649691), (2879, 0.005223439764788811), (2880, 0.0), (2881, 0.004874701140149777), (2882, 0.0), (2883, 0.005722177336261255), (2884, 0.0), (2885, 0.0), (2886, 0.013965595735202986), (2887, 0.00427721875763888), (2888, 0.029497078134448226), (2889, 0.0056715865686507135), (2890, 0.0051131068245511505), (2891, 0.0), (2892, 0.00403536289413266), (2893, 0.02948002729664517), (2894, 0.004441298180874627), (2895, 0.0), (2896, 0.0), (2897, 0.009747186827776895), (2898, 0.0), (2899, 0.003974947945442512), (2900, 0.0), (2901, 0.005597506298933339), (2902, 0.0), (2903, 0.0158877924528207), (2904, 0.004306605210665287), (2905, 0.0), (2906, 0.0), (2907, 0.004113522380790327), (2908, 0.020137117779976208), (2909, 0.0), (2910, 0.014808695125768935), (2911, 0.03333412105189793), (2912, 0.010737719213160891), (2913, 0.008723016108208508), (2914, 0.004983423342434791), (2915, 0.004733427284439002), (2916, 0.004938551969702635), (2917, 0.0034094594631554273), (2918, 0.009901017013592969), (2919, 0.014901092198580716), (2920, 0.003962219168709129), (2921, 0.0), (2922, 0.08373356517614819), (2923, 0.0), (2924, 0.004795734219112009), (2925, 0.011615647164723398), (2926, 0.004503101663851868), (2927, 0.0), (2928, 0.0), (2929, 0.0), (2930, 0.0), (2931, 0.012969423174196776), (2932, 0.018926634026998436), (2933, 0.003741481220420977), (2934, 0.01463293436236254), (2935, 0.010268102010418766), (2936, 0.0), (2937, 0.0), (2938, 0.0), (2939, 0.012040585885500088), (2940, 0.0), (2941, 0.0), (2942, 0.009572845964352907), (2943, 0.004752370509005939), (2944, 0.010236304915647905), (2945, 0.0041978053381672145), (2946, 0.004282296489456539), (2947, 0.0), (2948, 0.0), (2949, 0.0), (2950, 0.0), (2951, 0.0), (2952, 0.0), (2953, 0.0), (2954, 0.0), (2955, 0.0), (2956, 0.0), (2957, 0.0), (2958, 0.0), (2959, 0.0), (2960, 0.0), (2961, 0.014366513119988971), (2962, 0.010191933130240754), (2963, 0.0), (2964, 0.0), (2965, 0.00416068428393934), (2966, 0.005291745159470547), (2967, 0.0), (2968, 0.0), (2969, 0.003629366555827198), (2970, 0.0), (2971, 0.0), (2972, 0.0042688871432338075), (2973, 0.0), (2974, 0.004871508377147425), (2975, 0.0037353096680596103), (2976, 0.0037563816799366864), (2977, 0.0043241384059265996), (2978, 0.010664866401600075), (2979, 0.0), (2980, 0.00420307207992559), (2981, 0.003716775178934958), (2982, 0.0), (2983, 0.0), (2984, 0.0), (2985, 0.0), (2986, 0.004985255684986286), (2987, 0.0), (2988, 0.004441060247563528), (2989, 0.00595317782642195), (2990, 0.0), (2991, 0.0), (2992, 0.0), (2993, 0.0), (2994, 0.0), (2995, 0.00410609524000367), (2996, 0.02638149086154695), (2997, 0.0), (2998, 0.006109407141453155), (2999, 0.004509898166096973), (3000, 0.011028126250485895), (3001, 0.02989753222120497), (3002, 0.0), (3003, 0.0), (3004, 0.00506871337613043), (3005, 0.0), (3006, 0.0), (3007, 0.0), (3008, 0.0), (3009, 0.0), (3010, 0.010487621093256965), (3011, 0.0), (3012, 0.005047923416034745), (3013, 0.004620625468000772), (3014, 0.014487278582859694), (3015, 0.005443790359133089), (3016, 0.0), (3017, 0.0), (3018, 0.0), (3019, 0.017213593880654635), (3020, 0.0), (3021, 0.0), (3022, 0.0), (3023, 0.0), (3024, 0.003569406944098659), (3025, 0.0), (3026, 0.0), (3027, 0.003906981639446469), (3028, 0.0040231631196170885), (3029, 0.0), (3030, 0.0), (3031, 0.0), (3032, 0.02982422701921806), (3033, 0.0), (3034, 0.0), (3035, 0.0), (3036, 0.004264758625682326), (3037, 0.004669245563206536), (3038, 0.0), (3039, 0.0), (3040, 0.0), (3041, 0.02343517128807307), (3042, 0.0), (3043, 0.03995945868098223), (3044, 0.004805250028637286), (3045, 0.00900166021898921), (3046, 0.06063886694141023), (3047, 0.0), (3048, 0.0), (3049, 0.0), (3050, 0.0040943472219736364), (3051, 0.005897860491889323), (3052, 0.0), (3053, 0.0), (3054, 0.0), (3055, 0.0), (3056, 0.003628595353032631), (3057, 0.0), (3058, 0.0), (3059, 0.0), (3060, 0.0), (3061, 0.0), (3062, 0.004952275575936385), (3063, 0.0), (3064, 0.025654745798296637), (3065, 0.0037851078304437613), (3066, 0.0), (3067, 0.004250597700206193), (3068, 0.0), (3069, 0.019044233941450456), (3070, 0.009223317938242593), (3071, 0.003942153089649289), (3072, 0.005120775627403713), (3073, 0.0), (3074, 0.005381339411173445), (3075, 0.0044938899141665906), (3076, 0.005566031668128159), (3077, 0.0), (3078, 0.04366269844926609), (3079, 0.0), (3080, 0.0), (3081, 0.005243060011828302), (3082, 0.0), (3083, 0.018922592922719084), (3084, 0.0), (3085, 0.0), (3086, 0.015034751977632203), (3087, 0.0), (3088, 0.0), (3089, 0.0), (3090, 0.0), (3091, 0.012608059597331255), (3092, 0.0), (3093, 0.0), (3094, 0.004893269039776501), (3095, 0.038996772063482385), (3096, 0.013119786968211769), (3097, 0.0045242729289468745), (3098, 0.019529930589281198), (3099, 0.009180225459253098), (3100, 0.0), (3101, 0.0), (3102, 0.0), (3103, 0.0), (3104, 0.0), (3105, 0.0), (3106, 0.0), (3107, 0.0374068827050769), (3108, 0.003768696146962924), (3109, 0.0), (3110, 0.01086106348129856), (3111, 0.013243077878908563), (3112, 0.004611946447386424), (3113, 0.011416306315432079), (3114, 0.0), (3115, 0.0), (3116, 0.004736657965810649), (3117, 0.012116803391676081), (3118, 0.009778503066066214), (3119, 0.051163908530999544), (3120, 0.013891879123155733), (3121, 0.010522925516186724), (3122, 0.004201719232295185), (3123, 0.005057628589090998), (3124, 0.0), (3125, 0.004349058458893741), (3126, 0.0), (3127, 0.0), (3128, 0.0), (3129, 0.0), (3130, 0.019375297754984477), (3131, 0.0), (3132, 0.0), (3133, 0.0), (3134, 0.0), (3135, 0.030792214924541244), (3136, 0.0), (3137, 0.0038209216881017606), (3138, 0.0), (3139, 0.0), (3140, 0.005483343446324428), (3141, 0.0), (3142, 0.013736460856981155), (3143, 0.0), (3144, 0.0), (3145, 0.0), (3146, 0.004675067651409369), (3147, 0.003948192863143038), (3148, 0.004782706336967806), (3149, 0.0), (3150, 0.027448006239701474), (3151, 0.004174634525002325), (3152, 0.01234134989946871), (3153, 0.03241287583525751), (3154, 0.029656182985263124), (3155, 0.010248581647647692), (3156, 0.0), (3157, 0.0), (3158, 0.0), (3159, 0.0), (3160, 0.0), (3161, 0.051768147126293323), (3162, 0.0), (3163, 0.036132162997717286), (3164, 0.0), (3165, 0.005035776789268417), (3166, 0.005733143003594217), (3167, 0.0), (3168, 0.0), (3169, 0.0), (3170, 0.004208813039323171), (3171, 0.014074142415129408), (3172, 0.0), (3173, 0.0), (3174, 0.0), (3175, 0.011427493311570369), (3176, 0.0), (3177, 0.0), (3178, 0.006546855383333848), (3179, 0.0), (3180, 0.0), (3181, 0.0), (3182, 0.03155998547875709), (3183, 0.004625374065516617), (3184, 0.004420472169425562), (3185, 0.0), (3186, 0.0), (3187, 0.0046590054367620076), (3188, 0.0), (3189, 0.0), (3190, 0.0), (3191, 0.0), (3192, 0.01096014656981302), (3193, 0.0), (3194, 0.0040714060069615985), (3195, 0.014857537400176899), (3196, 0.004712858148268087), (3197, 0.0), (3198, 0.004612940150521395), (3199, 0.0033739152593842974), (3200, 0.0036384948639214413), (3201, 0.019972941978673647), (3202, 0.0), (3203, 0.0), (3204, 0.0), (3205, 0.0), (3206, 0.0), (3207, 0.023974539390951954), (3208, 0.0), (3209, 0.0), (3210, 0.015207490880283971), (3211, 0.0), (3212, 0.0), (3213, 0.0), (3214, 0.004393221064820195), (3215, 0.009412128966878422), (3216, 0.0), (3217, 0.0), (3218, 0.004598058518856329), (3219, 0.005536361820013867), (3220, 0.0040948643293982475), (3221, 0.0), (3222, 0.0), (3223, 0.017211423545142896), (3224, 0.011340676717237146), (3225, 0.0), (3226, 0.003897072855696497), (3227, 0.004434921867824479), (3228, 0.004976897214394811), (3229, 0.011460558825568953), (3230, 0.0), (3231, 0.009795864408952762), (3232, 0.00948417656945059), (3233, 0.0044198771161513516), (3234, 0.004640981764578275), (3235, 0.004566911267310856), (3236, 0.0), (3237, 0.004202081708025612), (3238, 0.01809440321530571), (3239, 0.0), (3240, 0.004039373076859847), (3241, 0.0044011652927006106), (3242, 0.0), (3243, 0.0), (3244, 0.009934153346952983), (3245, 0.01050245210912504), (3246, 0.0), (3247, 0.0), (3248, 0.004877828474058208), (3249, 0.0), (3250, 0.0), (3251, 0.0), (3252, 0.045717392544577115), (3253, 0.0), (3254, 0.0036985553598566094), (3255, 0.0), (3256, 0.0129062787503434), (3257, 0.005996068830855176), (3258, 0.004853270311264518), (3259, 0.01065181608228547), (3260, 0.0), (3261, 0.0), (3262, 0.005855709752662855), (3263, 0.0), (3264, 0.021082291521802455), (3265, 0.0), (3266, 0.0), (3267, 0.009318967805567256), (3268, 0.004269633934199359), (3269, 0.0), (3270, 0.010864547791915794), (3271, 0.0), (3272, 0.0), (3273, 0.004645903857975326), (3274, 0.004927109901872818), (3275, 0.017623149172976273), (3276, 0.006158003201417605), (3277, 0.0), (3278, 0.004012258687167673), (3279, 0.0), (3280, 0.0), (3281, 0.0), (3282, 0.03877958720750521), (3283, 0.0), (3284, 0.03851909012462356), (3285, 0.0), (3286, 0.0), (3287, 0.0), (3288, 0.0), (3289, 0.0), (3290, 0.0), (3291, 0.006093425403465148), (3292, 0.0), (3293, 0.00406428114257144), (3294, 0.0), (3295, 0.0), (3296, 0.004890793427185072), (3297, 0.014436536949486463), (3298, 0.004080345270702991), (3299, 0.0), (3300, 0.004033552042280846), (3301, 0.003623137494356248), (3302, 0.01795253718395607), (3303, 0.004349109969441965), (3304, 0.021882236579668066), (3305, 0.0), (3306, 0.018381813676319185), (3307, 0.0), (3308, 0.030603164029933065), (3309, 0.0), (3310, 0.0), (3311, 0.014031840525421136), (3312, 0.0113106733596106), (3313, 0.0), (3314, 0.004456316438110311), (3315, 0.004169678600758076), (3316, 0.024428052909342947), (3317, 0.011800087887680064), (3318, 0.003856713452062477), (3319, 0.0), (3320, 0.02073709331984884), (3321, 0.0), (3322, 0.0), (3323, 0.0), (3324, 0.0), (3325, 0.00694246149558599), (3326, 0.027483275889234077), (3327, 0.0037976359755536714), (3328, 0.002783677799693041), (3329, 0.009871597774891785), (3330, 0.004287098990471836), (3331, 0.003694311359418201), (3332, 0.0), (3333, 0.0), (3334, 0.010489010721192748), (3335, 0.0), (3336, 0.0), (3337, 0.0), (3338, 0.0103212649344539), (3339, 0.0), (3340, 0.0), (3341, 0.0), (3342, 0.003965450524646668), (3343, 0.0), (3344, 0.0035779630769219944), (3345, 0.0), (3346, 0.004259235396724357), (3347, 0.003601641821713528), (3348, 0.0), (3349, 0.004521533525401211), (3350, 0.0), (3351, 0.0), (3352, 0.004043855235146988), (3353, 0.004460922569988311), (3354, 0.0), (3355, 0.005067429421325011), (3356, 0.0), (3357, 0.0050749829545100435), (3358, 0.0), (3359, 0.005064495014847596), (3360, 0.003749294100052137), (3361, 0.0), (3362, 0.0), (3363, 0.005177631990801372), (3364, 0.004953128290657735), (3365, 0.003069220454989667), (3366, 0.03000268337887977), (3367, 0.0), (3368, 0.0), (3369, 0.0), (3370, 0.023593781464543877), (3371, 0.0), (3372, 0.0), (3373, 0.011078142595677026), (3374, 0.015153276846165), (3375, 0.0), (3376, 0.0), (3377, 0.04323759504649781), (3378, 0.027994504107778758), (3379, 0.004089952655093716), (3380, 0.003811218826948729), (3381, 0.0), (3382, 0.01034535301234743), (3383, 0.0), (3384, 0.0), (3385, 0.0), (3386, 0.02724502616891453), (3387, 0.0), (3388, 0.00442039025790388), (3389, 0.0039009237505791), (3390, 0.0), (3391, 0.004728322780668596), (3392, 0.01360807030388154), (3393, 0.0037451742139535896), (3394, 0.0), (3395, 0.0), (3396, 0.0), (3397, 0.0), (3398, 0.05086737577415761), (3399, 0.004039164377886866), (3400, 0.0), (3401, 0.0), (3402, 0.004200701253248991), (3403, 0.02140018405805551), (3404, 0.0), (3405, 0.0), (3406, 0.004567712048984197), (3407, 0.004096347361548034), (3408, 0.00467131814784388), (3409, 0.0036849511577340425), (3410, 0.0), (3411, 0.03431806031628663), (3412, 0.010315331161457655), (3413, 0.004976766977808863), (3414, 0.0), (3415, 0.0), (3416, 0.0), (3417, 0.00469579903443013), (3418, 0.008985924973856262), (3419, 0.0), (3420, 0.0100931193898374), (3421, 0.0), (3422, 0.0), (3423, 0.0), (3424, 0.0), (3425, 0.004815897607909436), (3426, 0.0), (3427, 0.0), (3428, 0.0), (3429, 0.0), (3430, 0.0), (3431, 0.0), (3432, 0.0), (3433, 0.004117993901312762), (3434, 0.0), (3435, 0.004256264560568632), (3436, 0.03783536021803255), (3437, 0.015168914090059226), (3438, 0.0), (3439, 0.0), (3440, 0.0), (3441, 0.0), (3442, 0.0), (3443, 0.0), (3444, 0.0), (3445, 0.0042815882644891895), (3446, 0.0), (3447, 0.014235932866788271), (3448, 0.0), (3449, 0.004475365535804021), (3450, 0.027386479253941158), (3451, 0.0), (3452, 0.03757520208298446), (3453, 0.011523320892428024), (3454, 0.0), (3455, 0.0), (3456, 0.014970349753175726), (3457, 0.022968848331553857), (3458, 0.0), (3459, 0.0), (3460, 0.003968751080167749), (3461, 0.0), (3462, 0.0), (3463, 0.0), (3464, 0.0), (3465, 0.009514425021861509), (3466, 0.025304044450130538), (3467, 0.02188601873304443), (3468, 0.0), (3469, 0.0), (3470, 0.0), (3471, 0.0036588802378532985), (3472, 0.0), (3473, 0.0), (3474, 0.0038185122492628643), (3475, 0.0), (3476, 0.0), (3477, 0.004191022249868699), (3478, 0.0), (3479, 0.005542199322394035), (3480, 0.0), (3481, 0.0), (3482, 0.0), (3483, 0.014686970797845573), (3484, 0.0), (3485, 0.0), (3486, 0.03430570019364543), (3487, 0.014752375766517726), (3488, 0.0), (3489, 0.0), (3490, 0.0), (3491, 0.0), (3492, 0.0042342242281634785), (3493, 0.0044865924564303095), (3494, 0.0), (3495, 0.0), (3496, 0.0044737701101896), (3497, 0.0), (3498, 0.004120495912396391), (3499, 0.0504269555603331), (3500, 0.0042206419795227865), (3501, 0.004451704934640945), (3502, 0.0), (3503, 0.03286590992458503), (3504, 0.013601193250342924), (3505, 0.0), (3506, 0.004806401306870787), (3507, 0.0), (3508, 0.026485762510853078), (3509, 0.00950049614354742), (3510, 0.0), (3511, 0.004495014430544751), (3512, 0.006921716855520512), (3513, 0.0), (3514, 0.028115355219135232), (3515, 0.0), (3516, 0.004380008742960551), (3517, 0.0), (3518, 0.05405534143900816), (3519, 0.0), (3520, 0.01080529544119309), (3521, 0.0051305156690269705), (3522, 0.0), (3523, 0.030611552667239694), (3524, 0.004864502665733913), (3525, 0.0), (3526, 0.004380932855686819), (3527, 0.004566271980005367), (3528, 0.0), (3529, 0.011587437619302287), (3530, 0.0), (3531, 0.0), (3532, 0.0), (3533, 0.0), (3534, 0.0035668264299656208), (3535, 0.01204623863817161), (3536, 0.0), (3537, 0.0), (3538, 0.0), (3539, 0.0), (3540, 0.0), (3541, 0.004252951880101978), (3542, 0.004365899803876758), (3543, 0.0), (3544, 0.0), (3545, 0.03860114766528124), (3546, 0.0032083730289895643), (3547, 0.0), (3548, 0.0), (3549, 0.0), (3550, 0.018373711629589725), (3551, 0.004399775387528937), (3552, 0.006780088150802882), (3553, 0.014679276544464185), (3554, 0.039136489612288224), (3555, 0.0), (3556, 0.0037341041470779473), (3557, 0.0041886739045523405), (3558, 0.004089163850631567), (3559, 0.0), (3560, 0.03516531376611943), (3561, 0.03509360011007407), (3562, 0.018992241346463882), (3563, 0.003959013751102074), (3564, 0.004354700334297244), (3565, 0.0), (3566, 0.01949487424689479), (3567, 0.0), (3568, 0.0), (3569, 0.0037969782514573505), (3570, 0.0), (3571, 0.004298911071235895), (3572, 0.0), (3573, 0.0), (3574, 0.0), (3575, 0.02665522873700952), (3576, 0.0), (3577, 0.005049195226185007), (3578, 0.0), (3579, 0.03172071826963103), (3580, 0.0), (3581, 0.0), (3582, 0.009738458007599043), (3583, 0.0), (3584, 0.024234861780859384), (3585, 0.01103150672666795), (3586, 0.010743975481545816), (3587, 0.0), (3588, 0.0), (3589, 0.010186536335335845), (3590, 0.004865949390655035), (3591, 0.028202743683371945), (3592, 0.0), (3593, 0.0), (3594, 0.0), (3595, 0.0), (3596, 0.0), (3597, 0.0), (3598, 0.0), (3599, 0.0), (3600, 0.025891752807379445), (3601, 0.004660910715255361), (3602, 0.033722511627236974), (3603, 0.0), (3604, 0.0), (3605, 0.0), (3606, 0.0), (3607, 0.013205833351510128), (3608, 0.0), (3609, 0.0), (3610, 0.0), (3611, 0.0), (3612, 0.01505306800139905), (3613, 0.005401633938897572), (3614, 0.003958230368303151), (3615, 0.0), (3616, 0.0), (3617, 0.0), (3618, 0.004697770464913692), (3619, 0.0), (3620, 0.04746457249161918), (3621, 0.0), (3622, 0.0), (3623, 0.004448097648357974), (3624, 0.004394609775145074), (3625, 0.0), (3626, 0.0033130510068426497), (3627, 0.0), (3628, 0.0), (3629, 0.0), (3630, 0.019805692004898994), (3631, 0.0), (3632, 0.0), (3633, 0.0), (3634, 0.003863132422400513), (3635, 0.005672456894818843), (3636, 0.0), (3637, 0.02254944802229066), (3638, 0.005130187003246109), (3639, 0.004744687059796785), (3640, 0.004772511728460594), (3641, 0.004201645209212339), (3642, 0.010421412112040025), (3643, 0.0044176193848439295), (3644, 0.0), (3645, 0.011879169068464401), (3646, 0.004074670883159201), (3647, 0.0), (3648, 0.0), (3649, 0.0), (3650, 0.0), (3651, 0.012302640961707896), (3652, 0.011294134255641098), (3653, 0.004360907317153491), (3654, 0.004435438346392651), (3655, 0.0038441900854709345), (3656, 0.02401371446620508), (3657, 0.0037260564869401763), (3658, 0.0), (3659, 0.01066807068626983), (3660, 0.004048268356367902), (3661, 0.0), (3662, 0.07309123359643051), (3663, 0.0), (3664, 0.0), (3665, 0.010604892430370794), (3666, 0.004403420726989542), (3667, 0.006522807131421091), (3668, 0.00931623329047619), (3669, 0.0039940040638566), (3670, 0.010216831730069213), (3671, 0.0), (3672, 0.0), (3673, 0.004293923485317845), (3674, 0.009350696161980008), (3675, 0.01756062470404461), (3676, 0.0), (3677, 0.0), (3678, 0.01137569642681679), (3679, 0.0), (3680, 0.004916644931635394), (3681, 0.0), (3682, 0.0), (3683, 0.0), (3684, 0.03847465016213404), (3685, 0.0), (3686, 0.0), (3687, 0.0), (3688, 0.0), (3689, 0.004380091271044236), (3690, 0.0), (3691, 0.0), (3692, 0.02602392686182556), (3693, 0.023836141604860396), (3694, 0.01557851749938515), (3695, 0.0), (3696, 0.07461666720703788), (3697, 0.0), (3698, 0.0), (3699, 0.010590873574476814), (3700, 0.0), (3701, 0.0), (3702, 0.0), (3703, 0.0), (3704, 0.004605913740852881), (3705, 0.038387501046784976), (3706, 0.004096563653778713), (3707, 0.00433648620493423), (3708, 0.011815314152120317), (3709, 0.010699060536679385), (3710, 0.035065808614749824), (3711, 0.009092603314311212), (3712, 0.0), (3713, 0.0), (3714, 0.0), (3715, 0.0), (3716, 0.009854686830742535), (3717, 0.0), (3718, 0.0), (3719, 0.0), (3720, 0.0), (3721, 0.0), (3722, 0.0), (3723, 0.0), (3724, 0.0), (3725, 0.0), (3726, 0.0), (3727, 0.004319586166509015), (3728, 0.004390111180084253), (3729, 0.0), (3730, 0.07863026364418171), (3731, 0.017732895048857885), (3732, 0.0), (3733, 0.0), (3734, 0.004108064223764309), (3735, 0.0), (3736, 0.0), (3737, 0.0), (3738, 0.0), (3739, 0.004188559924944671), (3740, 0.032355191710788975), (3741, 0.011953068164734326), (3742, 0.0038800467283524242), (3743, 0.0), (3744, 0.0), (3745, 0.004910053160069522), (3746, 0.01070115041608664), (3747, 0.0), (3748, 0.0), (3749, 0.004640736683704645), (3750, 0.0), (3751, 0.021958718698885212), (3752, 0.009786272732200103), (3753, 0.0), (3754, 0.07921201511181514), (3755, 0.0039084222982473495), (3756, 0.012028185144127276), (3757, 0.0), (3758, 0.0), (3759, 0.025106172610457618), (3760, 0.0), (3761, 0.0), (3762, 0.0), (3763, 0.00526217189541042), (3764, 0.0), (3765, 0.004389154788982681), (3766, 0.09519676139405164), (3767, 0.0038202179177993273), (3768, 0.0), (3769, 0.0), (3770, 0.0), (3771, 0.00451042625488093), (3772, 0.005003056638903182), (3773, 0.0), (3774, 0.0), (3775, 0.0), (3776, 0.023290232937491568), (3777, 0.01499811592917837), (3778, 0.004360611048757587), (3779, 0.0), (3780, 0.004607370615060189), (3781, 0.0), (3782, 0.012013151959333501), (3783, 0.0), (3784, 0.00418579917504838), (3785, 0.0), (3786, 0.0), (3787, 0.028667639837461546), (3788, 0.0), (3789, 0.0), (3790, 0.0), (3791, 0.0), (3792, 0.0), (3793, 0.0), (3794, 0.019826719773867178), (3795, 0.0), (3796, 0.0), (3797, 0.004700119428612576), (3798, 0.0), (3799, 0.0042846460291666), (3800, 0.03396819398694197), (3801, 0.013018791818923944), (3802, 0.012000402700680163), (3803, 0.01736734070907416), (3804, 0.02993373982104056), (3805, 0.0), (3806, 0.0), (3807, 0.004291710940302485), (3808, 0.0), (3809, 0.004415035738538469), (3810, 0.0), (3811, 0.11411661283924776), (3812, 0.0), (3813, 0.004654362626544091), (3814, 0.0), (3815, 0.0), (3816, 0.0), (3817, 0.012036589873611853), (3818, 0.0), (3819, 0.0041139890397423485), (3820, 0.0), (3821, 0.0), (3822, 0.004547693402156387), (3823, 0.0), (3824, 0.0), (3825, 0.0), (3826, 0.004051369416102136), (3827, 0.0047728744635780005), (3828, 0.01776282121153202), (3829, 0.01391633597569153), (3830, 0.0), (3831, 0.0), (3832, 0.005331280107175773), (3833, 0.0), (3834, 0.0), (3835, 0.0027923467386465704), (3836, 0.0), (3837, 0.0), (3838, 0.0), (3839, 0.003868950957536778), (3840, 0.0), (3841, 0.0), (3842, 0.009321623246932278), (3843, 0.0), (3844, 0.0), (3845, 0.07244621413563987), (3846, 0.0), (3847, 0.06392883871460048), (3848, 0.034718179135846704), (3849, 0.059824999848632814), (3850, 0.0), (3851, 0.03694602568202161), (3852, 0.0), (3853, 0.0), (3854, 0.05428250096275308), (3855, 0.026490941612994857), (3856, 0.0), (3857, 0.0), (3858, 0.0), (3859, 0.0), (3860, 0.009154802270172801), (3861, 0.0), (3862, 0.015485252966828284), (3863, 0.0), (3864, 0.0), (3865, 0.044686977056667826), (3866, 0.004963971142580634), (3867, 0.00467224136920659), (3868, 0.004149966510583174), (3869, 0.0), (3870, 0.0), (3871, 0.0), (3872, 0.0), (3873, 0.004639964120819853), (3874, 0.0), (3875, 0.0034807374534647126), (3876, 0.004205549693958899), (3877, 0.0), (3878, 0.0), (3879, 0.0), (3880, 0.0038339145599658197), (3881, 0.0), (3882, 0.015383791770877155), (3883, 0.004827323188496535), (3884, 0.0), (3885, 0.0), (3886, 0.0), (3887, 0.0), (3888, 0.00428023849716519), (3889, 0.0), (3890, 0.004201851717551172), (3891, 0.0), (3892, 0.005443562534796612), (3893, 0.004730650568581786), (3894, 0.010240146709497534), (3895, 0.05148133051125289), (3896, 0.0), (3897, 0.0), (3898, 0.004096058214617629), (3899, 0.0), (3900, 0.004283339904912416), (3901, 0.005139526091154116), (3902, 0.004658133699828388), (3903, 0.004873754941963988), (3904, 0.004587807555910623), (3905, 0.0), (3906, 0.0), (3907, 0.0), (3908, 0.0), (3909, 0.0), (3910, 0.00393335908481484), (3911, 0.0), (3912, 0.0), (3913, 0.0038505590318269906), (3914, 0.0), (3915, 0.004594008431416447), (3916, 0.0), (3917, 0.0043130879442499735), (3918, 0.0), (3919, 0.004539760897737879), (3920, 0.004631682815549104), (3921, 0.0), (3922, 0.005509469380237274), (3923, 0.0), (3924, 0.027331774172818554), (3925, 0.006280653550128423), (3926, 0.0), (3927, 0.003647478039997538), (3928, 0.0037556406772788686), (3929, 0.0), (3930, 0.0), (3931, 0.0), (3932, 0.007912086319095823), (3933, 0.019518834480724126), (3934, 0.0), (3935, 0.0), (3936, 0.0), (3937, 0.022188731333312277), (3938, 0.0), (3939, 0.0), (3940, 0.00893664911627769), (3941, 0.029423468056378493), (3942, 0.0), (3943, 0.04620360586646412), (3944, 0.0), (3945, 0.0), (3946, 0.008137962345766431), (3947, 0.011879859107574959), (3948, 0.0), (3949, 0.0), (3950, 0.0), (3951, 0.0), (3952, 0.0050656699304236), (3953, 0.004113160499002479), (3954, 0.003957485954839915), (3955, 0.0), (3956, 0.0038334845994740857), (3957, 0.0), (3958, 0.0), (3959, 0.015247621772522393), (3960, 0.0167932565450107), (3961, 0.01096639167816286), (3962, 0.00479214163037609), (3963, 0.0), (3964, 0.0), (3965, 0.025275122176005867), (3966, 0.010722631291928329), (3967, 0.0), (3968, 0.0), (3969, 0.0), (3970, 0.0), (3971, 0.0), (3972, 0.0), (3973, 0.004426030788396215), (3974, 0.004013967193865359), (3975, 0.027530466099948175), (3976, 0.0), (3977, 0.0), (3978, 0.019989020945672436), (3979, 0.0), (3980, 0.0), (3981, 0.0), (3982, 0.0), (3983, 0.011675193751570206), (3984, 0.004679990789923409), (3985, 0.0), (3986, 0.0), (3987, 0.0), (3988, 0.0), (3989, 0.0), (3990, 0.005710834827684818), (3991, 0.021029581103838707), (3992, 0.016329153267009396), (3993, 0.009313802701031203), (3994, 0.0), (3995, 0.0), (3996, 0.0), (3997, 0.0), (3998, 0.0), (3999, 0.0), (4000, 0.010155064374637833), (4001, 0.0), (4002, 0.0), (4003, 0.0), (4004, 0.010147349719687648), (4005, 0.004486755058694963), (4006, 0.0), (4007, 0.0), (4008, 0.0), (4009, 0.0), (4010, 0.0), (4011, 0.004103680800285853), (4012, 0.0), (4013, 0.0), (4014, 0.004606151366156795), (4015, 0.03236533495299736), (4016, 0.03199183560619659), (4017, 0.0), (4018, 0.0), (4019, 0.0), (4020, 0.004157580475130194), (4021, 0.0), (4022, 0.0), (4023, 0.031454208989823186), (4024, 0.004650348353882902), (4025, 0.004363854787198265), (4026, 0.0), (4027, 0.0), (4028, 0.0), (4029, 0.0), (4030, 0.0), (4031, 0.0), (4032, 0.0), (4033, 0.03271466202080595), (4034, 0.0), (4035, 0.0), (4036, 0.004206806736710708), (4037, 0.0), (4038, 0.03255560232195186), (4039, 0.0), (4040, 0.0), (4041, 0.0), (4042, 0.0), (4043, 0.0), (4044, 0.0), (4045, 0.0), (4046, 0.004552123212774724), (4047, 0.0), (4048, 0.011403944718353978), (4049, 0.0), (4050, 0.0), (4051, 0.004863986925952975), (4052, 0.0), (4053, 0.004219013617543877), (4054, 0.015495681700293501), (4055, 0.0), (4056, 0.004398836592984163), (4057, 0.0), (4058, 0.0), (4059, 0.0), (4060, 0.00965350128299861), (4061, 0.0), (4062, 0.0), (4063, 0.0), (4064, 0.0), (4065, 0.0), (4066, 0.0038649370012199488), (4067, 0.0), (4068, 0.06824008390266315), (4069, 0.004113676958266623), (4070, 0.0), (4071, 0.0), (4072, 0.0), (4073, 0.0), (4074, 0.013453393197376942), (4075, 0.0), (4076, 0.011467859153407003), (4077, 0.0), (4078, 0.0), (4079, 0.01631326929260954), (4080, 0.0), (4081, 0.0), (4082, 0.006073758672977574), (4083, 0.0), (4084, 0.0), (4085, 0.004069691895333866), (4086, 0.0), (4087, 0.0047692247501511876), (4088, 0.04756721632403213), (4089, 0.0), (4090, 0.0), (4091, 0.0), (4092, 0.004784759754497114), (4093, 0.03508545151402073), (4094, 0.0), (4095, 0.012186259249381912), (4096, 0.008678459941203453), (4097, 0.0), (4098, 0.004651115890555385), (4099, 0.0), (4100, 0.0), (4101, 0.004718039835425933), (4102, 0.0), (4103, 0.0), (4104, 0.0), (4105, 0.031359978585416205), (4106, 0.0), (4107, 0.0), (4108, 0.0), (4109, 0.009787280750432406), (4110, 0.0), (4111, 0.004609381487274641), (4112, 0.021727442428356766), (4113, 0.004682484940818231), (4114, 0.0), (4115, 0.0), (4116, 0.004657132068321553), (4117, 0.017930601118874352), (4118, 0.011282276488443401), (4119, 0.0), (4120, 0.0), (4121, 0.01131496924869856), (4122, 0.013746523232846914), (4123, 0.004520734108270612), (4124, 0.010021649044419682), (4125, 0.023010779803205247), (4126, 0.0), (4127, 0.0), (4128, 0.0), (4129, 0.0), (4130, 0.004736261456529903), (4131, 0.0), (4132, 0.021390190018822017), (4133, 0.004761255204110021), (4134, 0.0), (4135, 0.004255281613412907), (4136, 0.0), (4137, 0.004181340112080372), (4138, 0.004695683503838445), (4139, 0.0), (4140, 0.0), (4141, 0.02210422652522083), (4142, 0.0), (4143, 0.013746517960909936), (4144, 0.0), (4145, 0.0), (4146, 0.0), (4147, 0.013034543400910727), (4148, 0.0), (4149, 0.0), (4150, 0.0), (4151, 0.00369656692046611), (4152, 0.004084458264870761), (4153, 0.0), (4154, 0.004063103729146277), (4155, 0.035092588352070755), (4156, 0.003665857057764991), (4157, 0.019595355801331052), (4158, 0.0), (4159, 0.0), (4160, 0.004797608575900005), (4161, 0.0), (4162, 0.0), (4163, 0.005190429963453135), (4164, 0.009112356529060657), (4165, 0.027437776749669854), (4166, 0.0), (4167, 0.0), (4168, 0.0), (4169, 0.01145297092790793), (4170, 0.0), (4171, 0.01860225434762306), (4172, 0.0), (4173, 0.0), (4174, 0.07758140985530797), (4175, 0.0), (4176, 0.003972486971795164), (4177, 0.0), (4178, 0.004338680881377674), (4179, 0.0), (4180, 0.0), (4181, 0.0), (4182, 0.0034350057033316196), (4183, 0.004206916323856192), (4184, 0.0), (4185, 0.0), (4186, 0.020066080485336285), (4187, 0.004653029187989757), (4188, 0.0), (4189, 0.033258371006839066), (4190, 0.0), (4191, 0.0), (4192, 0.01359740270818783), (4193, 0.0), (4194, 0.0), (4195, 0.0), (4196, 0.0), (4197, 0.0), (4198, 0.0), (4199, 0.0), (4200, 0.05208465251899496), (4201, 0.0), (4202, 0.0060219567413688346), (4203, 0.004820042433825157), (4204, 0.0), (4205, 0.004057241191707017), (4206, 0.0), (4207, 0.0), (4208, 0.0), (4209, 0.0), (4210, 0.0), (4211, 0.0), (4212, 0.0), (4213, 0.0), (4214, 0.0), (4215, 0.0), (4216, 0.009825782696545661), (4217, 0.0), (4218, 0.026651477011972083), (4219, 0.0), (4220, 0.0), (4221, 0.0), (4222, 0.0), (4223, 0.0), (4224, 0.0), (4225, 0.0), (4226, 0.0), (4227, 0.010886203738384642), (4228, 0.0), (4229, 0.0), (4230, 0.0), (4231, 0.015217463713906563), (4232, 0.008887805408956933), (4233, 0.010544201490712987), (4234, 0.0), (4235, 0.009763033441116824), (4236, 0.0), (4237, 0.0), (4238, 0.0), (4239, 0.0), (4240, 0.0), (4241, 0.010963369866327564), (4242, 0.025704985820308227), (4243, 0.005115730399144948), (4244, 0.005020685580903275), (4245, 0.02398359795659263), (4246, 0.019154275538919234), (4247, 0.0037650478656067105), (4248, 0.0), (4249, 0.004580506232373267), (4250, 0.0), (4251, 0.0), (4252, 0.0), (4253, 0.0), (4254, 0.0), (4255, 0.0042952798872004), (4256, 0.0), (4257, 0.0040046588460129345), (4258, 0.0), (4259, 0.004576598574236714), (4260, 0.048745499838049794), (4261, 0.007443518169478795), (4262, 0.0), (4263, 0.0), (4264, 0.0), (4265, 0.0), (4266, 0.004317005117319836), (4267, 0.0), (4268, 0.025088013349146655), (4269, 0.00486433309862356), (4270, 0.0), (4271, 0.0), (4272, 0.0), (4273, 0.0), (4274, 0.0), (4275, 0.0), (4276, 0.0), (4277, 0.0), (4278, 0.0), (4279, 0.0), (4280, 0.0), (4281, 0.0), (4282, 0.00402022143753814), (4283, 0.004240989329622077), (4284, 0.004324394816673974), (4285, 0.0), (4286, 0.004536758130800128), (4287, 0.004349241854232063), (4288, 0.019333669730063514), (4289, 0.03515961999803763), (4290, 0.0), (4291, 0.0), (4292, 0.010371707269302548), (4293, 0.03647002577407854), (4294, 0.0), (4295, 0.0049045443240825345), (4296, 0.0), (4297, 0.0), (4298, 0.0), (4299, 0.0), (4300, 0.0), (4301, 0.0), (4302, 0.0), (4303, 0.0), (4304, 0.0), (4305, 0.0), (4306, 0.0), (4307, 0.0), (4308, 0.0), (4309, 0.00416606534429086), (4310, 0.0), (4311, 0.0036786543085125987), (4312, 0.0), (4313, 0.0), (4314, 0.053895928089668366), (4315, 0.0), (4316, 0.0), (4317, 0.0), (4318, 0.0), (4319, 0.0), (4320, 0.0), (4321, 0.00399511515745047), (4322, 0.0), (4323, 0.0), (4324, 0.0), (4325, 0.009389504344088665), (4326, 0.0), (4327, 0.0), (4328, 0.0), (4329, 0.0), (4330, 0.0046265159606648145), (4331, 0.0), (4332, 0.0), (4333, 0.004946925917408992), (4334, 0.004356331553591361), (4335, 0.040899190502932635), (4336, 0.027127751994085306), (4337, 0.0), (4338, 0.0), (4339, 0.0), (4340, 0.0), (4341, 0.0), (4342, 0.0), (4343, 0.009749221397436409), (4344, 0.003647756070590355), (4345, 0.004106397396692324), (4346, 0.0), (4347, 0.0), (4348, 0.0), (4349, 0.0), (4350, 0.024202496995204544), (4351, 0.02918063640692364), (4352, 0.0), (4353, 0.0), (4354, 0.0), (4355, 0.0), (4356, 0.004091991531584412), (4357, 0.004519269182262918), (4358, 0.0), (4359, 0.0), (4360, 0.0), (4361, 0.0), (4362, 0.004195020690301346), (4363, 0.0), (4364, 0.0), (4365, 0.0), (4366, 0.02687645127904158), (4367, 0.0), (4368, 0.004839382605554998), (4369, 0.004848491325898363), (4370, 0.0), (4371, 0.00452658992745713), (4372, 0.0), (4373, 0.0), (4374, 0.02364375979748721), (4375, 0.0), (4376, 0.0), (4377, 0.0), (4378, 0.0392204130145587), (4379, 0.04344728966127625), (4380, 0.020143151576382117), (4381, 0.0), (4382, 0.004031403929053321), (4383, 0.0), (4384, 0.0), (4385, 0.0), (4386, 0.0), (4387, 0.01391070795423393), (4388, 0.0), (4389, 0.0), (4390, 0.0), (4391, 0.0), (4392, 0.0), (4393, 0.0), (4394, 0.004133895218110548), (4395, 0.0), (4396, 0.0), (4397, 0.0), (4398, 0.0), (4399, 0.0), (4400, 0.0), (4401, 0.00455572075665183), (4402, 0.003916833751125014), (4403, 0.017723633598892577), (4404, 0.0), (4405, 0.010162165760273812), (4406, 0.0), (4407, 0.0), (4408, 0.0), (4409, 0.0), (4410, 0.012230192425670663), (4411, 0.0037124325826826355), (4412, 0.005000827573423053), (4413, 0.0), (4414, 0.0), (4415, 0.0), (4416, 0.0), (4417, 0.0), (4418, 0.0), (4419, 0.004576303113749713), (4420, 0.015686222339644722), (4421, 0.0), (4422, 0.004476222937976985), (4423, 0.0), (4424, 0.0), (4425, 0.0), (4426, 0.009817614777962053), (4427, 0.0), (4428, 0.0), (4429, 0.0038657854798072894), (4430, 0.004503855726714306), (4431, 0.0), (4432, 0.003692630189333512), (4433, 0.0), (4434, 0.0), (4435, 0.010481789210424971), (4436, 0.010765784382972706), (4437, 0.0), (4438, 0.0), (4439, 0.0), (4440, 0.0), (4441, 0.010100583659017247), (4442, 0.009690431018354031), (4443, 0.005094626320130243), (4444, 0.005608107861978294), (4445, 0.008325274792793028), (4446, 0.043552674036060834), (4447, 0.0), (4448, 0.00472596408286579), (4449, 0.0), (4450, 0.07135988625804832), (4451, 0.012838465593487456), (4452, 0.0), (4453, 0.0), (4454, 0.023935891869798206), (4455, 0.0), (4456, 0.0), (4457, 0.0), (4458, 0.0), (4459, 0.025114846683602275), (4460, 0.0), (4461, 0.0), (4462, 0.0), (4463, 0.0), (4464, 0.0), (4465, 0.011291184401850557), (4466, 0.0), (4467, 0.0), (4468, 0.0), (4469, 0.012671787316542536), (4470, 0.004474266270312581), (4471, 0.0), (4472, 0.00403323404421809), (4473, 0.003954163789387229), (4474, 0.010437157085078752), (4475, 0.013971192416029957), (4476, 0.0), (4477, 0.0051088582210925895), (4478, 0.0), (4479, 0.003989800436135643), (4480, 0.0), (4481, 0.009689894990785304), (4482, 0.0), (4483, 0.0), (4484, 0.00552352086337482), (4485, 0.0), (4486, 0.0), (4487, 0.004195962924105921), (4488, 0.0), (4489, 0.004535005562274336), (4490, 0.005165419263012184), (4491, 0.0), (4492, 0.0), (4493, 0.0), (4494, 0.004793052100706243), (4495, 0.0), (4496, 0.023118691586152325), (4497, 0.023649694954654722), (4498, 0.0), (4499, 0.0), (4500, 0.0), (4501, 0.004481134666842827), (4502, 0.013471738413518324), (4503, 0.014110884445763496), (4504, 0.0), (4505, 0.0), (4506, 0.0), (4507, 0.004700898917136943), (4508, 0.0), (4509, 0.0), (4510, 0.010480901618749892), (4511, 0.00420246776887445), (4512, 0.011107260874493196), (4513, 0.0), (4514, 0.0), (4515, 0.0), (4516, 0.004912974023587407), (4517, 0.004513814980682571), (4518, 0.0), (4519, 0.0), (4520, 0.004590461918273682), (4521, 0.005180634296925358), (4522, 0.0048582765954762195), (4523, 0.003982408853264143), (4524, 0.0), (4525, 0.0), (4526, 0.0), (4527, 0.0), (4528, 0.004647128878350838), (4529, 0.08471545853575627), (4530, 0.004162995367520256), (4531, 0.03232604734847644), (4532, 0.0), (4533, 0.004342381093611502), (4534, 0.010361089682156752), (4535, 0.004758805628877065), (4536, 0.004058628126016967), (4537, 0.0), (4538, 0.0), (4539, 0.0), (4540, 0.0), (4541, 0.0), (4542, 0.0), (4543, 0.02678744951514898), (4544, 0.0), (4545, 0.0), (4546, 0.005475261685835662), (4547, 0.0), (4548, 0.010477340107739583), (4549, 0.0), (4550, 0.0), (4551, 0.026573068659233805), (4552, 0.0), (4553, 0.009447592105954424), (4554, 0.011390435232342453), (4555, 0.006513221008567754), (4556, 0.0), (4557, 0.010496776840315877), (4558, 0.0), (4559, 0.0), (4560, 0.0), (4561, 0.0), (4562, 0.0), (4563, 0.004350769287896054), (4564, 0.02605782118259494), (4565, 0.0), (4566, 0.004424363370440875), (4567, 0.01086699641205675), (4568, 0.0), (4569, 0.0), (4570, 0.0), (4571, 0.006477051791751756), (4572, 0.0), (4573, 0.00443892913825397), (4574, 0.0), (4575, 0.0048024046331721516), (4576, 0.025569783779355825), (4577, 0.024662181255952917), (4578, 0.0), (4579, 0.0), (4580, 0.0), (4581, 0.010124236939247813), (4582, 0.02588476549195854), (4583, 0.0), (4584, 0.0), (4585, 0.0), (4586, 0.0), (4587, 0.0), (4588, 0.0), (4589, 0.004989598816968575), (4590, 0.003734055737653339), (4591, 0.004065078115021015), (4592, 0.1507126586464561), (4593, 0.004742320573599845), (4594, 0.005106147095573131), (4595, 0.0), (4596, 0.01714274824748954), (4597, 0.0), (4598, 0.0), (4599, 0.0), (4600, 0.0), (4601, 0.027915328883968235), (4602, 0.0), (4603, 0.004370675804044155), (4604, 0.0), (4605, 0.0), (4606, 0.014161830934238557), (4607, 0.015650132028232965), (4608, 0.0), (4609, 0.0), (4610, 0.012036764120861587), (4611, 0.0), (4612, 0.0), (4613, 0.0), (4614, 0.0), (4615, 0.0), (4616, 0.0), (4617, 0.005747846907947102), (4618, 0.0), (4619, 0.005096214036454247), (4620, 0.0), (4621, 0.0), (4622, 0.0), (4623, 0.02056481134262901), (4624, 0.004671809333341031), (4625, 0.004637403607650018), (4626, 0.0036614731392656734), (4627, 0.0), (4628, 0.0), (4629, 0.004476403582842629), (4630, 0.0), (4631, 0.0), (4632, 0.005038008419368917), (4633, 0.0), (4634, 0.0), (4635, 0.037808376280888525), (4636, 0.003717316330640813), (4637, 0.005264661136306313), (4638, 0.003985808276901537), (4639, 0.0), (4640, 0.004252391888156105), (4641, 0.06133690606945037), (4642, 0.0), (4643, 0.004549418685908766), (4644, 0.0), (4645, 0.0), (4646, 0.0), (4647, 0.028843132874860677), (4648, 0.0), (4649, 0.0), (4650, 0.017051576602719304), (4651, 0.0), (4652, 0.02194399383769957), (4653, 0.0), (4654, 0.0), (4655, 0.0), (4656, 0.011049521126949458), (4657, 0.00473596587739409), (4658, 0.023920321792981945), (4659, 0.0), (4660, 0.03803331038947117), (4661, 0.0), (4662, 0.047988237038796996), (4663, 0.0), (4664, 0.0), (4665, 0.0), (4666, 0.0), (4667, 0.0), (4668, 0.0043934056141568725), (4669, 0.015403732352385777), (4670, 0.004190497079278543), (4671, 0.0), (4672, 0.0), (4673, 0.013817103063387844), (4674, 0.021021235458880683), (4675, 0.07602285289457103), (4676, 0.0), (4677, 0.011070238376982717), (4678, 0.0), (4679, 0.01864585335505282), (4680, 0.0), (4681, 0.0), (4682, 0.0), (4683, 0.0), (4684, 0.010203699053111432), (4685, 0.0), (4686, 0.0), (4687, 0.0), (4688, 0.010808503044173577), (4689, 0.0), (4690, 0.0), (4691, 0.0), (4692, 0.0), (4693, 0.0), (4694, 0.0), (4695, 0.0), (4696, 0.0), (4697, 0.0), (4698, 0.0), (4699, 0.004722086654037901), (4700, 0.0), (4701, 0.004925772983348238), (4702, 0.0), (4703, 0.0), (4704, 0.0), (4705, 0.0), (4706, 0.004945728475272042), (4707, 0.0), (4708, 0.0), (4709, 0.0), (4710, 0.005655673339286864), (4711, 0.0), (4712, 0.00392444398447339), (4713, 0.004914599245378401), (4714, 0.0), (4715, 0.0), (4716, 0.0), (4717, 0.0), (4718, 0.004858614454084576), (4719, 0.0), (4720, 0.0), (4721, 0.0), (4722, 0.004552566326923497), (4723, 0.005396544972196163), (4724, 0.01190879136705398), (4725, 0.0), (4726, 0.017839517834070187), (4727, 0.011201337482872548), (4728, 0.0), (4729, 0.0), (4730, 0.0), (4731, 0.004997036099248061), (4732, 0.0), (4733, 0.0037347395612199854), (4734, 0.004693036081994855), (4735, 0.011630335808384112), (4736, 0.010791444941223964), (4737, 0.0), (4738, 0.0), (4739, 0.008820596494630501), (4740, 0.0), (4741, 0.022168123397199105), (4742, 0.0), (4743, 0.010567145028793246), (4744, 0.0), (4745, 0.0), (4746, 0.0), (4747, 0.023631809654649862), (4748, 0.0), (4749, 0.0), (4750, 0.0), (4751, 0.0), (4752, 0.017210069850408367), (4753, 0.0), (4754, 0.0), (4755, 0.0), (4756, 0.011142928693039537), (4757, 0.03482190647953962), (4758, 0.0), (4759, 0.0)]\n"
          ]
        }
      ]
    },
    {
      "cell_type": "code",
      "source": [
        "len(Recommendation_Score)"
      ],
      "metadata": {
        "colab": {
          "base_uri": "https://localhost:8080/"
        },
        "id": "XQvUinA2bt8u",
        "outputId": "60ee1d2a-447b-4969-e410-901341880ffb"
      },
      "execution_count": null,
      "outputs": [
        {
          "output_type": "execute_result",
          "data": {
            "text/plain": [
              "4760"
            ]
          },
          "metadata": {},
          "execution_count": 43
        }
      ]
    },
    {
      "cell_type": "code",
      "source": [
        "Sorted_Similar_Movies = sorted(Recommendation_Score,key = lambda x:x[1],reverse=True)\n",
        "print(Sorted_Similar_Movies)"
      ],
      "metadata": {
        "colab": {
          "base_uri": "https://localhost:8080/"
        },
        "id": "3N0suiZwcDHZ",
        "outputId": "99c92179-dad5-4cf9-9a03-e3ea6aed4e66"
      },
      "execution_count": null,
      "outputs": [
        {
          "output_type": "stream",
          "name": "stdout",
          "text": [
            "[(1334, 1.0000000000000002), (4592, 0.1507126586464561), (2383, 0.11675956862077436), (3811, 0.11411661283924776), (2538, 0.0992389125382093), (1275, 0.0966204502188214), (48, 0.09539336935144849), (3766, 0.09519676139405164), (2097, 0.0946797578001211), (550, 0.09187682421964823), (145, 0.09140450690703558), (2484, 0.08868388660268403), (494, 0.08651685475481016), (1141, 0.08496108064484433), (4529, 0.08471545853575627), (112, 0.0845351578313678), (137, 0.0842362329846277), (2922, 0.08373356517614819), (2635, 0.08348995068892683), (2012, 0.0812631339204407), (2224, 0.08026470962099341), (3754, 0.07921201511181514), (1784, 0.0791795793812715), (1865, 0.0791723044463287), (71, 0.0787566651303469), (580, 0.07875272862893332), (3730, 0.07863026364418171), (52, 0.07788451170312631), (4174, 0.07758140985530797), (110, 0.07735135068527946), (1383, 0.07645959122690425), (1191, 0.07635542542572153), (4675, 0.07602285289457103), (1656, 0.07539070843937196), (1355, 0.07534662518783225), (109, 0.07519533084173836), (3696, 0.07461666720703788), (801, 0.07427104855908495), (2396, 0.07384451108896709), (709, 0.07382210608923667), (2192, 0.07342621174261608), (3662, 0.07309123359643051), (822, 0.07299704279378973), (3845, 0.07244621413563987), (129, 0.07236934816795286), (4450, 0.07135988625804832), (111, 0.07130013666036174), (1382, 0.07096580466657215), (2693, 0.07056417447138555), (1115, 0.07049684278029633), (2626, 0.07047737407373869), (4068, 0.06824008390266315), (1538, 0.06808585612334078), (2587, 0.06760394499390442), (2258, 0.0671047238128903), (1248, 0.0669067231754586), (431, 0.06685070195271661), (419, 0.0661256305777245), (1150, 0.06550556149234793), (1782, 0.06503381268670186), (2794, 0.06466973679561985), (3847, 0.06392883871460048), (674, 0.06389700341664871), (2385, 0.06380612527073568), (1028, 0.06285369442648181), (1871, 0.06171961826425634), (4641, 0.06133690606945037), (3046, 0.06063886694141023), (3849, 0.059824999848632814), (1222, 0.05962520398475114), (2341, 0.05957769649036579), (1314, 0.0584623489710671), (2321, 0.05802240063242784), (1379, 0.057837070163620566), (2111, 0.05572673172072834), (374, 0.05526835265906981), (1301, 0.05435891418814348), (1380, 0.05429476905129508), (3854, 0.05428250096275308), (3518, 0.05405534143900816), (506, 0.05405376190390414), (4314, 0.053895928089668366), (1199, 0.05237412336551641), (4200, 0.05208465251899496), (3161, 0.051768147126293323), (3895, 0.05148133051125289), (3119, 0.051163908530999544), (3398, 0.05086737577415761), (3499, 0.0504269555603331), (897, 0.04980532674119427), (284, 0.04911422273514375), (931, 0.04907421970774953), (1885, 0.04905578316949295), (504, 0.04901095520486133), (2542, 0.048807788565397796), (4260, 0.048745499838049794), (1772, 0.048524228012161975), (2606, 0.04834028432892251), (1733, 0.048279074762718165), (2541, 0.04824508165541669), (4662, 0.047988237038796996), (2416, 0.047881352667304464), (4088, 0.04756721632403213), (3620, 0.04746457249161918), (2037, 0.04711921883657609), (1371, 0.047054244844981524), (2698, 0.04704912889677471), (21, 0.04678253440111471), (3943, 0.04620360586646412), (3252, 0.045717392544577115), (1299, 0.045166159648643796), (1385, 0.045162656257054644), (288, 0.04474701856041798), (3865, 0.044686977056667826), (1808, 0.044667458514822234), (276, 0.04451754364560482), (596, 0.044421910695122004), (1064, 0.04422060505583493), (1906, 0.04414381115496315), (1224, 0.04408902005942901), (792, 0.044063025747269495), (1960, 0.04404958474888841), (1342, 0.043834979582618464), (1781, 0.043744275506804785), (3078, 0.04366269844926609), (1945, 0.0435603539436382), (4446, 0.043552674036060834), (4379, 0.04344728966127625), (3377, 0.04323759504649781), (2188, 0.04320302195253359), (2459, 0.04285031125226954), (0, 0.042802872544123155), (1132, 0.04230279721863581), (236, 0.04229272455822244), (1574, 0.04177838195121365), (207, 0.041158868592859374), (1649, 0.041115386801924156), (2141, 0.04109082392763493), (2272, 0.040957640166231546), (4335, 0.040899190502932635), (2553, 0.040538244091204496), (1090, 0.04051360096903754), (1982, 0.04035982339745156), (3043, 0.03995945868098223), (1715, 0.03987628844530505), (298, 0.039646890322636325), (4378, 0.0392204130145587), (3554, 0.039136489612288224), (122, 0.039090439056532075), (1682, 0.039016804442437276), (3095, 0.038996772063482385), (148, 0.03899256064319784), (1140, 0.038819773993803125), (3282, 0.03877958720750521), (3545, 0.03860114766528124), (2563, 0.03856917936012402), (1816, 0.03855789572085107), (3284, 0.03851909012462356), (3684, 0.03847465016213404), (430, 0.03840874808044769), (2854, 0.038393452485514776), (3705, 0.038387501046784976), (2189, 0.038075866981831775), (4660, 0.03803331038947117), (1242, 0.037979052212421566), (3436, 0.03783536021803255), (4635, 0.037808376280888525), (1467, 0.03778388977717757), (280, 0.03773704925149497), (3452, 0.03757520208298446), (1, 0.03750749043828831), (3107, 0.0374068827050769), (2055, 0.03729182732973364), (509, 0.0371373409784889), (2723, 0.03703980310376266), (3851, 0.03694602568202161), (4293, 0.03647002577407854), (3163, 0.036132162997717286), (1099, 0.03607406597799096), (1821, 0.03598267143299847), (2058, 0.035894096028479455), (2162, 0.03553067243475846), (1510, 0.03544407248391744), (1016, 0.03541025205339981), (3560, 0.03516531376611943), (4289, 0.03515961999803763), (2552, 0.035122645885463405), (3561, 0.03509360011007407), (4155, 0.035092588352070755), (4093, 0.03508545151402073), (3710, 0.035065808614749824), (1797, 0.03486024116410735), (4757, 0.03482190647953962), (2871, 0.03478694374439288), (2070, 0.03473734207408827), (1442, 0.03473484081726742), (3848, 0.034718179135846704), (121, 0.03466729962312005), (1349, 0.03461377035632162), (1009, 0.034493111862523476), (2158, 0.03436978780272127), (3411, 0.03431806031628663), (3486, 0.03430570019364543), (2174, 0.03426158040288685), (2255, 0.03410183359380406), (587, 0.03407707777111288), (405, 0.03400336702204391), (1040, 0.03400293465515874), (1366, 0.03399722828448287), (2430, 0.033985702088809126), (3800, 0.03396819398694197), (3602, 0.033722511627236974), (1458, 0.0336727186972875), (1905, 0.0334621981159498), (2911, 0.03333412105189793), (4189, 0.033258371006839066), (865, 0.03299243199609432), (1910, 0.03288802818146252), (3503, 0.03286590992458503), (1348, 0.032846369097368974), (4033, 0.03271466202080595), (1012, 0.0326304490762867), (4038, 0.03255560232195186), (3153, 0.03241287583525751), (4015, 0.03236533495299736), (2286, 0.032363603447840984), (3740, 0.032355191710788975), (4531, 0.03232604734847644), (2184, 0.032034959418872154), (4016, 0.03199183560619659), (193, 0.03195039656424835), (575, 0.0318871575085844), (1401, 0.03187907440738269), (2144, 0.03184391151646166), (3579, 0.03172071826963103), (2351, 0.03171365713426853), (957, 0.03164031128252787), (1789, 0.03162092719234871), (231, 0.03156977206122851), (3182, 0.03155998547875709), (4023, 0.031454208989823186), (2746, 0.03138643674422438), (4105, 0.031359978585416205), (2637, 0.031213910739972366), (1234, 0.031072134316890383), (1726, 0.031062726324809352), (1615, 0.031012528311130085), (530, 0.03091505553356376), (3135, 0.030792214924541244), (749, 0.03075372293490869), (2558, 0.0306138114625492), (3523, 0.030611552667239694), (3308, 0.030603164029933065), (113, 0.03056572161119218), (938, 0.030469789277302255), (2585, 0.03037469751455239), (2754, 0.0302144005907037), (1247, 0.03014947442225092), (985, 0.03013314017307705), (1374, 0.03011820919402155), (3366, 0.03000268337887977), (215, 0.029958308974491574), (3804, 0.02993373982104056), (235, 0.029931747172223674), (3001, 0.02989753222120497), (2614, 0.029875118964197395), (3032, 0.02982422701921806), (1776, 0.02974876163012634), (881, 0.029714133100677248), (3154, 0.029656182985263124), (2324, 0.029590295150551425), (1948, 0.02955427745843875), (384, 0.029516778781689908), (731, 0.02951074814686123), (2888, 0.029497078134448226), (2893, 0.02948002729664517), (2293, 0.029432910663838928), (3941, 0.029423468056378493), (2465, 0.029276171889518542), (1074, 0.029263414154537735), (2345, 0.02923835963602653), (4351, 0.02918063640692364), (2834, 0.02917300141600446), (1608, 0.029005993753308194), (1707, 0.028985435187244488), (2517, 0.02896679662195091), (2822, 0.028907535161464916), (4647, 0.028843132874860677), (1723, 0.028790333338941175), (3787, 0.028667639837461546), (688, 0.028624678072623422), (1605, 0.02846903722508983), (1683, 0.02845815193446427), (481, 0.02842497691204876), (590, 0.02836192314776279), (3591, 0.028202743683371945), (1273, 0.028186679050766432), (2502, 0.02811650582380057), (3514, 0.028115355219135232), (407, 0.028071794520454055), (2474, 0.028026200611929977), (3378, 0.027994504107778758), (1911, 0.02796653795064341), (656, 0.027945686885151203), (1182, 0.027931578131548916), (4601, 0.027915328883968235), (413, 0.027831382316999425), (1951, 0.02774792379587448), (1688, 0.027727330433940316), (723, 0.027614876840344034), (916, 0.027558178614797466), (3975, 0.027530466099948175), (2649, 0.0275172911329592), (3326, 0.027483275889234077), (3150, 0.027448006239701474), (4165, 0.027437776749669854), (3450, 0.027386479253941158), (2340, 0.02734477564450093), (3924, 0.027331774172818554), (1165, 0.027267436121979422), (1006, 0.027258581769197977), (2501, 0.027253319591437345), (3386, 0.02724502616891453), (2227, 0.027188157650475213), (4336, 0.027127751994085306), (1302, 0.027008477717182084), (233, 0.026992799789840018), (1557, 0.02693437172952705), (347, 0.026910799178351177), (4366, 0.02687645127904158), (60, 0.02680067464794291), (4543, 0.02678744951514898), (2560, 0.026680600573975248), (3575, 0.02665522873700952), (4218, 0.026651477011972083), (2053, 0.026642541717980167), (2639, 0.02663381740737018), (1241, 0.026592735595989576), (660, 0.026591152335162252), (4551, 0.026573068659233805), (1669, 0.02654206550638009), (665, 0.026503483610559347), (1867, 0.026502327749698146), (3855, 0.026490941612994857), (3508, 0.026485762510853078), (1750, 0.02639338834824741), (2996, 0.02638149086154695), (2555, 0.026359345286299886), (1798, 0.026266834499646282), (44, 0.026226320681310818), (2830, 0.026191826460098093), (1552, 0.026125476744590367), (402, 0.026105940720051093), (4564, 0.02605782118259494), (3692, 0.02602392686182556), (1305, 0.026023447267117295), (39, 0.02595891489474956), (1488, 0.025898359007958897), (3600, 0.025891752807379445), (4582, 0.02588476549195854), (68, 0.02586870452660536), (1891, 0.025752541064914806), (4242, 0.025704985820308227), (2779, 0.025703196560338197), (3064, 0.025654745798296637), (2054, 0.025573711384227774), (4576, 0.025569783779355825), (87, 0.02556417012240457), (2064, 0.02555498979103458), (1967, 0.025481174450807803), (34, 0.02546461538338339), (1918, 0.025384272014624183), (1989, 0.025322582470361954), (3466, 0.025304044450130538), (119, 0.02529072865749154), (3965, 0.025275122176005867), (953, 0.025254763043743578), (4459, 0.025114846683602275), (3759, 0.025106172610457618), (4268, 0.025088013349146655), (2164, 0.025053313326703713), (880, 0.02499208018994338), (2660, 0.02491656205407998), (1478, 0.024860688625178193), (579, 0.024789683350745377), (2043, 0.02478161743707495), (1152, 0.024759793917675257), (2646, 0.02475504862144108), (1962, 0.024729105500239188), (4577, 0.024662181255952917), (1004, 0.024622145764314377), (2059, 0.024608395169253578), (571, 0.02451483505154859), (96, 0.02448897185573325), (648, 0.024439908058124998), (3316, 0.024428052909342947), (886, 0.024397854276840603), (1870, 0.02439536836472879), (355, 0.024353154545147557), (3584, 0.024234861780859384), (2384, 0.024230730319670286), (1671, 0.024226535341470783), (4350, 0.024202496995204544), (583, 0.024117202868589975), (3656, 0.02401371446620508), (969, 0.02399792520124088), (4245, 0.02398359795659263), (3207, 0.023974539390951954), (4454, 0.023935891869798206), (756, 0.023929590554553546), (4658, 0.023920321792981945), (2841, 0.023886194999777902), (1095, 0.02384448152579568), (3693, 0.023836141604860396), (2008, 0.023833903311086865), (2027, 0.023795356463616774), (2210, 0.02379510834083657), (2362, 0.023783036291920995), (400, 0.02371901249249115), (341, 0.02367335029060176), (2611, 0.023673340057826644), (4497, 0.023649694954654722), (4374, 0.02364375979748721), (79, 0.023639688628996833), (2218, 0.023635740406597897), (4747, 0.023631809654649862), (3370, 0.023593781464543877), (3041, 0.02343517128807307), (1838, 0.02342918265935223), (343, 0.02339651844655675), (1333, 0.023321698512706796), (3776, 0.023290232937491568), (795, 0.02323936743465346), (4496, 0.023118691586152325), (725, 0.02305674983560904), (2461, 0.0230495038368874), (1000, 0.02304577598795645), (4125, 0.023010779803205247), (3457, 0.022968848331553857), (1861, 0.02281874596690049), (2140, 0.022812002632796823), (2237, 0.022694842680824858), (2586, 0.022610507110406925), (3637, 0.02254944802229066), (2665, 0.022505843636433157), (1237, 0.02237526276547646), (28, 0.022366345393754337), (313, 0.022356954209688137), (251, 0.02223618709537187), (2196, 0.02222090277905368), (3937, 0.022188731333312277), (4741, 0.022168123397199105), (2235, 0.02215937478590182), (2301, 0.022116480218896235), (4141, 0.02210422652522083), (983, 0.022061745822885687), (1827, 0.022049854750762325), (521, 0.021985090656053134), (1875, 0.021966327916972197), (3751, 0.021958718698885212), (1743, 0.02195094077047508), (4652, 0.02194399383769957), (166, 0.021921635445644617), (3467, 0.02188601873304443), (1496, 0.02188376189539602), (3304, 0.021882236579668066), (1485, 0.021823657173991422), (768, 0.021729436673168272), (4112, 0.021727442428356766), (566, 0.021711335349288624), (2677, 0.021701383080332145), (412, 0.02165216448047792), (117, 0.021643430977892023), (467, 0.021596755499032366), (681, 0.021498801561841186), (657, 0.02141018854107767), (3403, 0.02140018405805551), (4132, 0.021390190018822017), (164, 0.021331858398419834), (123, 0.021302570683499857), (1767, 0.021293125850742646), (1419, 0.0211183434689117), (3264, 0.021082291521802455), (82, 0.02104138696428909), (846, 0.021037849706700754), (2487, 0.021034700930561548), (3991, 0.021029581103838707), (4674, 0.021021235458880683), (2245, 0.020947891273778375), (2413, 0.020847264077216595), (1254, 0.020801130164157768), (213, 0.020794656673072346), (3320, 0.02073709331984884), (9, 0.020704628628186488), (517, 0.02070430174893917), (2118, 0.02070153802284595), (203, 0.020656346543208234), (778, 0.020638233208305858), (1937, 0.020579898679285447), (185, 0.020575734251974155), (4623, 0.02056481134262901), (2387, 0.020549029051857955), (707, 0.020548872978462217), (748, 0.02051855585611789), (947, 0.020484850367182766), (2124, 0.02044377472254548), (631, 0.02040994773765589), (1714, 0.020291500980764668), (1345, 0.02022496314418851), (2809, 0.02019953742584457), (4380, 0.020143151576382117), (2908, 0.020137117779976208), (1259, 0.020132484009699574), (1403, 0.02010491592694719), (790, 0.02007072612638249), (4186, 0.020066080485336285), (2697, 0.019989832952594693), (3978, 0.019989020945672436), (3201, 0.019972941978673647), (2198, 0.01993704885106874), (1831, 0.019924431851391713), (181, 0.019914284316908896), (3794, 0.019826719773867178), (3630, 0.019805692004898994), (1986, 0.019733758375455806), (1991, 0.01970167904939669), (2751, 0.019688777820906098), (1238, 0.01962183010217667), (1412, 0.019618463852194068), (4157, 0.019595355801331052), (2019, 0.019580181988130364), (2007, 0.019545761074170238), (1709, 0.019543235630653938), (758, 0.01953597493911751), (3098, 0.019529930589281198), (3933, 0.019518834480724126), (3566, 0.01949487424689479), (829, 0.019412471400702964), (3130, 0.019375297754984477), (4288, 0.019333669730063514), (892, 0.01931110482182694), (376, 0.01927689686956634), (1913, 0.0192039621378587), (4246, 0.019154275538919234), (2207, 0.019129514775377037), (138, 0.01908823096929971), (277, 0.019063349257823527), (3069, 0.019044233941450456), (2382, 0.01900534284167293), (3562, 0.018992241346463882), (2932, 0.018926634026998436), (285, 0.01892276741414584), (3083, 0.018922592922719084), (520, 0.01888006713776305), (2736, 0.01873858819775774), (1178, 0.018697021246648245), (4679, 0.01864585335505282), (43, 0.01860949353271211), (4171, 0.01860225434762306), (2795, 0.01846050603170791), (629, 0.018448966690326335), (2645, 0.01844550489439585), (1268, 0.018445237915712384), (2205, 0.018443259766499954), (1010, 0.01843221635558137), (316, 0.01839203343584911), (3306, 0.018381813676319185), (3550, 0.018373711629589725), (542, 0.018365641124211525), (1729, 0.0182310161171275), (1093, 0.01823064406203267), (354, 0.01822521422197103), (3238, 0.01809440321530571), (86, 0.017986333406620956), (3302, 0.01795253718395607), (4117, 0.017930601118874352), (2360, 0.017853849338052296), (4726, 0.017839517834070187), (448, 0.017813448083306607), (3828, 0.01776282121153202), (3731, 0.017732895048857885), (4403, 0.017723633598892577), (1134, 0.017631391692236542), (3275, 0.017623149172976273), (3675, 0.01756062470404461), (1369, 0.017414023993529926), (3803, 0.01736734070907416), (334, 0.01733942782569404), (1954, 0.01732123248273626), (3019, 0.017213593880654635), (3223, 0.017211423545142896), (4752, 0.017210069850408367), (4596, 0.01714274824748954), (2406, 0.01711275834538642), (4650, 0.017051576602719304), (937, 0.016972931224516347), (1053, 0.01693680622443211), (3960, 0.0167932565450107), (2318, 0.016696468199774085), (1506, 0.016647509826344744), (1279, 0.016621654531049194), (2159, 0.016559195205890647), (860, 0.016541513421549803), (3992, 0.016329153267009396), (4079, 0.01631326929260954), (458, 0.016184282211021542), (1184, 0.016182407518413534), (163, 0.016163588927203792), (342, 0.016149699853028904), (2638, 0.016140761580774227), (533, 0.016137978899398997), (2601, 0.016117701716068404), (2104, 0.01604996993220894), (2776, 0.016045496262730937), (701, 0.015982236116926913), (2712, 0.01592560903384251), (1876, 0.01588900472869895), (2903, 0.0158877924528207), (1119, 0.015767882529537546), (4420, 0.015686222339644722), (2214, 0.015669274023009747), (4607, 0.015650132028232965), (1716, 0.015644898938206458), (1997, 0.0155814263545542), (3694, 0.01557851749938515), (210, 0.01554826810965454), (4054, 0.015495681700293501), (2668, 0.015489137382474007), (3862, 0.015485252966828284), (2398, 0.015448601786623193), (4669, 0.015403732352385777), (2522, 0.015390622478843385), (2040, 0.015385934735787477), (3882, 0.015383791770877155), (120, 0.01533730593327348), (2112, 0.015335058461429702), (534, 0.015322933167389037), (2632, 0.015286151941274601), (896, 0.015267949966430544), (3959, 0.015247621772522393), (450, 0.015245133131778797), (4231, 0.015217463713906563), (3210, 0.015207490880283971), (986, 0.015204694770993604), (2016, 0.015171901156966323), (3437, 0.015168914090059226), (3374, 0.015153276846165), (1678, 0.015145629058522424), (2334, 0.015119763551660404), (698, 0.01506703889987385), (584, 0.015059963964310051), (3612, 0.01505306800139905), (3086, 0.015034751977632203), (2687, 0.015007475422373748), (1853, 0.015001801046535972), (3777, 0.01499811592917837), (429, 0.014991704728190745), (2122, 0.014990502215809023), (879, 0.014982647847250315), (3456, 0.014970349753175726), (2919, 0.014901092198580716), (2254, 0.014859039462360345), (3195, 0.014857537400176899), (51, 0.01484250503073787), (543, 0.014823403292455996), (2910, 0.014808695125768935), (622, 0.014752768369638814), (3487, 0.014752375766517726), (1026, 0.014750788874369487), (2103, 0.014730193145268092), (1942, 0.014694749868917702), (1245, 0.014693643750258318), (3483, 0.014686970797845573), (3553, 0.014679276544464185), (2934, 0.01463293436236254), (373, 0.014631796069542246), (2540, 0.014589829157967929), (1232, 0.014589460395953619), (502, 0.014576765467559497), (2489, 0.014567169686525754), (1985, 0.014494624956575802), (3014, 0.014487278582859694), (270, 0.014443159046828854), (3297, 0.014436536949486463), (1252, 0.014429783351561077), (1878, 0.01442019015510476), (2695, 0.01437768950313623), (2961, 0.014366513119988971), (2279, 0.014360265067639643), (132, 0.014347073176683533), (356, 0.014344192968567282), (2212, 0.01432570542599527), (1629, 0.014312317490750043), (1160, 0.014302249172417784), (2784, 0.014288225068001247), (5, 0.014267760242643954), (3447, 0.014235932866788271), (1035, 0.014218454488222334), (806, 0.014216830230407151), (370, 0.014167053541045164), (4606, 0.014161830934238557), (2347, 0.014158395368887095), (1621, 0.014133036209919757), (2024, 0.014112097695469315), (4503, 0.014110884445763496), (92, 0.014105540618144724), (605, 0.014101762682780749), (2808, 0.01407600491030198), (3171, 0.014074142415129408), (3311, 0.014031840525421136), (799, 0.014030976883019663), (1337, 0.01401565302278126), (2250, 0.013988888862876183), (4475, 0.013971192416029957), (2886, 0.013965595735202986), (218, 0.013953857252893012), (2216, 0.013950153004939486), (465, 0.013933539623105447), (3829, 0.01391633597569153), (4387, 0.01391070795423393), (3120, 0.013891879123155733), (870, 0.01388282540300535), (2191, 0.013873814447507779), (1503, 0.013870660953395024), (988, 0.013870096775655195), (2399, 0.013833229100828077), (989, 0.013828426403741316), (4673, 0.013817103063387844), (85, 0.013808431680416145), (2777, 0.01380507097825116), (2512, 0.013774406172109087), (676, 0.013750219241433818), (804, 0.01374942086514788), (4122, 0.013746523232846914), (4143, 0.013746517960909936), (3142, 0.013736460856981155), (1919, 0.013729152217300854), (878, 0.013692701816496407), (1665, 0.013683000398714661), (2845, 0.013663701432001785), (981, 0.01364532246626422), (936, 0.013645097126674017), (1360, 0.013628836033669075), (1216, 0.013626467464325968), (1183, 0.013618578916383484), (643, 0.01361846336753242), (1920, 0.013617663808253399), (1539, 0.013617400261410385), (3392, 0.01360807030388154), (3504, 0.013601193250342924), (4192, 0.01359740270818783), (1762, 0.013587572960961558), (866, 0.013561854117032122), (408, 0.013512442338318574), (2023, 0.013500029925439673), (1977, 0.013486950495782522), (4502, 0.013471738413518324), (4074, 0.013453393197376942), (2580, 0.01343034123296436), (705, 0.0134112833697472), (2275, 0.013398545602861266), (434, 0.013393178280699792), (1616, 0.013293647572997457), (194, 0.013284665310549965), (3111, 0.013243077878908563), (496, 0.013214743843692953), (2378, 0.013214610652771991), (3607, 0.013205833351510128), (2607, 0.013168596297021912), (669, 0.013160490465323402), (515, 0.013127347917551711), (403, 0.01312186429241431), (3096, 0.013119786968211769), (1739, 0.013111035565354496), (124, 0.013089907608934408), (1595, 0.013061749672333792), (2730, 0.013060610000571796), (4147, 0.013034543400910727), (3801, 0.013018791818923944), (1365, 0.01297908258191139), (199, 0.012973227851463504), (269, 0.012970719770838808), (2931, 0.012969423174196776), (3256, 0.0129062787503434), (149, 0.012874716257604609), (4451, 0.012838465593487456), (147, 0.012758924260994628), (1971, 0.012711594079540749), (1290, 0.01270748713217868), (2602, 0.01268112773421599), (1050, 0.012679652287492207), (4469, 0.012671787316542536), (1387, 0.012635036404255994), (225, 0.012621670951939725), (2065, 0.012617879395525687), (3091, 0.012608059597331255), (653, 0.012547991534986001), (2692, 0.012492251296617182), (816, 0.01248681185723879), (1507, 0.012453539066367576), (733, 0.012433470557395921), (948, 0.012370616117667481), (2844, 0.012369779906252945), (3152, 0.01234134989946871), (156, 0.01232211824531292), (2412, 0.012313674379180952), (3651, 0.012302640961707896), (309, 0.01230178169939713), (2447, 0.012295779699011761), (2727, 0.012272475728662602), (904, 0.012248317923230246), (1377, 0.012241585053725388), (4410, 0.012230192425670663), (609, 0.012228214323172275), (4095, 0.012186259249381912), (2852, 0.01217882880171823), (547, 0.012144563650440322), (3117, 0.012116803391676081), (143, 0.01211569788937124), (3535, 0.01204623863817161), (2939, 0.012040585885500088), (4610, 0.012036764120861587), (3817, 0.012036589873611853), (3756, 0.012028185144127276), (351, 0.012026224474079899), (3782, 0.012013151959333501), (3802, 0.012000402700680163), (1580, 0.01198782857284111), (271, 0.011983082835882447), (1058, 0.011970148299913249), (3741, 0.011953068164734326), (508, 0.01195094024370879), (4724, 0.01190879136705398), (2464, 0.011908658039208838), (839, 0.011896666917998672), (842, 0.01189451937704988), (2468, 0.01188350076934387), (3947, 0.011879859107574959), (3645, 0.011879169068464401), (3708, 0.011815314152120317), (3317, 0.011800087887680064), (1343, 0.011789496071131084), (760, 0.011789336216505051), (102, 0.011775911355754107), (562, 0.01176828430509047), (1409, 0.011762855779171131), (942, 0.011756843415689422), (2507, 0.011729012731513978), (2263, 0.011697373334059511), (3983, 0.011675193751570206), (362, 0.011655060789436286), (266, 0.01165072071488725), (2759, 0.0116479642056861), (4735, 0.011630335808384112), (1563, 0.011619176270013715), (2925, 0.011615647164723398), (1679, 0.011614638108114585), (2486, 0.011595326134048732), (3529, 0.011587437619302287), (1718, 0.011583315627889966), (1393, 0.011552404770309976), (1806, 0.011540251327122884), (368, 0.011534922153734039), (3453, 0.011523320892428024), (1815, 0.01151378914544415), (2817, 0.011512225217864833), (1564, 0.011476038681464837), (4076, 0.011467859153407003), (3229, 0.011460558825568953), (4169, 0.01145297092790793), (905, 0.011447619135086934), (461, 0.011447396470732391), (1148, 0.011446131324178632), (3175, 0.011427493311570369), (281, 0.011426882213898095), (3113, 0.011416306315432079), (70, 0.011411492391360299), (4048, 0.011403944718353978), (4554, 0.011390435232342453), (3678, 0.01137569642681679), (717, 0.011366338119425638), (753, 0.011366334891289872), (3224, 0.011340676717237146), (2849, 0.011337404951673822), (239, 0.011324906821823176), (4121, 0.01131496924869856), (3312, 0.0113106733596106), (682, 0.011305805322341825), (3652, 0.011294134255641098), (4465, 0.011291184401850557), (1336, 0.011284536650569955), (1591, 0.011283546610824176), (4118, 0.011282276488443401), (2082, 0.011253142595986592), (1417, 0.01124442762179979), (1674, 0.011238931693212646), (224, 0.01122475174855059), (1859, 0.011211376672461162), (2353, 0.011209211975006019), (1195, 0.011202560278818227), (4727, 0.011201337482872548), (1599, 0.01117434540299667), (928, 0.011155404685567031), (4756, 0.011142928693039537), (1777, 0.011135002213062122), (684, 0.011132011359032178), (1155, 0.01112223656346261), (2346, 0.011116001106196911), (4512, 0.011107260874493196), (1549, 0.011094782085065558), (1881, 0.011079766105794076), (3373, 0.011078142595677026), (1351, 0.011075647231308907), (4677, 0.011070238376982717), (385, 0.011070089677003792), (4656, 0.011049521126949458), (254, 0.011036796426459194), (946, 0.011033229497579476), (3585, 0.01103150672666795), (3000, 0.011028126250485895), (1411, 0.011027516899917614), (89, 0.01101558760269011), (1494, 0.011015464181278762), (1754, 0.011014994780550872), (1774, 0.011008095232020277), (683, 0.010977645969567991), (2421, 0.010970387664655336), (3961, 0.01096639167816286), (4241, 0.010963369866327564), (3192, 0.01096014656981302), (2813, 0.010951296166340631), (377, 0.010941883758982723), (498, 0.010931872927999324), (4227, 0.010886203738384642), (1705, 0.01088102706128238), (1471, 0.010872308750571977), (4567, 0.01086699641205675), (3270, 0.010864547791915794), (1100, 0.010861604020695623), (3110, 0.01086106348129856), (162, 0.010813162886769387), (4688, 0.010808503044173577), (667, 0.010806250791984022), (1858, 0.010805566741078411), (3520, 0.01080529544119309), (180, 0.010804784721611668), (821, 0.01080149011398338), (2546, 0.01079331065745866), (4736, 0.010791444941223964), (404, 0.010779359453813983), (1757, 0.010771223583929384), (4436, 0.010765784382972706), (150, 0.01076405422848836), (485, 0.01075486396378686), (1736, 0.010744676262228721), (3586, 0.010743975481545816), (2912, 0.010737719213160891), (675, 0.010728891326436903), (3966, 0.010722631291928329), (1804, 0.010703101903421502), (1852, 0.010701242356747633), (3746, 0.01070115041608664), (1432, 0.010699298701680508), (3709, 0.010699060536679385), (1561, 0.010696728423712335), (1874, 0.010681443134050382), (2780, 0.010679478712872439), (2663, 0.010677067594914708), (3659, 0.01066807068626983), (945, 0.010664920645039272), (2978, 0.010664866401600075), (2167, 0.010660721834341897), (2826, 0.01065939234931783), (1133, 0.010653543746812261), (3259, 0.01065181608228547), (455, 0.010651024520839774), (339, 0.010645452572792818), (2317, 0.01064444611155113), (824, 0.01064346143850327), (152, 0.010640021069976652), (1388, 0.010639815059757344), (2329, 0.01061957243742748), (1727, 0.010618424724068364), (418, 0.01061037122758582), (1431, 0.01060550162066228), (3665, 0.010604892430370794), (3699, 0.010590873574476814), (1735, 0.01058427897003266), (2739, 0.01058273308250204), (223, 0.010574005558721683), (532, 0.010573312919706533), (1118, 0.010571284693519279), (4743, 0.010567145028793246), (2126, 0.010546320603727807), (4233, 0.010544201490712987), (544, 0.01053209706596804), (3121, 0.010522925516186724), (1125, 0.010522318859577101), (1253, 0.010521815296968447), (2316, 0.01051436109053323), (1572, 0.010513686116993345), (209, 0.010511915653885437), (3245, 0.01050245210912504), (4557, 0.010496776840315877), (3334, 0.010489010721192748), (2036, 0.010488831429595577), (3010, 0.010487621093256965), (4435, 0.010481789210424971), (4510, 0.010480901618749892), (4548, 0.010477340107739583), (201, 0.01047174725469231), (1585, 0.010469875904156534), (1116, 0.010468544389804579), (1024, 0.010458021018709511), (2409, 0.01045608020224438), (4474, 0.010437157085078752), (654, 0.01043099264566647), (1130, 0.010430944788339565), (1832, 0.010429286696723158), (3642, 0.010421412112040025), (976, 0.010417500410000969), (1949, 0.01040862856750288), (4292, 0.010371707269302548), (918, 0.010363743487054926), (4534, 0.010361089682156752), (908, 0.010350769174654042), (3382, 0.01034535301234743), (1404, 0.010336207587650364), (2829, 0.010333465767858475), (1339, 0.010333157993505959), (3338, 0.0103212649344539), (1185, 0.010316314145907475), (3412, 0.010315331161457655), (1632, 0.010311989556558664), (2100, 0.010302471536715646), (244, 0.010286941853188066), (1368, 0.010285663065935641), (2080, 0.010279056536750934), (994, 0.010269156264117034), (2935, 0.010268102010418766), (1451, 0.010251896244635707), (2327, 0.010249277967329272), (3155, 0.010248581647647692), (167, 0.010243688959097875), (3894, 0.010240146709497534), (483, 0.010236593585390212), (2944, 0.010236304915647905), (345, 0.010226182770095621), (3670, 0.010216831730069213), (1922, 0.010209434565650504), (4684, 0.010203699053111432), (1436, 0.01020336250238912), (240, 0.010198216715186092), (2962, 0.010191933130240754), (2284, 0.010188025167774836), (3589, 0.010186536335335845), (1542, 0.010185143534730705), (83, 0.010182505720676202), (1267, 0.010173707029902666), (4405, 0.010162165760273812), (1029, 0.010155751587667586), (4000, 0.010155064374637833), (2311, 0.010148028002030128), (4004, 0.010147349719687648), (763, 0.01014619850247545), (311, 0.010129433942123624), (4581, 0.010124236939247813), (1440, 0.010105816532038169), (4441, 0.010100583659017247), (3420, 0.0100931193898374), (447, 0.010089299881089692), (869, 0.010085074898589293), (212, 0.010058480527248496), (895, 0.010045235564510797), (279, 0.010044980883267222), (338, 0.010042431860795674), (360, 0.010037180721695255), (4124, 0.010021649044419682), (1529, 0.010006132873652325), (524, 0.010004296358862443), (1455, 0.01000137783163741), (172, 0.009995261552138635), (1970, 0.009993562437383596), (1114, 0.009982031090343612), (2276, 0.009975251842537574), (202, 0.0099576346048442), (1584, 0.009951552394507656), (1406, 0.00994914401019918), (105, 0.009947724911539776), (2514, 0.00994281193076024), (352, 0.009942560793016813), (745, 0.009935917592522622), (3244, 0.009934153346952983), (1128, 0.009909205884495533), (2918, 0.009901017013592969), (2525, 0.009900458056591215), (1903, 0.009898351513117002), (327, 0.0098894869546956), (1392, 0.009883817035651709), (613, 0.009876521987451764), (3329, 0.009871597774891785), (3716, 0.009854686830742535), (2262, 0.009852493503281786), (1008, 0.009847042908093628), (2280, 0.009846233712142176), (1527, 0.00984489536805174), (647, 0.009844643209695697), (2752, 0.00983981037484092), (2026, 0.00983342387710612), (4216, 0.009825782696545661), (2686, 0.009821852751732345), (4426, 0.009817614777962053), (1809, 0.009817195692463516), (3231, 0.009795864408952762), (191, 0.00979361242841421), (4109, 0.009787280750432406), (3752, 0.009786272732200103), (3118, 0.009778503066066214), (664, 0.009772423306896863), (4235, 0.009763033441116824), (4343, 0.009749221397436409), (2897, 0.009747186827776895), (396, 0.00974645580289973), (3582, 0.009738458007599043), (1652, 0.009732910838785953), (1231, 0.009728942142737756), (337, 0.009725548759147605), (2206, 0.009724675985239933), (1249, 0.009703663924395348), (1063, 0.009698793389763325), (4442, 0.009690431018354031), (4481, 0.009689894990785304), (2074, 0.009680295614614946), (144, 0.009676146247841752), (1213, 0.009671360572377044), (1544, 0.009663120263868771), (317, 0.009655190979433965), (1230, 0.009654649823995495), (4060, 0.00965350128299861), (287, 0.009646416180141322), (912, 0.009644847557612931), (75, 0.009619989941238565), (1068, 0.009617086733649203), (2791, 0.00961114609769309), (1569, 0.009604888548786389), (833, 0.009593006618881917), (2942, 0.009572845964352907), (828, 0.009569547346499925), (1978, 0.009555627189651968), (500, 0.009542699843721336), (2801, 0.00953290335269354), (939, 0.009525725530213682), (3465, 0.009514425021861509), (3509, 0.00950049614354742), (538, 0.009497331652462193), (915, 0.009496576035187282), (827, 0.009495530375504747), (3232, 0.00948417656945059), (545, 0.009481134502954932), (1992, 0.0094535445043452), (4553, 0.009447592105954424), (762, 0.0094449619441554), (1630, 0.009437002993206793), (1292, 0.00943171147594164), (1854, 0.009429506308623789), (3215, 0.009412128966878422), (2110, 0.009408767830165555), (1061, 0.009389706589763446), (4325, 0.009389504344088665), (1559, 0.00937685651134129), (170, 0.009374452574602012), (2, 0.00936086296203166), (3674, 0.009350696161980008), (2119, 0.009348044606302189), (1925, 0.009346372439310972), (1680, 0.009344246781855426), (3842, 0.009321623246932278), (2204, 0.00931952733515601), (3267, 0.009318967805567256), (3668, 0.00931623329047619), (3993, 0.009313802701031203), (76, 0.009289238186367949), (1042, 0.00927779874170988), (1802, 0.009265569249495453), (2114, 0.009260093465883872), (1214, 0.009238659800565808), (501, 0.009238213260969002), (3070, 0.009223317938242593), (1236, 0.009212396610691606), (2742, 0.00919841747585655), (3099, 0.009180225459253098), (2326, 0.00916554384040968), (3860, 0.009154802270172801), (874, 0.009144070087586217), (2874, 0.00911938069292255), (4164, 0.009112356529060657), (2264, 0.009100026115560416), (3711, 0.009092603314311212), (555, 0.009048965951127091), (88, 0.00903015669801348), (3045, 0.00900166021898921), (3418, 0.008985924973856262), (695, 0.008978680836796163), (1344, 0.008956860473353572), (691, 0.008949762509732421), (319, 0.008936985034112404), (3940, 0.00893664911627769), (2022, 0.008921377314495797), (1586, 0.008906848824833202), (4232, 0.008887805408956933), (333, 0.008879300515022084), (1646, 0.008859840555150298), (4739, 0.008820596494630501), (1694, 0.008816894031822304), (440, 0.008814282745500637), (237, 0.008797394213091416), (2913, 0.008723016108208508), (1018, 0.008709726258028815), (4096, 0.008678459941203453), (1277, 0.008610131635244787), (2076, 0.008545110517077396), (775, 0.008536040931768124), (2617, 0.008534511951373575), (1701, 0.008529059014192868), (692, 0.008507695768454494), (2220, 0.008463100333056769), (1317, 0.008446937274148024), (1300, 0.008410166567234754), (2671, 0.008333321290557947), (4445, 0.008325274792793028), (1320, 0.008282516814948867), (561, 0.008149664470652197), (155, 0.008148976028628966), (435, 0.00814458214289977), (3946, 0.008137962345766431), (757, 0.00806401217401625), (668, 0.008001929278715554), (106, 0.00791996246743605), (3932, 0.007912086319095823), (369, 0.007801742286793845), (853, 0.007757737694465705), (1276, 0.00754993025066892), (4261, 0.007443518169478795), (108, 0.007136343649630453), (3325, 0.00694246149558599), (3512, 0.006921716855520512), (2678, 0.006807592227696303), (3552, 0.006780088150802882), (3178, 0.006546855383333848), (3667, 0.006522807131421091), (4555, 0.006513221008567754), (4571, 0.006477051791751756), (3925, 0.006280653550128423), (735, 0.0061754958880746), (3276, 0.006158003201417605), (2529, 0.006125968909592217), (2998, 0.006109407141453155), (3291, 0.006093425403465148), (4082, 0.006073758672977574), (2490, 0.006034482192000721), (4202, 0.0060219567413688346), (3257, 0.005996068830855176), (2989, 0.00595317782642195), (2764, 0.0059371086635722), (2251, 0.0059286118598025845), (2870, 0.005925131407943502), (3051, 0.005897860491889323), (2379, 0.005891332618366378), (2832, 0.005871412726485048), (3262, 0.005855709752662855), (2768, 0.005853330347559883), (2568, 0.005820541292142522), (2349, 0.005816978029283119), (2655, 0.005780632466079688), (4617, 0.005747846907947102), (2643, 0.005738239556993391), (3166, 0.005733143003594217), (2883, 0.005722177336261255), (3990, 0.005710834827684818), (2775, 0.005709730829031678), (627, 0.005676678998456685), (3635, 0.005672456894818843), (2889, 0.0056715865686507135), (4710, 0.005655673339286864), (2407, 0.005632648457770591), (2731, 0.005632606061662341), (4444, 0.005608107861978294), (2901, 0.005597506298933339), (2559, 0.005596141128392415), (3076, 0.005566031668128159), (3479, 0.005542199322394035), (3219, 0.005536361820013867), (4484, 0.00552352086337482), (3922, 0.005509469380237274), (2423, 0.005498009618426279), (2257, 0.00549703657428028), (3140, 0.005483343446324428), (4546, 0.005475261685835662), (2350, 0.005474008435683729), (3015, 0.005443790359133089), (3892, 0.005443562534796612), (2448, 0.005441506592295123), (2438, 0.005407792561322565), (2075, 0.005407314804121584), (3613, 0.005401633938897572), (2415, 0.005400270252008342), (4723, 0.005396544972196163), (3074, 0.005381339411173445), (2199, 0.005370514800015347), (3832, 0.005331280107175773), (2797, 0.005322328853384124), (2966, 0.005291745159470547), (2838, 0.0052910304312574164), (1655, 0.005268011605537816), (4637, 0.005264661136306313), (3763, 0.00526217189541042), (3081, 0.005243060011828302), (1264, 0.005236590520716223), (2530, 0.0052362290345292295), (2879, 0.005223439764788811), (1711, 0.005222292336567198), (1208, 0.005192304069081016), (4163, 0.005190429963453135), (4521, 0.005180634296925358), (3363, 0.005177631990801372), (2778, 0.005167447461084427), (4490, 0.005165419263012184), (326, 0.005147621169996954), (2266, 0.005142267864218583), (3901, 0.005139526091154116), (2154, 0.005135320252189448), (3521, 0.0051305156690269705), (3638, 0.005130187003246109), (3072, 0.005120775627403713), (4243, 0.005115730399144948), (2890, 0.0051131068245511505), (4477, 0.0051088582210925895), (4594, 0.005106147095573131), (4619, 0.005096214036454247), (4443, 0.005094626320130243), (670, 0.0050916919207668965), (2488, 0.005085343619956584), (2848, 0.005081533231577162), (2428, 0.005078985924656768), (3357, 0.0050749829545100435), (1995, 0.005072372712331585), (3004, 0.00506871337613043), (3355, 0.005067429421325011), (3952, 0.0050656699304236), (3359, 0.005064495014847596), (2434, 0.005058311295201276), (3123, 0.005057628589090998), (1429, 0.005052510290140619), (3577, 0.005049195226185007), (3012, 0.005047923416034745), (2388, 0.005043554215631554), (2772, 0.005040245762037348), (4632, 0.005038008419368917), (3165, 0.005035776789268417), (4244, 0.005020685580903275), (2857, 0.005006380213699055), (925, 0.005005307235434844), (2748, 0.00500516907743042), (3772, 0.005003056638903182), (4412, 0.005000827573423053), (2570, 0.004999658888566635), (1049, 0.004999629728977737), (2696, 0.004997147607466364), (4731, 0.004997036099248061), (2535, 0.004996542893850819), (2475, 0.00499569819759456), (2623, 0.004994851188012896), (4589, 0.004989598816968575), (2872, 0.00498769378841395), (436, 0.004985651191773282), (2986, 0.004985255684986286), (2914, 0.004983423342434791), (2437, 0.004982055634867541), (2796, 0.004980824332621957), (2427, 0.004977344881124672), (3228, 0.004976897214394811), (3413, 0.004976766977808863), (1947, 0.004969185083190062), (1187, 0.0049679136731285035), (721, 0.004967569213821667), (1547, 0.004964836397292877), (3866, 0.004963971142580634), (3364, 0.004953128290657735), (3062, 0.004952275575936385), (2320, 0.004949623600285984), (4333, 0.004946925917408992), (1658, 0.0049462949459000306), (4706, 0.004945728475272042), (2916, 0.004938551969702635), (1498, 0.004933113699237601), (3274, 0.004927109901872818), (2134, 0.004927057401757318), (4701, 0.004925772983348238), (3680, 0.004916644931635394), (4713, 0.004914599245378401), (1748, 0.004913654897582471), (4516, 0.004912974023587407), (3745, 0.004910053160069522), (4295, 0.0049045443240825345), (2769, 0.004904249361705656), (2740, 0.0048995788749431985), (1909, 0.004898238745050743), (1398, 0.0048978536968235726), (614, 0.004895600763407469), (2051, 0.004894042884515703), (3094, 0.004893269039776501), (2089, 0.0048926832869015295), (3296, 0.004890793427185072), (813, 0.004890260908338435), (2229, 0.004888800866611632), (2702, 0.004880747924514024), (2625, 0.004878917436813009), (3248, 0.004877828474058208), (2881, 0.004874701140149777), (2269, 0.004874336416559982), (3903, 0.004873754941963988), (2974, 0.004871508377147425), (3590, 0.004865949390655035), (3524, 0.004864502665733913), (4269, 0.00486433309862356), (4051, 0.004863986925952975), (4718, 0.004858614454084576), (4522, 0.0048582765954762195), (3258, 0.004853270311264518), (1489, 0.004849431589137054), (4369, 0.004848491325898363), (2664, 0.004848027347472576), (2478, 0.0048453158998434), (4368, 0.004839382605554998), (2411, 0.00483136512308594), (998, 0.004830306672788647), (3883, 0.004827323188496535), (2302, 0.004821449601417094), (4203, 0.004820042433825157), (3425, 0.004815897607909436), (274, 0.004809533238161043), (3506, 0.004806401306870787), (3044, 0.004805250028637286), (999, 0.0048032081925090085), (4575, 0.0048024046331721516), (4160, 0.004797608575900005), (2924, 0.004795734219112009), (4494, 0.004793052100706243), (3962, 0.00479214163037609), (2705, 0.004786435330283015), (4092, 0.004784759754497114), (3148, 0.004782706336967806), (1023, 0.00477877022634557), (2049, 0.004778429339779422), (2260, 0.004777388612751113), (107, 0.004775219004584726), (3827, 0.0047728744635780005), (3640, 0.004772511728460594), (4087, 0.0047692247501511876), (2108, 0.004768576191290371), (443, 0.004764025949047556), (4133, 0.004761255204110021), (847, 0.004760162330450376), (4535, 0.004758805628877065), (857, 0.004756994463765502), (2176, 0.004753342344074492), (2943, 0.004752370509005939), (2400, 0.00474943714599429), (1325, 0.004749113910952945), (3639, 0.004744687059796785), (1968, 0.004742442867840894), (4593, 0.004742320573599845), (739, 0.004742276769769135), (3116, 0.004736657965810649), (4130, 0.004736261456529903), (4657, 0.00473596587739409), (1109, 0.004734889890299613), (208, 0.0047339962301007335), (2915, 0.004733427284439002), (3893, 0.004730650568581786), (3391, 0.004728322780668596), (2840, 0.004727509729625988), (4448, 0.00472596408286579), (62, 0.004724015698389463), (4699, 0.004722086654037901), (4101, 0.004718039835425933), (3196, 0.004712858148268087), (1924, 0.00471271216435609), (2629, 0.004711313146585859), (2579, 0.004710460265382591), (576, 0.004710058692018842), (2592, 0.004706160479116189), (4507, 0.004700898917136943), (3797, 0.004700119428612576), (3618, 0.004697770464913692), (3417, 0.00469579903443013), (4138, 0.004695683503838445), (716, 0.004693699423713791), (4734, 0.004693036081994855), (876, 0.004685027806564165), (12, 0.004683848513233841), (4113, 0.004682484940818231), (3984, 0.004679990789923409), (2116, 0.004678878972212628), (623, 0.004676006853110513), (2436, 0.004675947776498879), (3146, 0.004675067651409369), (3867, 0.00467224136920659), (4624, 0.004671809333341031), (3408, 0.00467131814784388), (3037, 0.004669245563206536), (2755, 0.004667990374906314), (2223, 0.004666015908795769), (967, 0.004661498089178593), (3601, 0.004660910715255361), (3187, 0.0046590054367620076), (1474, 0.004658569094618476), (3902, 0.004658133699828388), (4116, 0.004657132068321553), (2394, 0.004656870068362355), (350, 0.004655192259921502), (3813, 0.004654362626544091), (4187, 0.004653029187989757), (4098, 0.004651115890555385), (2782, 0.00465092231883576), (4024, 0.004650348353882902), (8, 0.0046503126527751995), (1923, 0.004647534582737301), (4528, 0.004647128878350838), (3273, 0.004645903857975326), (2361, 0.00464301717066302), (3234, 0.004640981764578275), (3749, 0.004640736683704645), (1822, 0.004640317467797316), (3873, 0.004639964120819853), (4625, 0.004637403607650018), (3920, 0.004631682815549104), (4330, 0.0046265159606648145), (3183, 0.004625374065516617), (2348, 0.004623991435407993), (1007, 0.0046218950490146005), (3013, 0.004620625468000772), (1897, 0.0046145938293642936), (729, 0.004614383325473204), (3198, 0.004612940150521395), (3112, 0.004611946447386424), (4111, 0.004609381487274641), (612, 0.004607876890508812), (3780, 0.004607370615060189), (4014, 0.004606151366156795), (3704, 0.004605913740852881), (318, 0.004602186209791431), (3218, 0.004598058518856329), (1896, 0.004597300416780205), (888, 0.0045948289155307055), (3915, 0.004594008431416447), (2289, 0.004592386761435523), (4520, 0.004590461918273682), (2391, 0.004588787827345256), (3904, 0.004587807555910623), (41, 0.004587421220039433), (206, 0.004586593214900223), (4249, 0.004580506232373267), (2390, 0.004577043433905609), (1687, 0.0045767432639517575), (4259, 0.004576598574236714), (4419, 0.004576303113749713), (1518, 0.004575576853718858), (1907, 0.004572694290765839), (2375, 0.0045724317294938205), (1866, 0.004572352583709894), (1685, 0.004571156964646456), (3406, 0.004567712048984197), (3235, 0.004566911267310856), (3527, 0.004566271980005367), (1513, 0.004561340989345275), (2821, 0.004560283376105317), (371, 0.004559979330483274), (1570, 0.004556625588551632), (4401, 0.00455572075665183), (4722, 0.004552566326923497), (4046, 0.004552123212774724), (1537, 0.004550107610256166), (4643, 0.004549418685908766), (826, 0.004548777522613093), (3822, 0.004547693402156387), (1893, 0.00454354849244263), (1916, 0.004542197342182436), (3919, 0.004539760897737879), (1703, 0.004539106750132404), (2096, 0.00453886027103276), (673, 0.0045367732597890375), (4286, 0.004536758130800128), (4489, 0.004535005562274336), (1188, 0.004533643997187862), (227, 0.004532373586555923), (2344, 0.004530600742622671), (1851, 0.004527217077300634), (4371, 0.00452658992745713), (1350, 0.004525460765868823), (2714, 0.0045244907369694385), (3097, 0.0045242729289468745), (3349, 0.004521533525401211), (774, 0.004520962439198527), (4123, 0.004520734108270612), (493, 0.0045197096565411715), (1225, 0.004519518631015935), (4357, 0.004519269182262918), (74, 0.004514280160525258), (4517, 0.004513814980682571), (3771, 0.00451042625488093), (903, 0.004509922424240463), (2999, 0.004509898166096973), (1454, 0.004509466214240085), (2088, 0.004507023894675481), (456, 0.004506122862751945), (1364, 0.004505739197901573), (2477, 0.004504392824561308), (4430, 0.004503855726714306), (2067, 0.004503216296590029), (2926, 0.004503101663851868), (728, 0.004498596345167501), (2633, 0.004496048414440497), (3511, 0.004495014430544751), (3075, 0.0044938899141665906), (991, 0.004493741399990441), (872, 0.004493377966307348), (2048, 0.004490575269405473), (472, 0.004489069374445354), (4005, 0.004486755058694963), (3493, 0.0044865924564303095), (1463, 0.004484172922181686), (1324, 0.0044816569830396415), (4501, 0.004481134666842827), (470, 0.004479846596623185), (4629, 0.004476403582842629), (4422, 0.004476222937976985), (3449, 0.004475365535804021), (4470, 0.004474266270312581), (3496, 0.0044737701101896), (564, 0.0044684127190182015), (482, 0.004466934413050063), (2105, 0.004465819777689981), (192, 0.004462974163070895), (3353, 0.004460922569988311), (1229, 0.004460050880868143), (2230, 0.004459249869737857), (952, 0.00445808955646674), (930, 0.004457895958964178), (761, 0.0044565548929559945), (255, 0.004456447146060222), (3314, 0.004456316438110311), (3501, 0.004451704934640945), (844, 0.004450752037088357), (2531, 0.0044504052969408965), (2798, 0.0044498381681689885), (178, 0.0044497277996684665), (2609, 0.00444943326238838), (3623, 0.004448097648357974), (606, 0.00444693541568771), (2894, 0.004441298180874627), (2988, 0.004441060247563528), (2277, 0.004439941019116316), (743, 0.004439292560318851), (4573, 0.00443892913825397), (1071, 0.004436826734376512), (3654, 0.004435438346392651), (3227, 0.004434921867824479), (830, 0.004432672741158428), (2083, 0.0044316530576298295), (1946, 0.004429714526627734), (1400, 0.004427709921104362), (23, 0.004426719156515972), (3973, 0.004426030788396215), (1643, 0.004425710156290464), (2386, 0.004424912629965955), (4566, 0.004424363370440875), (1286, 0.004423612933425692), (11, 0.004422660213224659), (2091, 0.0044211351586880875), (3184, 0.004420472169425562), (551, 0.0044204033576862554), (3388, 0.00442039025790388), (3233, 0.0044198771161513516), (3643, 0.0044176193848439295), (204, 0.004417089314320238), (1902, 0.004416740733817844), (3809, 0.004415035738538469), (2661, 0.004412073765441386), (2554, 0.004411725908155397), (2319, 0.004410679556236125), (1015, 0.004410302011366055), (652, 0.004408216668340808), (2466, 0.004405836298676139), (2242, 0.0044057629006694085), (1619, 0.004404291239334857), (3666, 0.004403420726989542), (3241, 0.0044011652927006106), (3551, 0.004399775387528937), (1475, 0.0043994017854584845), (216, 0.004399266913354446), (4056, 0.004398836592984163), (783, 0.0043955834897301494), (3624, 0.004394609775145074), (4668, 0.0043934056141568725), (3214, 0.004393221064820195), (3728, 0.004390111180084253), (3765, 0.004389154788982681), (1083, 0.004384747606043602), (871, 0.004382267419287564), (3526, 0.004380932855686819), (3689, 0.004380091271044236), (3516, 0.004380008742960551), (2405, 0.004379098222225533), (1122, 0.004376604220101627), (1722, 0.004376434184983931), (2878, 0.004374918125649691), (2494, 0.004372673917894823), (4603, 0.004370675804044155), (2393, 0.004366352799687196), (3542, 0.004365899803876758), (174, 0.004364390737493467), (1779, 0.004364200335958678), (4025, 0.004363854787198265), (1413, 0.0043637938858975085), (1645, 0.004362086360071569), (173, 0.004361611861414572), (3653, 0.004360907317153491), (3778, 0.004360611048757587), (4334, 0.004356331553591361), (479, 0.004356076544363673), (3564, 0.004354700334297244), (2744, 0.004353026561879815), (1176, 0.004352387384484675), (4563, 0.004350769287896054), (636, 0.004349296570686884), (4287, 0.004349241854232063), (3303, 0.004349109969441965), (588, 0.004349084659399398), (3125, 0.004349058458893741), (1931, 0.004346038140325243), (1223, 0.004342804278791697), (4533, 0.004342381093611502), (169, 0.00434066903664362), (2295, 0.0043402707209793945), (4178, 0.004338680881377674), (3707, 0.00433648620493423), (1335, 0.004335318135777807), (1131, 0.004332898331340243), (794, 0.00433006121716213), (1179, 0.004327353868191932), (644, 0.004325433740623377), (4284, 0.004324394816673974), (2977, 0.0043241384059265996), (980, 0.004321265745546575), (2492, 0.004321099923678946), (3727, 0.004319586166509015), (4266, 0.004317005117319836), (1019, 0.004314654455740842), (3917, 0.0043130879442499735), (1192, 0.0043103922739190555), (238, 0.004307500088327789), (923, 0.004306649675607147), (2904, 0.004306605210665287), (1163, 0.0043045574114312), (464, 0.004302004978669639), (406, 0.004300073365742293), (3571, 0.004298911071235895), (755, 0.0042982505703979355), (1983, 0.004297551599046437), (637, 0.004296580269714793), (4255, 0.0042952798872004), (1077, 0.00429480586049886), (3673, 0.004293923485317845), (1410, 0.0042923239033863655), (3807, 0.004291710940302485), (697, 0.0042884142358467926), (2155, 0.0042882433260040854), (3330, 0.004287098990471836), (387, 0.004285974067325078), (3799, 0.0042846460291666), (3900, 0.004283339904912416), (696, 0.004282904735851036), (2946, 0.004282296489456539), (1533, 0.004281868059603721), (3445, 0.0042815882644891895), (1717, 0.004281117546825826), (3888, 0.00428023849716519), (1020, 0.004278128053129108), (2887, 0.00427721875763888), (1740, 0.00427398314719409), (198, 0.004273852012383854), (2706, 0.004270698633507074), (832, 0.004270233130299557), (3268, 0.004269633934199359), (2972, 0.0042688871432338075), (2745, 0.004268842372383763), (2652, 0.004267730920933445), (2647, 0.0042676520192365805), (2073, 0.004265666501353254), (3036, 0.004264758625682326), (1175, 0.004263930175598554), (2169, 0.004262455785019714), (2812, 0.004262412018819604), (2313, 0.004261565327710765), (1075, 0.004260928442238145), (3346, 0.004259235396724357), (3435, 0.004256264560568632), (1017, 0.0042554489989786995), (4135, 0.004255281613412907), (2374, 0.004254762745481903), (3541, 0.004252951880101978), (4640, 0.004252391888156105), (3067, 0.004250597700206193), (867, 0.004249432718472473), (1102, 0.004249047803714918), (1768, 0.004244656194970561), (693, 0.004243716316204183), (2422, 0.004243547964148272), (864, 0.004241496771096796), (4283, 0.004240989329622077), (1969, 0.004238351437611226), (19, 0.004238217177743311), (3492, 0.0042342242281634785), (437, 0.004234170301632565), (850, 0.004233050925353332), (1338, 0.004231548103430395), (1653, 0.0042312419477213686), (1730, 0.004229413671944354), (769, 0.0042274935613125005), (2045, 0.004227253371380534), (353, 0.004226558809777781), (1476, 0.004225994320669353), (3500, 0.0042206419795227865), (4053, 0.004219013617543877), (894, 0.004218551156821632), (1378, 0.0042166099375363485), (2087, 0.004213990933755505), (2226, 0.004212738385206556), (2802, 0.004211215168995713), (750, 0.004210571231910657), (490, 0.004209992921281827), (2061, 0.00420993413462385), (3170, 0.004208813039323171), (4183, 0.004206916323856192), (4036, 0.004206806736710708), (3876, 0.004205549693958899), (2980, 0.00420307207992559), (4511, 0.00420246776887445), (3237, 0.004202081708025612), (1882, 0.00420192462473448), (3890, 0.004201851717551172), (3122, 0.004201719232295185), (3641, 0.004201645209212339), (628, 0.004201531251891854), (3402, 0.004200701253248991), (1620, 0.004198008562377505), (2945, 0.0041978053381672145), (1706, 0.004197518354473667), (1138, 0.004197215929973943), (4487, 0.004195962924105921), (1472, 0.0041951941982034755), (1422, 0.004195038503252586), (4362, 0.004195020690301346), (1313, 0.004193874324299242), (2121, 0.004192536461257855), (1170, 0.0041922962770718315), (3477, 0.004191022249868699), (4670, 0.004190497079278543), (104, 0.0041887048516743445), (3557, 0.0041886739045523405), (3739, 0.004188559924944671), (2831, 0.004187077870829654), (3784, 0.00418579917504838), (4137, 0.004181340112080372), (1634, 0.004180310538650239), (114, 0.004178865527177023), (1257, 0.004177851185382944), (959, 0.004177355237984911), (3151, 0.004174634525002325), (1483, 0.004173673238303937), (1693, 0.004173365984889382), (2593, 0.004171144895551835), (348, 0.0041706326454021975), (3315, 0.004169678600758076), (4309, 0.00416606534429086), (4530, 0.004162995367520256), (2612, 0.004162625802903284), (689, 0.004162271466339675), (2716, 0.0041612436899218196), (2965, 0.00416068428393934), (1421, 0.00415915920304402), (2397, 0.004158424837985276), (966, 0.004158394709160816), (282, 0.004157666252861019), (4020, 0.004157580475130194), (1123, 0.004156345542525112), (1161, 0.0041550071388204175), (1892, 0.004154583206426984), (727, 0.004152683852305413), (1027, 0.004152281458354444), (3868, 0.004149966510583174), (2195, 0.004147286693287763), (1666, 0.00414399148773892), (1598, 0.004143872751623059), (522, 0.004143710098317407), (1408, 0.0041415885037795926), (1558, 0.0041402538306123185), (1021, 0.004139858370724492), (2496, 0.004139777489689629), (1710, 0.004139436514432511), (2131, 0.004137045417639399), (1044, 0.0041361516114616055), (4394, 0.004133895218110548), (1438, 0.004133674469764569), (349, 0.0041334116936290865), (2102, 0.004132727388767656), (598, 0.0041283087741353286), (2642, 0.00412512571202263), (29, 0.004125026246911585), (126, 0.004124529857850067), (2069, 0.004123603197531164), (651, 0.004123076424251951), (2068, 0.004121601330992221), (3498, 0.004120495912396391), (3433, 0.004117993901312762), (854, 0.004117497093769666), (962, 0.00411744459333748), (3819, 0.0041139890397423485), (4069, 0.004113676958266623), (2907, 0.004113522380790327), (1060, 0.00411336671406626), (3953, 0.004113160499002479), (852, 0.004112651942796172), (2634, 0.004112597760594696), (358, 0.004112378801317836), (1446, 0.0041110721698852945), (818, 0.004108865602870144), (1597, 0.0041085970404294335), (3734, 0.004108064223764309), (1628, 0.004106521196815558), (4345, 0.004106397396692324), (2995, 0.00410609524000367), (4011, 0.004103680800285853), (197, 0.004103011296355695), (838, 0.004102020879266615), (1667, 0.004100876066512762), (578, 0.004100612427769579), (61, 0.004100225228711752), (2402, 0.004099250084881423), (2029, 0.004098842353199498), (3706, 0.004096563653778713), (3407, 0.004096347361548034), (3898, 0.004096058214617629), (3220, 0.0040948643293982475), (3050, 0.0040943472219736364), (1030, 0.004092489495466768), (4356, 0.004091991531584412), (3379, 0.004089952655093716), (1261, 0.004089344673712072), (3558, 0.004089163850631567), (1813, 0.004087809113395341), (1448, 0.004085229715859014), (4152, 0.004084458264870761), (221, 0.0040810844928484726), (3298, 0.004080345270702991), (127, 0.0040797322330627305), (2674, 0.004079049151004031), (2473, 0.004076691514013851), (1481, 0.004075068632579027), (3646, 0.004074670883159201), (2117, 0.004073628393640958), (3194, 0.0040714060069615985), (1002, 0.004071154193134345), (4085, 0.004069691895333866), (488, 0.004066874929075175), (2528, 0.004066366653758175), (2467, 0.004065907301175711), (4591, 0.004065078115021015), (2556, 0.004064481542654861), (3293, 0.00406428114257144), (1084, 0.004064230814912853), (4154, 0.004063103729146277), (4536, 0.004058628126016967), (4205, 0.004057241191707017), (1519, 0.004056003836769923), (1796, 0.004055765352498972), (325, 0.0040534751577165394), (798, 0.004051988175112809), (1864, 0.004051513783030826), (3826, 0.004051369416102136), (1001, 0.004051104833819782), (471, 0.004049747531351251), (3660, 0.004048268356367902), (1819, 0.004047037054038141), (388, 0.00404406700822703), (3352, 0.004043855235146988), (2004, 0.004042211960100192), (3240, 0.004039373076859847), (2859, 0.004039258023656678), (3399, 0.004039164377886866), (1177, 0.004037199596514865), (2743, 0.004035436568253131), (2892, 0.00403536289413266), (1744, 0.004035016507972853), (116, 0.004034804603791177), (3300, 0.004033552042280846), (4472, 0.00403323404421809), (4382, 0.004031403929053321), (2653, 0.004028128265675365), (1220, 0.004025498288803667), (2527, 0.004025032518664784), (3028, 0.0040231631196170885), (1255, 0.004022565528198357), (907, 0.004021838410020114), (4282, 0.00402022143753814), (1034, 0.004019745470263289), (3974, 0.004013967193865359), (31, 0.004012621639342825), (3278, 0.004012258687167673), (1582, 0.004011912121999201), (975, 0.0040115064119373), (2482, 0.004009044963696783), (2862, 0.004007376900372027), (1884, 0.004005319388232843), (1514, 0.004005147388275955), (4257, 0.0040046588460129345), (372, 0.004001012352094317), (589, 0.004000286267099411), (655, 0.003999961378334577), (2143, 0.003996933324833943), (742, 0.003995341592151867), (4321, 0.00399511515745047), (3669, 0.0039940040638566), (4479, 0.003989800436135643), (2800, 0.003987596238366623), (1375, 0.003986381809780897), (4638, 0.003985808276901537), (1206, 0.003984775670198446), (4523, 0.003982408853264143), (2453, 0.003981785760192748), (1372, 0.00398157202960221), (659, 0.003981382774486441), (1041, 0.00397708492316174), (594, 0.00397667677723603), (734, 0.003975890082019218), (963, 0.003975881772942866), (359, 0.003975271320731011), (2899, 0.003974947945442512), (900, 0.003974782018689015), (18, 0.003974650125277726), (2149, 0.003974368409939221), (1357, 0.003973231459413957), (4176, 0.003972486971795164), (1217, 0.003969433000981392), (3460, 0.003968751080167749), (2598, 0.0039672799727154635), (3342, 0.003965450524646668), (2920, 0.003962219168709129), (252, 0.003961639817500138), (1065, 0.003960025064395189), (3563, 0.003959013751102074), (1340, 0.003958683304397241), (3614, 0.003958230368303151), (3954, 0.003957485954839915), (2201, 0.0039562275368701496), (1308, 0.003956110840399995), (4473, 0.003954163789387229), (1107, 0.003952115874409808), (2457, 0.00395126036636609), (608, 0.003950978124565688), (200, 0.003948687456075298), (2367, 0.003948498242290773), (3147, 0.003948192863143038), (1052, 0.003944918518902984), (32, 0.003944596679687348), (3071, 0.003942153089649289), (3910, 0.00393335908481484), (2741, 0.003930945652895878), (934, 0.0039299002851549076), (2803, 0.003927016092196004), (4712, 0.00392444398447339), (1079, 0.00392230452599032), (2287, 0.003921416498020896), (788, 0.003920184623732527), (1760, 0.003917216399796422), (4402, 0.003916833751125014), (1209, 0.003916288652635447), (2265, 0.003912510592745906), (307, 0.0039101151552163645), (1462, 0.003910108710787779), (3755, 0.0039084222982473495), (3027, 0.003906981639446469), (3389, 0.0039009237505791), (136, 0.003900402730709443), (563, 0.003899867741665171), (910, 0.003899436872053531), (1427, 0.003898504103551976), (944, 0.0038971797424062), (3226, 0.003897072855696497), (1675, 0.003896863133220528), (428, 0.0038939641716335344), (638, 0.003883554222690326), (183, 0.0038826076164397787), (1543, 0.0038820604812149903), (3742, 0.0038800467283524242), (1477, 0.0038796091956437057), (968, 0.0038793203450751823), (2031, 0.0038786759150536577), (15, 0.003874271874158629), (184, 0.0038730475119110545), (103, 0.0038713671817698116), (3839, 0.003868950957536778), (495, 0.0038684896217555443), (416, 0.00386748863482656), (744, 0.003867437616376467), (4429, 0.0038657854798072894), (4066, 0.0038649370012199488), (3634, 0.003863132422400513), (703, 0.0038625513075809317), (1627, 0.003861126660206058), (558, 0.0038609284309521876), (1565, 0.0038577206517637014), (3318, 0.003856713452062477), (951, 0.003855478851292483), (1869, 0.0038529166132705993), (1219, 0.0038523122849051608), (3913, 0.0038505590318269906), (286, 0.0038496905494006784), (1763, 0.003848435063828132), (457, 0.0038460012721016424), (410, 0.0038454557454695153), (1080, 0.0038449231964790944), (2747, 0.0038445638853671655), (3655, 0.0038441900854709345), (604, 0.003841694938744856), (851, 0.00383830210666658), (1690, 0.0038381023469319492), (1719, 0.0038355750032001827), (2011, 0.0038339570567042), (3880, 0.0038339145599658197), (3956, 0.0038334845994740857), (463, 0.003828665433647718), (161, 0.0038284937843568487), (2771, 0.0038275409602807533), (722, 0.0038258112817846656), (2591, 0.0038254123697479556), (1964, 0.0038249973493266706), (1830, 0.0038216075625823374), (3137, 0.0038209216881017606), (3767, 0.0038202179177993273), (3474, 0.0038185122492628643), (2338, 0.0038141634250090433), (3380, 0.003811218826948729), (1934, 0.0038109126219126608), (2724, 0.003808544019510279), (2240, 0.0038049160705158186), (364, 0.0038027937747745597), (519, 0.00380154220326398), (3327, 0.0037976359755536714), (815, 0.003797263731972787), (3569, 0.0037969782514573505), (267, 0.0037969080010461435), (33, 0.0037963638733961645), (357, 0.003795476294267421), (1136, 0.003791607462586089), (856, 0.0037906643238931744), (1764, 0.003789907048290018), (3065, 0.0037851078304437613), (1186, 0.003785026811657718), (672, 0.0037847900629630576), (2520, 0.003782749841859383), (1352, 0.003782591606807467), (1251, 0.0037819907608202166), (800, 0.0037762971404758693), (1318, 0.0037748552624581135), (1423, 0.003769911566270247), (3108, 0.003768696146962924), (4247, 0.0037650478656067105), (2976, 0.0037563816799366864), (3928, 0.0037556406772788686), (222, 0.00375529221997488), (3360, 0.003749294100052137), (3393, 0.0037451742139535896), (808, 0.0037440615227791276), (242, 0.0037437355429461028), (480, 0.0037434113455418598), (2933, 0.003741481220420977), (617, 0.0037388175709428912), (1414, 0.0037355007864416667), (2975, 0.0037353096680596103), (4733, 0.0037347395612199854), (3556, 0.0037341041470779473), (4590, 0.003734055737653339), (3657, 0.0037260564869401763), (4636, 0.003717316330640813), (2981, 0.003716775178934958), (97, 0.0037163800538650626), (2509, 0.0037143870212008683), (4411, 0.0037124325826826355), (642, 0.0037092298248982505), (3254, 0.0036985553598566094), (16, 0.0036975500799775744), (4151, 0.00369656692046611), (3331, 0.003694311359418201), (165, 0.0036938792373751783), (4432, 0.003692630189333512), (1394, 0.003689143317458601), (190, 0.0036854030956623507), (3409, 0.0036849511577340425), (712, 0.0036838064284656974), (611, 0.0036821352740054217), (1370, 0.0036819339536021734), (4311, 0.0036786543085125987), (1215, 0.0036759465820703644), (1088, 0.0036719427927244886), (4156, 0.003665857057764991), (732, 0.0036651393636056096), (861, 0.0036643765402238192), (4626, 0.0036614731392656734), (3471, 0.0036588802378532985), (2355, 0.0036585236227465413), (1943, 0.003653192023875), (2876, 0.003649654890623809), (195, 0.003647885655520168), (4344, 0.003647756070590355), (3927, 0.003647478039997538), (3, 0.003645990790490777), (796, 0.003641043421553021), (1078, 0.003640633843245889), (3200, 0.0036384948639214413), (2603, 0.003637520887238132), (2157, 0.0036358109518241986), (2211, 0.0036323649719047324), (1828, 0.003632059424287313), (2359, 0.0036318455574121675), (626, 0.0036314199369391455), (1415, 0.0036310280351649787), (2969, 0.003629366555827198), (3056, 0.003628595353032631), (3301, 0.003623137494356248), (2034, 0.003618183012762834), (2621, 0.003616372455951328), (924, 0.003614860421445286), (2127, 0.003610739756173281), (2035, 0.0036098787758456334), (3347, 0.003601641821713528), (441, 0.003601546035628204), (442, 0.003601312867831603), (63, 0.0036008360451966538), (2132, 0.0036001956068410427), (1202, 0.0035983190389731142), (2526, 0.0035957221051633485), (2761, 0.0035956904207420193), (142, 0.003584867977072653), (3344, 0.0035779630769219944), (3024, 0.003569406944098659), (25, 0.003568740987704156), (3534, 0.0035668264299656208), (1356, 0.0035633532307335065), (2758, 0.003560391342331209), (1845, 0.0035584291884102506), (1624, 0.0035580971829791965), (1950, 0.0035564121599213337), (2039, 0.003552305618635625), (719, 0.0035468387604908336), (843, 0.0035358026499700706), (616, 0.003530171581364483), (2441, 0.003520289072439209), (2010, 0.003508568900652637), (1886, 0.0034869099140936283), (3875, 0.0034807374534647126), (2000, 0.0034757516549764346), (433, 0.003468321165748283), (453, 0.0034667655252158154), (1677, 0.00344873770984946), (1303, 0.0034417763724320766), (4182, 0.0034350057033316196), (2917, 0.0034094594631554273), (2766, 0.0033909135682842415), (256, 0.003390324928553599), (510, 0.0033878591894861334), (1005, 0.003374230782354158), (3199, 0.0033739152593842974), (1747, 0.0033581676957838303), (2767, 0.003355315922293202), (2469, 0.0033550630176627685), (296, 0.0033338653801183006), (607, 0.0033148214411415694), (3626, 0.0033130510068426497), (1648, 0.0032723888030203123), (929, 0.0032676716994715967), (452, 0.003265613378072386), (228, 0.0032474046636059768), (641, 0.003245157314477291), (3546, 0.0032083730289895643), (7, 0.003202867287445286), (831, 0.003196041774725422), (2550, 0.003190780408797017), (1306, 0.0031273897012811607), (3365, 0.003069220454989667), (283, 0.003031993953917187), (243, 0.00302366721513205), (940, 0.0029902806672803288), (858, 0.002988814784189462), (330, 0.002978573691642767), (1509, 0.002965607504267488), (2443, 0.0028814246551281345), (3835, 0.0027923467386465704), (3328, 0.002783677799693041), (787, 0.002670494761248376), (2534, 0.0019626425872788403), (475, 0.0015335085026336032), (4, 0.0), (6, 0.0), (10, 0.0), (13, 0.0), (14, 0.0), (17, 0.0), (20, 0.0), (22, 0.0), (24, 0.0), (26, 0.0), (27, 0.0), (30, 0.0), (35, 0.0), (36, 0.0), (37, 0.0), (38, 0.0), (40, 0.0), (42, 0.0), (45, 0.0), (46, 0.0), (47, 0.0), (49, 0.0), (50, 0.0), (53, 0.0), (54, 0.0), (55, 0.0), (56, 0.0), (57, 0.0), (58, 0.0), (59, 0.0), (64, 0.0), (65, 0.0), (66, 0.0), (67, 0.0), (69, 0.0), (72, 0.0), (73, 0.0), (77, 0.0), (78, 0.0), (80, 0.0), (81, 0.0), (84, 0.0), (90, 0.0), (91, 0.0), (93, 0.0), (94, 0.0), (95, 0.0), (98, 0.0), (99, 0.0), (100, 0.0), (101, 0.0), (115, 0.0), (118, 0.0), (125, 0.0), (128, 0.0), (130, 0.0), (131, 0.0), (133, 0.0), (134, 0.0), (135, 0.0), (139, 0.0), (140, 0.0), (141, 0.0), (146, 0.0), (151, 0.0), (153, 0.0), (154, 0.0), (157, 0.0), (158, 0.0), (159, 0.0), (160, 0.0), (168, 0.0), (171, 0.0), (175, 0.0), (176, 0.0), (177, 0.0), (179, 0.0), (182, 0.0), (186, 0.0), (187, 0.0), (188, 0.0), (189, 0.0), (196, 0.0), (205, 0.0), (211, 0.0), (214, 0.0), (217, 0.0), (219, 0.0), (220, 0.0), (226, 0.0), (229, 0.0), (230, 0.0), (232, 0.0), (234, 0.0), (241, 0.0), (245, 0.0), (246, 0.0), (247, 0.0), (248, 0.0), (249, 0.0), (250, 0.0), (253, 0.0), (257, 0.0), (258, 0.0), (259, 0.0), (260, 0.0), (261, 0.0), (262, 0.0), (263, 0.0), (264, 0.0), (265, 0.0), (268, 0.0), (272, 0.0), (273, 0.0), (275, 0.0), (278, 0.0), (289, 0.0), (290, 0.0), (291, 0.0), (292, 0.0), (293, 0.0), (294, 0.0), (295, 0.0), (297, 0.0), (299, 0.0), (300, 0.0), (301, 0.0), (302, 0.0), (303, 0.0), (304, 0.0), (305, 0.0), (306, 0.0), (308, 0.0), (310, 0.0), (312, 0.0), (314, 0.0), (315, 0.0), (320, 0.0), (321, 0.0), (322, 0.0), (323, 0.0), (324, 0.0), (328, 0.0), (329, 0.0), (331, 0.0), (332, 0.0), (335, 0.0), (336, 0.0), (340, 0.0), (344, 0.0), (346, 0.0), (361, 0.0), (363, 0.0), (365, 0.0), (366, 0.0), (367, 0.0), (375, 0.0), (378, 0.0), (379, 0.0), (380, 0.0), (381, 0.0), (382, 0.0), (383, 0.0), (386, 0.0), (389, 0.0), (390, 0.0), (391, 0.0), (392, 0.0), (393, 0.0), (394, 0.0), (395, 0.0), (397, 0.0), (398, 0.0), (399, 0.0), (401, 0.0), (409, 0.0), (411, 0.0), (414, 0.0), (415, 0.0), (417, 0.0), (420, 0.0), (421, 0.0), (422, 0.0), (423, 0.0), (424, 0.0), (425, 0.0), (426, 0.0), (427, 0.0), (432, 0.0), (438, 0.0), (439, 0.0), (444, 0.0), (445, 0.0), (446, 0.0), (449, 0.0), (451, 0.0), (454, 0.0), (459, 0.0), (460, 0.0), (462, 0.0), (466, 0.0), (468, 0.0), (469, 0.0), (473, 0.0), (474, 0.0), (476, 0.0), (477, 0.0), (478, 0.0), (484, 0.0), (486, 0.0), (487, 0.0), (489, 0.0), (491, 0.0), (492, 0.0), (497, 0.0), (499, 0.0), (503, 0.0), (505, 0.0), (507, 0.0), (511, 0.0), (512, 0.0), (513, 0.0), (514, 0.0), (516, 0.0), (518, 0.0), (523, 0.0), (525, 0.0), (526, 0.0), (527, 0.0), (528, 0.0), (529, 0.0), (531, 0.0), (535, 0.0), (536, 0.0), (537, 0.0), (539, 0.0), (540, 0.0), (541, 0.0), (546, 0.0), (548, 0.0), (549, 0.0), (552, 0.0), (553, 0.0), (554, 0.0), (556, 0.0), (557, 0.0), (559, 0.0), (560, 0.0), (565, 0.0), (567, 0.0), (568, 0.0), (569, 0.0), (570, 0.0), (572, 0.0), (573, 0.0), (574, 0.0), (577, 0.0), (581, 0.0), (582, 0.0), (585, 0.0), (586, 0.0), (591, 0.0), (592, 0.0), (593, 0.0), (595, 0.0), (597, 0.0), (599, 0.0), (600, 0.0), (601, 0.0), (602, 0.0), (603, 0.0), (610, 0.0), (615, 0.0), (618, 0.0), (619, 0.0), (620, 0.0), (621, 0.0), (624, 0.0), (625, 0.0), (630, 0.0), (632, 0.0), (633, 0.0), (634, 0.0), (635, 0.0), (639, 0.0), (640, 0.0), (645, 0.0), (646, 0.0), (649, 0.0), (650, 0.0), (658, 0.0), (661, 0.0), (662, 0.0), (663, 0.0), (666, 0.0), (671, 0.0), (677, 0.0), (678, 0.0), (679, 0.0), (680, 0.0), (685, 0.0), (686, 0.0), (687, 0.0), (690, 0.0), (694, 0.0), (699, 0.0), (700, 0.0), (702, 0.0), (704, 0.0), (706, 0.0), (708, 0.0), (710, 0.0), (711, 0.0), (713, 0.0), (714, 0.0), (715, 0.0), (718, 0.0), (720, 0.0), (724, 0.0), (726, 0.0), (730, 0.0), (736, 0.0), (737, 0.0), (738, 0.0), (740, 0.0), (741, 0.0), (746, 0.0), (747, 0.0), (751, 0.0), (752, 0.0), (754, 0.0), (759, 0.0), (764, 0.0), (765, 0.0), (766, 0.0), (767, 0.0), (770, 0.0), (771, 0.0), (772, 0.0), (773, 0.0), (776, 0.0), (777, 0.0), (779, 0.0), (780, 0.0), (781, 0.0), (782, 0.0), (784, 0.0), (785, 0.0), (786, 0.0), (789, 0.0), (791, 0.0), (793, 0.0), (797, 0.0), (802, 0.0), (803, 0.0), (805, 0.0), (807, 0.0), (809, 0.0), (810, 0.0), (811, 0.0), (812, 0.0), (814, 0.0), (817, 0.0), (819, 0.0), (820, 0.0), (823, 0.0), (825, 0.0), (834, 0.0), (835, 0.0), (836, 0.0), (837, 0.0), (840, 0.0), (841, 0.0), (845, 0.0), (848, 0.0), (849, 0.0), (855, 0.0), (859, 0.0), (862, 0.0), (863, 0.0), (868, 0.0), (873, 0.0), (875, 0.0), (877, 0.0), (882, 0.0), (883, 0.0), (884, 0.0), (885, 0.0), (887, 0.0), (889, 0.0), (890, 0.0), (891, 0.0), (893, 0.0), (898, 0.0), (899, 0.0), (901, 0.0), (902, 0.0), (906, 0.0), (909, 0.0), (911, 0.0), (913, 0.0), (914, 0.0), (917, 0.0), (919, 0.0), (920, 0.0), (921, 0.0), (922, 0.0), (926, 0.0), (927, 0.0), (932, 0.0), (933, 0.0), (935, 0.0), (941, 0.0), (943, 0.0), (949, 0.0), (950, 0.0), (954, 0.0), (955, 0.0), (956, 0.0), (958, 0.0), (960, 0.0), (961, 0.0), (964, 0.0), (965, 0.0), (970, 0.0), (971, 0.0), (972, 0.0), (973, 0.0), (974, 0.0), (977, 0.0), (978, 0.0), (979, 0.0), (982, 0.0), (984, 0.0), (987, 0.0), (990, 0.0), (992, 0.0), (993, 0.0), (995, 0.0), (996, 0.0), (997, 0.0), (1003, 0.0), (1011, 0.0), (1013, 0.0), (1014, 0.0), (1022, 0.0), (1025, 0.0), (1031, 0.0), (1032, 0.0), (1033, 0.0), (1036, 0.0), (1037, 0.0), (1038, 0.0), (1039, 0.0), (1043, 0.0), (1045, 0.0), (1046, 0.0), (1047, 0.0), (1048, 0.0), (1051, 0.0), (1054, 0.0), (1055, 0.0), (1056, 0.0), (1057, 0.0), (1059, 0.0), (1062, 0.0), (1066, 0.0), (1067, 0.0), (1069, 0.0), (1070, 0.0), (1072, 0.0), (1073, 0.0), (1076, 0.0), (1081, 0.0), (1082, 0.0), (1085, 0.0), (1086, 0.0), (1087, 0.0), (1089, 0.0), (1091, 0.0), (1092, 0.0), (1094, 0.0), (1096, 0.0), (1097, 0.0), (1098, 0.0), (1101, 0.0), (1103, 0.0), (1104, 0.0), (1105, 0.0), (1106, 0.0), (1108, 0.0), (1110, 0.0), (1111, 0.0), (1112, 0.0), (1113, 0.0), (1117, 0.0), (1120, 0.0), (1121, 0.0), (1124, 0.0), (1126, 0.0), (1127, 0.0), (1129, 0.0), (1135, 0.0), (1137, 0.0), (1139, 0.0), (1142, 0.0), (1143, 0.0), (1144, 0.0), (1145, 0.0), (1146, 0.0), (1147, 0.0), (1149, 0.0), (1151, 0.0), (1153, 0.0), (1154, 0.0), (1156, 0.0), (1157, 0.0), (1158, 0.0), (1159, 0.0), (1162, 0.0), (1164, 0.0), (1166, 0.0), (1167, 0.0), (1168, 0.0), (1169, 0.0), (1171, 0.0), (1172, 0.0), (1173, 0.0), (1174, 0.0), (1180, 0.0), (1181, 0.0), (1189, 0.0), (1190, 0.0), (1193, 0.0), (1194, 0.0), (1196, 0.0), (1197, 0.0), (1198, 0.0), (1200, 0.0), (1201, 0.0), (1203, 0.0), (1204, 0.0), (1205, 0.0), (1207, 0.0), (1210, 0.0), (1211, 0.0), (1212, 0.0), (1218, 0.0), (1221, 0.0), (1226, 0.0), (1227, 0.0), (1228, 0.0), (1233, 0.0), (1235, 0.0), (1239, 0.0), (1240, 0.0), (1243, 0.0), (1244, 0.0), (1246, 0.0), (1250, 0.0), (1256, 0.0), (1258, 0.0), (1260, 0.0), (1262, 0.0), (1263, 0.0), (1265, 0.0), (1266, 0.0), (1269, 0.0), (1270, 0.0), (1271, 0.0), (1272, 0.0), (1274, 0.0), (1278, 0.0), (1280, 0.0), (1281, 0.0), (1282, 0.0), (1283, 0.0), (1284, 0.0), (1285, 0.0), (1287, 0.0), (1288, 0.0), (1289, 0.0), (1291, 0.0), (1293, 0.0), (1294, 0.0), (1295, 0.0), (1296, 0.0), (1297, 0.0), (1298, 0.0), (1304, 0.0), (1307, 0.0), (1309, 0.0), (1310, 0.0), (1311, 0.0), (1312, 0.0), (1315, 0.0), (1316, 0.0), (1319, 0.0), (1321, 0.0), (1322, 0.0), (1323, 0.0), (1326, 0.0), (1327, 0.0), (1328, 0.0), (1329, 0.0), (1330, 0.0), (1331, 0.0), (1332, 0.0), (1341, 0.0), (1346, 0.0), (1347, 0.0), (1353, 0.0), (1354, 0.0), (1358, 0.0), (1359, 0.0), (1361, 0.0), (1362, 0.0), (1363, 0.0), (1367, 0.0), (1373, 0.0), (1376, 0.0), (1381, 0.0), (1384, 0.0), (1386, 0.0), (1389, 0.0), (1390, 0.0), (1391, 0.0), (1395, 0.0), (1396, 0.0), (1397, 0.0), (1399, 0.0), (1402, 0.0), (1405, 0.0), (1407, 0.0), (1416, 0.0), (1418, 0.0), (1420, 0.0), (1424, 0.0), (1425, 0.0), (1426, 0.0), (1428, 0.0), (1430, 0.0), (1433, 0.0), (1434, 0.0), (1435, 0.0), (1437, 0.0), (1439, 0.0), (1441, 0.0), (1443, 0.0), (1444, 0.0), (1445, 0.0), (1447, 0.0), (1449, 0.0), (1450, 0.0), (1452, 0.0), (1453, 0.0), (1456, 0.0), (1457, 0.0), (1459, 0.0), (1460, 0.0), (1461, 0.0), (1464, 0.0), (1465, 0.0), (1466, 0.0), (1468, 0.0), (1469, 0.0), (1470, 0.0), (1473, 0.0), (1479, 0.0), (1480, 0.0), (1482, 0.0), (1484, 0.0), (1486, 0.0), (1487, 0.0), (1490, 0.0), (1491, 0.0), (1492, 0.0), (1493, 0.0), (1495, 0.0), (1497, 0.0), (1499, 0.0), (1500, 0.0), (1501, 0.0), (1502, 0.0), (1504, 0.0), (1505, 0.0), (1508, 0.0), (1511, 0.0), (1512, 0.0), (1515, 0.0), (1516, 0.0), (1517, 0.0), (1520, 0.0), (1521, 0.0), (1522, 0.0), (1523, 0.0), (1524, 0.0), (1525, 0.0), (1526, 0.0), (1528, 0.0), (1530, 0.0), (1531, 0.0), (1532, 0.0), (1534, 0.0), (1535, 0.0), (1536, 0.0), (1540, 0.0), (1541, 0.0), (1545, 0.0), (1546, 0.0), (1548, 0.0), (1550, 0.0), (1551, 0.0), (1553, 0.0), (1554, 0.0), (1555, 0.0), (1556, 0.0), (1560, 0.0), (1562, 0.0), (1566, 0.0), (1567, 0.0), (1568, 0.0), (1571, 0.0), (1573, 0.0), (1575, 0.0), (1576, 0.0), (1577, 0.0), (1578, 0.0), (1579, 0.0), (1581, 0.0), (1583, 0.0), (1587, 0.0), (1588, 0.0), (1589, 0.0), (1590, 0.0), (1592, 0.0), (1593, 0.0), (1594, 0.0), (1596, 0.0), (1600, 0.0), (1601, 0.0), (1602, 0.0), (1603, 0.0), (1604, 0.0), (1606, 0.0), (1607, 0.0), (1609, 0.0), (1610, 0.0), (1611, 0.0), (1612, 0.0), (1613, 0.0), (1614, 0.0), (1617, 0.0), (1618, 0.0), (1622, 0.0), (1623, 0.0), (1625, 0.0), (1626, 0.0), (1631, 0.0), (1633, 0.0), (1635, 0.0), (1636, 0.0), (1637, 0.0), (1638, 0.0), (1639, 0.0), (1640, 0.0), (1641, 0.0), (1642, 0.0), (1644, 0.0), (1647, 0.0), (1650, 0.0), (1651, 0.0), (1654, 0.0), (1657, 0.0), (1659, 0.0), (1660, 0.0), (1661, 0.0), (1662, 0.0), (1663, 0.0), (1664, 0.0), (1668, 0.0), (1670, 0.0), (1672, 0.0), (1673, 0.0), (1676, 0.0), (1681, 0.0), (1684, 0.0), (1686, 0.0), (1689, 0.0), (1691, 0.0), (1692, 0.0), (1695, 0.0), (1696, 0.0), (1697, 0.0), (1698, 0.0), (1699, 0.0), (1700, 0.0), (1702, 0.0), (1704, 0.0), (1708, 0.0), (1712, 0.0), (1713, 0.0), (1720, 0.0), (1721, 0.0), (1724, 0.0), (1725, 0.0), (1728, 0.0), (1731, 0.0), (1732, 0.0), (1734, 0.0), (1737, 0.0), (1738, 0.0), (1741, 0.0), (1742, 0.0), (1745, 0.0), (1746, 0.0), (1749, 0.0), (1751, 0.0), (1752, 0.0), (1753, 0.0), (1755, 0.0), (1756, 0.0), (1758, 0.0), (1759, 0.0), (1761, 0.0), (1765, 0.0), (1766, 0.0), (1769, 0.0), (1770, 0.0), (1771, 0.0), (1773, 0.0), (1775, 0.0), (1778, 0.0), (1780, 0.0), (1783, 0.0), (1785, 0.0), (1786, 0.0), (1787, 0.0), (1788, 0.0), (1790, 0.0), (1791, 0.0), (1792, 0.0), (1793, 0.0), (1794, 0.0), (1795, 0.0), (1799, 0.0), (1800, 0.0), (1801, 0.0), (1803, 0.0), (1805, 0.0), (1807, 0.0), (1810, 0.0), (1811, 0.0), (1812, 0.0), (1814, 0.0), (1817, 0.0), (1818, 0.0), (1820, 0.0), (1823, 0.0), (1824, 0.0), (1825, 0.0), (1826, 0.0), (1829, 0.0), (1833, 0.0), (1834, 0.0), (1835, 0.0), (1836, 0.0), (1837, 0.0), (1839, 0.0), (1840, 0.0), (1841, 0.0), (1842, 0.0), (1843, 0.0), (1844, 0.0), (1846, 0.0), (1847, 0.0), (1848, 0.0), (1849, 0.0), (1850, 0.0), (1855, 0.0), (1856, 0.0), (1857, 0.0), (1860, 0.0), (1862, 0.0), (1863, 0.0), (1868, 0.0), (1872, 0.0), (1873, 0.0), (1877, 0.0), (1879, 0.0), (1880, 0.0), (1883, 0.0), (1887, 0.0), (1888, 0.0), (1889, 0.0), (1890, 0.0), (1894, 0.0), (1895, 0.0), (1898, 0.0), (1899, 0.0), (1900, 0.0), (1901, 0.0), (1904, 0.0), (1908, 0.0), (1912, 0.0), (1914, 0.0), (1915, 0.0), (1917, 0.0), (1921, 0.0), (1926, 0.0), (1927, 0.0), (1928, 0.0), (1929, 0.0), (1930, 0.0), (1932, 0.0), (1933, 0.0), (1935, 0.0), (1936, 0.0), (1938, 0.0), (1939, 0.0), (1940, 0.0), (1941, 0.0), (1944, 0.0), (1952, 0.0), (1953, 0.0), (1955, 0.0), (1956, 0.0), (1957, 0.0), (1958, 0.0), (1959, 0.0), (1961, 0.0), (1963, 0.0), (1965, 0.0), (1966, 0.0), (1972, 0.0), (1973, 0.0), (1974, 0.0), (1975, 0.0), (1976, 0.0), (1979, 0.0), (1980, 0.0), (1981, 0.0), (1984, 0.0), (1987, 0.0), (1988, 0.0), (1990, 0.0), (1993, 0.0), (1994, 0.0), (1996, 0.0), (1998, 0.0), (1999, 0.0), (2001, 0.0), (2002, 0.0), (2003, 0.0), (2005, 0.0), (2006, 0.0), (2009, 0.0), (2013, 0.0), (2014, 0.0), (2015, 0.0), (2017, 0.0), (2018, 0.0), (2020, 0.0), (2021, 0.0), (2025, 0.0), (2028, 0.0), (2030, 0.0), (2032, 0.0), (2033, 0.0), (2038, 0.0), (2041, 0.0), (2042, 0.0), (2044, 0.0), (2046, 0.0), (2047, 0.0), (2050, 0.0), (2052, 0.0), (2056, 0.0), (2057, 0.0), (2060, 0.0), (2062, 0.0), (2063, 0.0), (2066, 0.0), (2071, 0.0), (2072, 0.0), (2077, 0.0), (2078, 0.0), (2079, 0.0), (2081, 0.0), (2084, 0.0), (2085, 0.0), (2086, 0.0), (2090, 0.0), (2092, 0.0), (2093, 0.0), (2094, 0.0), (2095, 0.0), (2098, 0.0), (2099, 0.0), (2101, 0.0), (2106, 0.0), (2107, 0.0), (2109, 0.0), (2113, 0.0), (2115, 0.0), (2120, 0.0), (2123, 0.0), (2125, 0.0), (2128, 0.0), (2129, 0.0), (2130, 0.0), (2133, 0.0), (2135, 0.0), (2136, 0.0), (2137, 0.0), (2138, 0.0), (2139, 0.0), (2142, 0.0), (2145, 0.0), (2146, 0.0), (2147, 0.0), (2148, 0.0), (2150, 0.0), (2151, 0.0), (2152, 0.0), (2153, 0.0), (2156, 0.0), (2160, 0.0), (2161, 0.0), (2163, 0.0), (2165, 0.0), (2166, 0.0), (2168, 0.0), (2170, 0.0), (2171, 0.0), (2172, 0.0), (2173, 0.0), (2175, 0.0), (2177, 0.0), (2178, 0.0), (2179, 0.0), (2180, 0.0), (2181, 0.0), (2182, 0.0), (2183, 0.0), (2185, 0.0), (2186, 0.0), (2187, 0.0), (2190, 0.0), (2193, 0.0), (2194, 0.0), (2197, 0.0), (2200, 0.0), (2202, 0.0), (2203, 0.0), (2208, 0.0), (2209, 0.0), (2213, 0.0), (2215, 0.0), (2217, 0.0), (2219, 0.0), (2221, 0.0), (2222, 0.0), (2225, 0.0), (2228, 0.0), (2231, 0.0), (2232, 0.0), (2233, 0.0), (2234, 0.0), (2236, 0.0), (2238, 0.0), (2239, 0.0), (2241, 0.0), (2243, 0.0), (2244, 0.0), (2246, 0.0), (2247, 0.0), (2248, 0.0), (2249, 0.0), (2252, 0.0), (2253, 0.0), (2256, 0.0), (2259, 0.0), (2261, 0.0), (2267, 0.0), (2268, 0.0), (2270, 0.0), (2271, 0.0), (2273, 0.0), (2274, 0.0), (2278, 0.0), (2281, 0.0), (2282, 0.0), (2283, 0.0), (2285, 0.0), (2288, 0.0), (2290, 0.0), (2291, 0.0), (2292, 0.0), (2294, 0.0), (2296, 0.0), (2297, 0.0), (2298, 0.0), (2299, 0.0), (2300, 0.0), (2303, 0.0), (2304, 0.0), (2305, 0.0), (2306, 0.0), (2307, 0.0), (2308, 0.0), (2309, 0.0), (2310, 0.0), (2312, 0.0), (2314, 0.0), (2315, 0.0), (2322, 0.0), (2323, 0.0), (2325, 0.0), (2328, 0.0), (2330, 0.0), (2331, 0.0), (2332, 0.0), (2333, 0.0), (2335, 0.0), (2336, 0.0), (2337, 0.0), (2339, 0.0), (2342, 0.0), (2343, 0.0), (2352, 0.0), (2354, 0.0), (2356, 0.0), (2357, 0.0), (2358, 0.0), (2363, 0.0), (2364, 0.0), (2365, 0.0), (2366, 0.0), (2368, 0.0), (2369, 0.0), (2370, 0.0), (2371, 0.0), (2372, 0.0), (2373, 0.0), (2376, 0.0), (2377, 0.0), (2380, 0.0), (2381, 0.0), (2389, 0.0), (2392, 0.0), (2395, 0.0), (2401, 0.0), (2403, 0.0), (2404, 0.0), (2408, 0.0), (2410, 0.0), (2414, 0.0), (2417, 0.0), (2418, 0.0), (2419, 0.0), (2420, 0.0), (2424, 0.0), (2425, 0.0), (2426, 0.0), (2429, 0.0), (2431, 0.0), (2432, 0.0), (2433, 0.0), (2435, 0.0), (2439, 0.0), (2440, 0.0), (2442, 0.0), (2444, 0.0), (2445, 0.0), (2446, 0.0), (2449, 0.0), (2450, 0.0), (2451, 0.0), (2452, 0.0), (2454, 0.0), (2455, 0.0), (2456, 0.0), (2458, 0.0), (2460, 0.0), (2462, 0.0), (2463, 0.0), (2470, 0.0), (2471, 0.0), (2472, 0.0), (2476, 0.0), (2479, 0.0), (2480, 0.0), (2481, 0.0), (2483, 0.0), (2485, 0.0), (2491, 0.0), (2493, 0.0), (2495, 0.0), (2497, 0.0), (2498, 0.0), (2499, 0.0), (2500, 0.0), (2503, 0.0), (2504, 0.0), (2505, 0.0), (2506, 0.0), (2508, 0.0), (2510, 0.0), (2511, 0.0), (2513, 0.0), (2515, 0.0), (2516, 0.0), (2518, 0.0), (2519, 0.0), (2521, 0.0), (2523, 0.0), (2524, 0.0), (2532, 0.0), (2533, 0.0), (2536, 0.0), (2537, 0.0), (2539, 0.0), (2543, 0.0), (2544, 0.0), (2545, 0.0), (2547, 0.0), (2548, 0.0), (2549, 0.0), (2551, 0.0), (2557, 0.0), (2561, 0.0), (2562, 0.0), (2564, 0.0), (2565, 0.0), (2566, 0.0), (2567, 0.0), (2569, 0.0), (2571, 0.0), (2572, 0.0), (2573, 0.0), (2574, 0.0), (2575, 0.0), (2576, 0.0), (2577, 0.0), (2578, 0.0), (2581, 0.0), (2582, 0.0), (2583, 0.0), (2584, 0.0), (2588, 0.0), (2589, 0.0), (2590, 0.0), (2594, 0.0), (2595, 0.0), (2596, 0.0), (2597, 0.0), (2599, 0.0), (2600, 0.0), (2604, 0.0), (2605, 0.0), (2608, 0.0), (2610, 0.0), (2613, 0.0), (2615, 0.0), (2616, 0.0), (2618, 0.0), (2619, 0.0), (2620, 0.0), (2622, 0.0), (2624, 0.0), (2627, 0.0), (2628, 0.0), (2630, 0.0), (2631, 0.0), (2636, 0.0), (2640, 0.0), (2641, 0.0), (2644, 0.0), (2648, 0.0), (2650, 0.0), (2651, 0.0), (2654, 0.0), (2656, 0.0), (2657, 0.0), (2658, 0.0), (2659, 0.0), (2662, 0.0), (2666, 0.0), (2667, 0.0), (2669, 0.0), (2670, 0.0), (2672, 0.0), (2673, 0.0), (2675, 0.0), (2676, 0.0), (2679, 0.0), (2680, 0.0), (2681, 0.0), (2682, 0.0), (2683, 0.0), (2684, 0.0), (2685, 0.0), (2688, 0.0), (2689, 0.0), (2690, 0.0), (2691, 0.0), (2694, 0.0), (2699, 0.0), (2700, 0.0), (2701, 0.0), (2703, 0.0), (2704, 0.0), (2707, 0.0), (2708, 0.0), (2709, 0.0), (2710, 0.0), (2711, 0.0), (2713, 0.0), (2715, 0.0), (2717, 0.0), (2718, 0.0), (2719, 0.0), (2720, 0.0), (2721, 0.0), (2722, 0.0), (2725, 0.0), (2726, 0.0), (2728, 0.0), (2729, 0.0), (2732, 0.0), (2733, 0.0), (2734, 0.0), (2735, 0.0), (2737, 0.0), (2738, 0.0), (2749, 0.0), (2750, 0.0), (2753, 0.0), (2756, 0.0), (2757, 0.0), (2760, 0.0), (2762, 0.0), (2763, 0.0), (2765, 0.0), (2770, 0.0), (2773, 0.0), (2774, 0.0), (2781, 0.0), (2783, 0.0), (2785, 0.0), (2786, 0.0), (2787, 0.0), (2788, 0.0), (2789, 0.0), (2790, 0.0), (2792, 0.0), (2793, 0.0), (2799, 0.0), (2804, 0.0), (2805, 0.0), (2806, 0.0), (2807, 0.0), (2810, 0.0), (2811, 0.0), (2814, 0.0), (2815, 0.0), (2816, 0.0), (2818, 0.0), (2819, 0.0), (2820, 0.0), (2823, 0.0), (2824, 0.0), (2825, 0.0), (2827, 0.0), (2828, 0.0), (2833, 0.0), (2835, 0.0), (2836, 0.0), (2837, 0.0), (2839, 0.0), (2842, 0.0), (2843, 0.0), (2846, 0.0), (2847, 0.0), (2850, 0.0), (2851, 0.0), (2853, 0.0), (2855, 0.0), (2856, 0.0), (2858, 0.0), (2860, 0.0), (2861, 0.0), (2863, 0.0), (2864, 0.0), (2865, 0.0), (2866, 0.0), (2867, 0.0), (2868, 0.0), (2869, 0.0), (2873, 0.0), (2875, 0.0), (2877, 0.0), (2880, 0.0), (2882, 0.0), (2884, 0.0), (2885, 0.0), (2891, 0.0), (2895, 0.0), (2896, 0.0), (2898, 0.0), (2900, 0.0), (2902, 0.0), (2905, 0.0), (2906, 0.0), (2909, 0.0), (2921, 0.0), (2923, 0.0), (2927, 0.0), (2928, 0.0), (2929, 0.0), (2930, 0.0), (2936, 0.0), (2937, 0.0), (2938, 0.0), (2940, 0.0), (2941, 0.0), (2947, 0.0), (2948, 0.0), (2949, 0.0), (2950, 0.0), (2951, 0.0), (2952, 0.0), (2953, 0.0), (2954, 0.0), (2955, 0.0), (2956, 0.0), (2957, 0.0), (2958, 0.0), (2959, 0.0), (2960, 0.0), (2963, 0.0), (2964, 0.0), (2967, 0.0), (2968, 0.0), (2970, 0.0), (2971, 0.0), (2973, 0.0), (2979, 0.0), (2982, 0.0), (2983, 0.0), (2984, 0.0), (2985, 0.0), (2987, 0.0), (2990, 0.0), (2991, 0.0), (2992, 0.0), (2993, 0.0), (2994, 0.0), (2997, 0.0), (3002, 0.0), (3003, 0.0), (3005, 0.0), (3006, 0.0), (3007, 0.0), (3008, 0.0), (3009, 0.0), (3011, 0.0), (3016, 0.0), (3017, 0.0), (3018, 0.0), (3020, 0.0), (3021, 0.0), (3022, 0.0), (3023, 0.0), (3025, 0.0), (3026, 0.0), (3029, 0.0), (3030, 0.0), (3031, 0.0), (3033, 0.0), (3034, 0.0), (3035, 0.0), (3038, 0.0), (3039, 0.0), (3040, 0.0), (3042, 0.0), (3047, 0.0), (3048, 0.0), (3049, 0.0), (3052, 0.0), (3053, 0.0), (3054, 0.0), (3055, 0.0), (3057, 0.0), (3058, 0.0), (3059, 0.0), (3060, 0.0), (3061, 0.0), (3063, 0.0), (3066, 0.0), (3068, 0.0), (3073, 0.0), (3077, 0.0), (3079, 0.0), (3080, 0.0), (3082, 0.0), (3084, 0.0), (3085, 0.0), (3087, 0.0), (3088, 0.0), (3089, 0.0), (3090, 0.0), (3092, 0.0), (3093, 0.0), (3100, 0.0), (3101, 0.0), (3102, 0.0), (3103, 0.0), (3104, 0.0), (3105, 0.0), (3106, 0.0), (3109, 0.0), (3114, 0.0), (3115, 0.0), (3124, 0.0), (3126, 0.0), (3127, 0.0), (3128, 0.0), (3129, 0.0), (3131, 0.0), (3132, 0.0), (3133, 0.0), (3134, 0.0), (3136, 0.0), (3138, 0.0), (3139, 0.0), (3141, 0.0), (3143, 0.0), (3144, 0.0), (3145, 0.0), (3149, 0.0), (3156, 0.0), (3157, 0.0), (3158, 0.0), (3159, 0.0), (3160, 0.0), (3162, 0.0), (3164, 0.0), (3167, 0.0), (3168, 0.0), (3169, 0.0), (3172, 0.0), (3173, 0.0), (3174, 0.0), (3176, 0.0), (3177, 0.0), (3179, 0.0), (3180, 0.0), (3181, 0.0), (3185, 0.0), (3186, 0.0), (3188, 0.0), (3189, 0.0), (3190, 0.0), (3191, 0.0), (3193, 0.0), (3197, 0.0), (3202, 0.0), (3203, 0.0), (3204, 0.0), (3205, 0.0), (3206, 0.0), (3208, 0.0), (3209, 0.0), (3211, 0.0), (3212, 0.0), (3213, 0.0), (3216, 0.0), (3217, 0.0), (3221, 0.0), (3222, 0.0), (3225, 0.0), (3230, 0.0), (3236, 0.0), (3239, 0.0), (3242, 0.0), (3243, 0.0), (3246, 0.0), (3247, 0.0), (3249, 0.0), (3250, 0.0), (3251, 0.0), (3253, 0.0), (3255, 0.0), (3260, 0.0), (3261, 0.0), (3263, 0.0), (3265, 0.0), (3266, 0.0), (3269, 0.0), (3271, 0.0), (3272, 0.0), (3277, 0.0), (3279, 0.0), (3280, 0.0), (3281, 0.0), (3283, 0.0), (3285, 0.0), (3286, 0.0), (3287, 0.0), (3288, 0.0), (3289, 0.0), (3290, 0.0), (3292, 0.0), (3294, 0.0), (3295, 0.0), (3299, 0.0), (3305, 0.0), (3307, 0.0), (3309, 0.0), (3310, 0.0), (3313, 0.0), (3319, 0.0), (3321, 0.0), (3322, 0.0), (3323, 0.0), (3324, 0.0), (3332, 0.0), (3333, 0.0), (3335, 0.0), (3336, 0.0), (3337, 0.0), (3339, 0.0), (3340, 0.0), (3341, 0.0), (3343, 0.0), (3345, 0.0), (3348, 0.0), (3350, 0.0), (3351, 0.0), (3354, 0.0), (3356, 0.0), (3358, 0.0), (3361, 0.0), (3362, 0.0), (3367, 0.0), (3368, 0.0), (3369, 0.0), (3371, 0.0), (3372, 0.0), (3375, 0.0), (3376, 0.0), (3381, 0.0), (3383, 0.0), (3384, 0.0), (3385, 0.0), (3387, 0.0), (3390, 0.0), (3394, 0.0), (3395, 0.0), (3396, 0.0), (3397, 0.0), (3400, 0.0), (3401, 0.0), (3404, 0.0), (3405, 0.0), (3410, 0.0), (3414, 0.0), (3415, 0.0), (3416, 0.0), (3419, 0.0), (3421, 0.0), (3422, 0.0), (3423, 0.0), (3424, 0.0), (3426, 0.0), (3427, 0.0), (3428, 0.0), (3429, 0.0), (3430, 0.0), (3431, 0.0), (3432, 0.0), (3434, 0.0), (3438, 0.0), (3439, 0.0), (3440, 0.0), (3441, 0.0), (3442, 0.0), (3443, 0.0), (3444, 0.0), (3446, 0.0), (3448, 0.0), (3451, 0.0), (3454, 0.0), (3455, 0.0), (3458, 0.0), (3459, 0.0), (3461, 0.0), (3462, 0.0), (3463, 0.0), (3464, 0.0), (3468, 0.0), (3469, 0.0), (3470, 0.0), (3472, 0.0), (3473, 0.0), (3475, 0.0), (3476, 0.0), (3478, 0.0), (3480, 0.0), (3481, 0.0), (3482, 0.0), (3484, 0.0), (3485, 0.0), (3488, 0.0), (3489, 0.0), (3490, 0.0), (3491, 0.0), (3494, 0.0), (3495, 0.0), (3497, 0.0), (3502, 0.0), (3505, 0.0), (3507, 0.0), (3510, 0.0), (3513, 0.0), (3515, 0.0), (3517, 0.0), (3519, 0.0), (3522, 0.0), (3525, 0.0), (3528, 0.0), (3530, 0.0), (3531, 0.0), (3532, 0.0), (3533, 0.0), (3536, 0.0), (3537, 0.0), (3538, 0.0), (3539, 0.0), (3540, 0.0), (3543, 0.0), (3544, 0.0), (3547, 0.0), (3548, 0.0), (3549, 0.0), (3555, 0.0), (3559, 0.0), (3565, 0.0), (3567, 0.0), (3568, 0.0), (3570, 0.0), (3572, 0.0), (3573, 0.0), (3574, 0.0), (3576, 0.0), (3578, 0.0), (3580, 0.0), (3581, 0.0), (3583, 0.0), (3587, 0.0), (3588, 0.0), (3592, 0.0), (3593, 0.0), (3594, 0.0), (3595, 0.0), (3596, 0.0), (3597, 0.0), (3598, 0.0), (3599, 0.0), (3603, 0.0), (3604, 0.0), (3605, 0.0), (3606, 0.0), (3608, 0.0), (3609, 0.0), (3610, 0.0), (3611, 0.0), (3615, 0.0), (3616, 0.0), (3617, 0.0), (3619, 0.0), (3621, 0.0), (3622, 0.0), (3625, 0.0), (3627, 0.0), (3628, 0.0), (3629, 0.0), (3631, 0.0), (3632, 0.0), (3633, 0.0), (3636, 0.0), (3644, 0.0), (3647, 0.0), (3648, 0.0), (3649, 0.0), (3650, 0.0), (3658, 0.0), (3661, 0.0), (3663, 0.0), (3664, 0.0), (3671, 0.0), (3672, 0.0), (3676, 0.0), (3677, 0.0), (3679, 0.0), (3681, 0.0), (3682, 0.0), (3683, 0.0), (3685, 0.0), (3686, 0.0), (3687, 0.0), (3688, 0.0), (3690, 0.0), (3691, 0.0), (3695, 0.0), (3697, 0.0), (3698, 0.0), (3700, 0.0), (3701, 0.0), (3702, 0.0), (3703, 0.0), (3712, 0.0), (3713, 0.0), (3714, 0.0), (3715, 0.0), (3717, 0.0), (3718, 0.0), (3719, 0.0), (3720, 0.0), (3721, 0.0), (3722, 0.0), (3723, 0.0), (3724, 0.0), (3725, 0.0), (3726, 0.0), (3729, 0.0), (3732, 0.0), (3733, 0.0), (3735, 0.0), (3736, 0.0), (3737, 0.0), (3738, 0.0), (3743, 0.0), (3744, 0.0), (3747, 0.0), (3748, 0.0), (3750, 0.0), (3753, 0.0), (3757, 0.0), (3758, 0.0), (3760, 0.0), (3761, 0.0), (3762, 0.0), (3764, 0.0), (3768, 0.0), (3769, 0.0), (3770, 0.0), (3773, 0.0), (3774, 0.0), (3775, 0.0), (3779, 0.0), (3781, 0.0), (3783, 0.0), (3785, 0.0), (3786, 0.0), (3788, 0.0), (3789, 0.0), (3790, 0.0), (3791, 0.0), (3792, 0.0), (3793, 0.0), (3795, 0.0), (3796, 0.0), (3798, 0.0), (3805, 0.0), (3806, 0.0), (3808, 0.0), (3810, 0.0), (3812, 0.0), (3814, 0.0), (3815, 0.0), (3816, 0.0), (3818, 0.0), (3820, 0.0), (3821, 0.0), (3823, 0.0), (3824, 0.0), (3825, 0.0), (3830, 0.0), (3831, 0.0), (3833, 0.0), (3834, 0.0), (3836, 0.0), (3837, 0.0), (3838, 0.0), (3840, 0.0), (3841, 0.0), (3843, 0.0), (3844, 0.0), (3846, 0.0), (3850, 0.0), (3852, 0.0), (3853, 0.0), (3856, 0.0), (3857, 0.0), (3858, 0.0), (3859, 0.0), (3861, 0.0), (3863, 0.0), (3864, 0.0), (3869, 0.0), (3870, 0.0), (3871, 0.0), (3872, 0.0), (3874, 0.0), (3877, 0.0), (3878, 0.0), (3879, 0.0), (3881, 0.0), (3884, 0.0), (3885, 0.0), (3886, 0.0), (3887, 0.0), (3889, 0.0), (3891, 0.0), (3896, 0.0), (3897, 0.0), (3899, 0.0), (3905, 0.0), (3906, 0.0), (3907, 0.0), (3908, 0.0), (3909, 0.0), (3911, 0.0), (3912, 0.0), (3914, 0.0), (3916, 0.0), (3918, 0.0), (3921, 0.0), (3923, 0.0), (3926, 0.0), (3929, 0.0), (3930, 0.0), (3931, 0.0), (3934, 0.0), (3935, 0.0), (3936, 0.0), (3938, 0.0), (3939, 0.0), (3942, 0.0), (3944, 0.0), (3945, 0.0), (3948, 0.0), (3949, 0.0), (3950, 0.0), (3951, 0.0), (3955, 0.0), (3957, 0.0), (3958, 0.0), (3963, 0.0), (3964, 0.0), (3967, 0.0), (3968, 0.0), (3969, 0.0), (3970, 0.0), (3971, 0.0), (3972, 0.0), (3976, 0.0), (3977, 0.0), (3979, 0.0), (3980, 0.0), (3981, 0.0), (3982, 0.0), (3985, 0.0), (3986, 0.0), (3987, 0.0), (3988, 0.0), (3989, 0.0), (3994, 0.0), (3995, 0.0), (3996, 0.0), (3997, 0.0), (3998, 0.0), (3999, 0.0), (4001, 0.0), (4002, 0.0), (4003, 0.0), (4006, 0.0), (4007, 0.0), (4008, 0.0), (4009, 0.0), (4010, 0.0), (4012, 0.0), (4013, 0.0), (4017, 0.0), (4018, 0.0), (4019, 0.0), (4021, 0.0), (4022, 0.0), (4026, 0.0), (4027, 0.0), (4028, 0.0), (4029, 0.0), (4030, 0.0), (4031, 0.0), (4032, 0.0), (4034, 0.0), (4035, 0.0), (4037, 0.0), (4039, 0.0), (4040, 0.0), (4041, 0.0), (4042, 0.0), (4043, 0.0), (4044, 0.0), (4045, 0.0), (4047, 0.0), (4049, 0.0), (4050, 0.0), (4052, 0.0), (4055, 0.0), (4057, 0.0), (4058, 0.0), (4059, 0.0), (4061, 0.0), (4062, 0.0), (4063, 0.0), (4064, 0.0), (4065, 0.0), (4067, 0.0), (4070, 0.0), (4071, 0.0), (4072, 0.0), (4073, 0.0), (4075, 0.0), (4077, 0.0), (4078, 0.0), (4080, 0.0), (4081, 0.0), (4083, 0.0), (4084, 0.0), (4086, 0.0), (4089, 0.0), (4090, 0.0), (4091, 0.0), (4094, 0.0), (4097, 0.0), (4099, 0.0), (4100, 0.0), (4102, 0.0), (4103, 0.0), (4104, 0.0), (4106, 0.0), (4107, 0.0), (4108, 0.0), (4110, 0.0), (4114, 0.0), (4115, 0.0), (4119, 0.0), (4120, 0.0), (4126, 0.0), (4127, 0.0), (4128, 0.0), (4129, 0.0), (4131, 0.0), (4134, 0.0), (4136, 0.0), (4139, 0.0), (4140, 0.0), (4142, 0.0), (4144, 0.0), (4145, 0.0), (4146, 0.0), (4148, 0.0), (4149, 0.0), (4150, 0.0), (4153, 0.0), (4158, 0.0), (4159, 0.0), (4161, 0.0), (4162, 0.0), (4166, 0.0), (4167, 0.0), (4168, 0.0), (4170, 0.0), (4172, 0.0), (4173, 0.0), (4175, 0.0), (4177, 0.0), (4179, 0.0), (4180, 0.0), (4181, 0.0), (4184, 0.0), (4185, 0.0), (4188, 0.0), (4190, 0.0), (4191, 0.0), (4193, 0.0), (4194, 0.0), (4195, 0.0), (4196, 0.0), (4197, 0.0), (4198, 0.0), (4199, 0.0), (4201, 0.0), (4204, 0.0), (4206, 0.0), (4207, 0.0), (4208, 0.0), (4209, 0.0), (4210, 0.0), (4211, 0.0), (4212, 0.0), (4213, 0.0), (4214, 0.0), (4215, 0.0), (4217, 0.0), (4219, 0.0), (4220, 0.0), (4221, 0.0), (4222, 0.0), (4223, 0.0), (4224, 0.0), (4225, 0.0), (4226, 0.0), (4228, 0.0), (4229, 0.0), (4230, 0.0), (4234, 0.0), (4236, 0.0), (4237, 0.0), (4238, 0.0), (4239, 0.0), (4240, 0.0), (4248, 0.0), (4250, 0.0), (4251, 0.0), (4252, 0.0), (4253, 0.0), (4254, 0.0), (4256, 0.0), (4258, 0.0), (4262, 0.0), (4263, 0.0), (4264, 0.0), (4265, 0.0), (4267, 0.0), (4270, 0.0), (4271, 0.0), (4272, 0.0), (4273, 0.0), (4274, 0.0), (4275, 0.0), (4276, 0.0), (4277, 0.0), (4278, 0.0), (4279, 0.0), (4280, 0.0), (4281, 0.0), (4285, 0.0), (4290, 0.0), (4291, 0.0), (4294, 0.0), (4296, 0.0), (4297, 0.0), (4298, 0.0), (4299, 0.0), (4300, 0.0), (4301, 0.0), (4302, 0.0), (4303, 0.0), (4304, 0.0), (4305, 0.0), (4306, 0.0), (4307, 0.0), (4308, 0.0), (4310, 0.0), (4312, 0.0), (4313, 0.0), (4315, 0.0), (4316, 0.0), (4317, 0.0), (4318, 0.0), (4319, 0.0), (4320, 0.0), (4322, 0.0), (4323, 0.0), (4324, 0.0), (4326, 0.0), (4327, 0.0), (4328, 0.0), (4329, 0.0), (4331, 0.0), (4332, 0.0), (4337, 0.0), (4338, 0.0), (4339, 0.0), (4340, 0.0), (4341, 0.0), (4342, 0.0), (4346, 0.0), (4347, 0.0), (4348, 0.0), (4349, 0.0), (4352, 0.0), (4353, 0.0), (4354, 0.0), (4355, 0.0), (4358, 0.0), (4359, 0.0), (4360, 0.0), (4361, 0.0), (4363, 0.0), (4364, 0.0), (4365, 0.0), (4367, 0.0), (4370, 0.0), (4372, 0.0), (4373, 0.0), (4375, 0.0), (4376, 0.0), (4377, 0.0), (4381, 0.0), (4383, 0.0), (4384, 0.0), (4385, 0.0), (4386, 0.0), (4388, 0.0), (4389, 0.0), (4390, 0.0), (4391, 0.0), (4392, 0.0), (4393, 0.0), (4395, 0.0), (4396, 0.0), (4397, 0.0), (4398, 0.0), (4399, 0.0), (4400, 0.0), (4404, 0.0), (4406, 0.0), (4407, 0.0), (4408, 0.0), (4409, 0.0), (4413, 0.0), (4414, 0.0), (4415, 0.0), (4416, 0.0), (4417, 0.0), (4418, 0.0), (4421, 0.0), (4423, 0.0), (4424, 0.0), (4425, 0.0), (4427, 0.0), (4428, 0.0), (4431, 0.0), (4433, 0.0), (4434, 0.0), (4437, 0.0), (4438, 0.0), (4439, 0.0), (4440, 0.0), (4447, 0.0), (4449, 0.0), (4452, 0.0), (4453, 0.0), (4455, 0.0), (4456, 0.0), (4457, 0.0), (4458, 0.0), (4460, 0.0), (4461, 0.0), (4462, 0.0), (4463, 0.0), (4464, 0.0), (4466, 0.0), (4467, 0.0), (4468, 0.0), (4471, 0.0), (4476, 0.0), (4478, 0.0), (4480, 0.0), (4482, 0.0), (4483, 0.0), (4485, 0.0), (4486, 0.0), (4488, 0.0), (4491, 0.0), (4492, 0.0), (4493, 0.0), (4495, 0.0), (4498, 0.0), (4499, 0.0), (4500, 0.0), (4504, 0.0), (4505, 0.0), (4506, 0.0), (4508, 0.0), (4509, 0.0), (4513, 0.0), (4514, 0.0), (4515, 0.0), (4518, 0.0), (4519, 0.0), (4524, 0.0), (4525, 0.0), (4526, 0.0), (4527, 0.0), (4532, 0.0), (4537, 0.0), (4538, 0.0), (4539, 0.0), (4540, 0.0), (4541, 0.0), (4542, 0.0), (4544, 0.0), (4545, 0.0), (4547, 0.0), (4549, 0.0), (4550, 0.0), (4552, 0.0), (4556, 0.0), (4558, 0.0), (4559, 0.0), (4560, 0.0), (4561, 0.0), (4562, 0.0), (4565, 0.0), (4568, 0.0), (4569, 0.0), (4570, 0.0), (4572, 0.0), (4574, 0.0), (4578, 0.0), (4579, 0.0), (4580, 0.0), (4583, 0.0), (4584, 0.0), (4585, 0.0), (4586, 0.0), (4587, 0.0), (4588, 0.0), (4595, 0.0), (4597, 0.0), (4598, 0.0), (4599, 0.0), (4600, 0.0), (4602, 0.0), (4604, 0.0), (4605, 0.0), (4608, 0.0), (4609, 0.0), (4611, 0.0), (4612, 0.0), (4613, 0.0), (4614, 0.0), (4615, 0.0), (4616, 0.0), (4618, 0.0), (4620, 0.0), (4621, 0.0), (4622, 0.0), (4627, 0.0), (4628, 0.0), (4630, 0.0), (4631, 0.0), (4633, 0.0), (4634, 0.0), (4639, 0.0), (4642, 0.0), (4644, 0.0), (4645, 0.0), (4646, 0.0), (4648, 0.0), (4649, 0.0), (4651, 0.0), (4653, 0.0), (4654, 0.0), (4655, 0.0), (4659, 0.0), (4661, 0.0), (4663, 0.0), (4664, 0.0), (4665, 0.0), (4666, 0.0), (4667, 0.0), (4671, 0.0), (4672, 0.0), (4676, 0.0), (4678, 0.0), (4680, 0.0), (4681, 0.0), (4682, 0.0), (4683, 0.0), (4685, 0.0), (4686, 0.0), (4687, 0.0), (4689, 0.0), (4690, 0.0), (4691, 0.0), (4692, 0.0), (4693, 0.0), (4694, 0.0), (4695, 0.0), (4696, 0.0), (4697, 0.0), (4698, 0.0), (4700, 0.0), (4702, 0.0), (4703, 0.0), (4704, 0.0), (4705, 0.0), (4707, 0.0), (4708, 0.0), (4709, 0.0), (4711, 0.0), (4714, 0.0), (4715, 0.0), (4716, 0.0), (4717, 0.0), (4719, 0.0), (4720, 0.0), (4721, 0.0), (4725, 0.0), (4728, 0.0), (4729, 0.0), (4730, 0.0), (4732, 0.0), (4737, 0.0), (4738, 0.0), (4740, 0.0), (4742, 0.0), (4744, 0.0), (4745, 0.0), (4746, 0.0), (4748, 0.0), (4749, 0.0), (4750, 0.0), (4751, 0.0), (4753, 0.0), (4754, 0.0), (4755, 0.0), (4758, 0.0), (4759, 0.0)]\n"
          ]
        }
      ]
    },
    {
      "cell_type": "code",
      "source": [
        "print('Top 30 Movies suggested for you : \\n')\n",
        "i=1\n",
        "for movie in Sorted_Similar_Movies:\n",
        "  index=movie[0]\n",
        "  title_from_index=df[df.index==index]['Movie_Title'].values[0]\n",
        "  if (i<31):\n",
        "    print(i,'.',title_from_index)\n",
        "    i+=1\n"
      ],
      "metadata": {
        "colab": {
          "base_uri": "https://localhost:8080/"
        },
        "id": "xI-DxVb3cRB2",
        "outputId": "a3ba8ef7-bb30-47ac-e311-292b0078d9cf"
      },
      "execution_count": null,
      "outputs": [
        {
          "output_type": "stream",
          "name": "stdout",
          "text": [
            "Top 30 Movies suggested for you : \n",
            "\n",
            "1 . Glengarry Glen Ross\n",
            "2 . Let's Kill Ward's Wife\n",
            "3 . Shade\n",
            "4 . Magic Mike\n",
            "5 . All That Jazz\n",
            "6 . Donnie Brasco\n",
            "7 . Scarface\n",
            "8 . The Son of No One\n",
            "9 . Sea of Love\n",
            "10 . The Hunt for Red October\n",
            "11 . Insomnia\n",
            "12 . Thomas and the Magic Railroad\n",
            "13 . Miss Congeniality\n",
            "14 . Mercury Rising\n",
            "15 . Still Alice\n",
            "16 . The Godfather: Part III\n",
            "17 . Ocean's Thirteen\n",
            "18 . The Last Shot\n",
            "19 . The Jerky Boys\n",
            "20 . Get Smart\n",
            "21 . Righteous Kill\n",
            "22 . The Californians\n",
            "23 . The Haunted Mansion\n",
            "24 . City Hall\n",
            "25 . Edward Scissorhands\n",
            "26 . The Devil's Advocate\n",
            "27 . Jack and Jill\n",
            "28 . The Untouchables\n",
            "29 . Blue Jasmine\n",
            "30 . Some Like It Hot\n"
          ]
        }
      ]
    },
    {
      "cell_type": "code",
      "source": [
        "Movies_Name = input('Enter your Favorite movie name :')\n",
        "list_of_all_titles = df['Movie_Title']\n",
        "list_of_all_titles = list_of_all_titles.tolist()\n",
        "Find_Close_Match = difflib.get_close_matches(Movies_Name,list_of_all_titles)\n",
        "Close_Match = Find_Close_Match[0]\n",
        "Index_of_Movie = df[df.Movie_Title == Close_Match]['Movie_ID'].values[0]\n",
        "Recommendation_Score = list(enumerate(similarity_score[Index_of_Movie]))\n",
        "Sorted_Similar_Movies = sorted(Recommendation_Score,key = lambda x:x[1],reverse=True)\n",
        "print('Top 10 Movies suggested for you : \\n')\n",
        "i=1\n",
        "for movie in Sorted_Similar_Movies:\n",
        "  index=movie[0]\n",
        "  title_from_index=df[df.index==index]['Movie_Title'].values[0]\n",
        "  if (i<11):\n",
        "    print(i,'.',title_from_index)\n",
        "    i+=1\n",
        "\n"
      ],
      "metadata": {
        "colab": {
          "base_uri": "https://localhost:8080/"
        },
        "id": "cbAKiVY6ce4U",
        "outputId": "0518e2a2-41d4-458c-e5c6-88fd0d780e84"
      },
      "execution_count": null,
      "outputs": [
        {
          "output_type": "stream",
          "name": "stdout",
          "text": [
            "Enter your Favorite movie name :avtaar\n",
            "Top 10 Movies suggested for you : \n",
            "\n",
            "1 . Niagara\n",
            "2 . Some Like It Hot\n",
            "3 . The Kentucky Fried Movie\n",
            "4 . The Juror\n",
            "5 . Enough\n",
            "6 . Duel in the Sun\n",
            "7 . Superman III\n",
            "8 . Eye for an Eye\n",
            "9 . The Misfits\n",
            "10 . Beyond the Black Rainbow\n"
          ]
        }
      ]
    },
    {
      "cell_type": "code",
      "source": [],
      "metadata": {
        "id": "WrN8eS7zdIVz"
      },
      "execution_count": null,
      "outputs": []
    }
  ]
}